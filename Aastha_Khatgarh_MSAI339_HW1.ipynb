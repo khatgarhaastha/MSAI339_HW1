{
  "nbformat": 4,
  "nbformat_minor": 0,
  "metadata": {
    "colab": {
      "provenance": [],
      "include_colab_link": true
    },
    "kernelspec": {
      "name": "python3",
      "display_name": "Python 3"
    },
    "language_info": {
      "name": "python"
    }
  },
  "cells": [
    {
      "cell_type": "markdown",
      "metadata": {
        "id": "view-in-github",
        "colab_type": "text"
      },
      "source": [
        "<a href=\"https://colab.research.google.com/github/khatgarhaastha/MSAI339_HW1/blob/main/Aastha_Khatgarh_MSAI339_HW1.ipynb\" target=\"_parent\"><img src=\"https://colab.research.google.com/assets/colab-badge.svg\" alt=\"Open In Colab\"/></a>"
      ]
    },
    {
      "cell_type": "markdown",
      "source": [
        "**Homework 1**\n",
        "\n",
        "The purpose of Homework 1 is to use Python to perform data analysis to solve some business questions related to a hotels business.<br>\n",
        "<br>\n"
      ],
      "metadata": {
        "id": "zYdezS2t-rls"
      }
    },
    {
      "cell_type": "code",
      "source": [
        "#code to directly monunt the datasets from google drive\n",
        "\n",
        "#from google.colab import drive\n",
        "#drive.mount('/content/drive')\n"
      ],
      "metadata": {
        "id": "UfvWqYMnWyFD"
      },
      "execution_count": 234,
      "outputs": []
    },
    {
      "cell_type": "markdown",
      "source": [
        "Some useful libraries - more could be necessary"
      ],
      "metadata": {
        "id": "PjeUHa3O-2Ty"
      }
    },
    {
      "cell_type": "code",
      "execution_count": 235,
      "metadata": {
        "id": "2ivsWzG5-m2Q"
      },
      "outputs": [],
      "source": [
        "import pandas as pd #used for data manipulatoin and analysis, particularly tables\n",
        "import matplotlib.pyplot as plt #Basic plotting library\n",
        "import seaborn as sns #Build on matplotlib, provides visually appealing plots\n",
        "import numpy as np #For numerical computations\n",
        "import re #commonly used for string matching, search and manipulation operations"
      ]
    },
    {
      "cell_type": "markdown",
      "source": [
        "Question 0: Import the hotels data into your environment, and generate a unique ID.\n",
        "\n"
      ],
      "metadata": {
        "id": "BQ18bJv8_SDr"
      }
    },
    {
      "cell_type": "markdown",
      "source": [
        "**Adding id as a unique identifier**"
      ],
      "metadata": {
        "id": "H7Hnm2wVDCLw"
      }
    },
    {
      "cell_type": "code",
      "source": [
        "#file_path = '/content/drive/MyDrive/MSAI339 HW1/hotel_data.csv'"
      ],
      "metadata": {
        "id": "7Kw-AMqrZE8n"
      },
      "execution_count": 236,
      "outputs": []
    },
    {
      "cell_type": "code",
      "source": [
        "print('Upload the hotel_data.csv file')"
      ],
      "metadata": {
        "colab": {
          "base_uri": "https://localhost:8080/"
        },
        "id": "z4Zq7cprBtZM",
        "outputId": "0b65baed-adfb-4935-fa55-0dade3393b81"
      },
      "execution_count": 237,
      "outputs": [
        {
          "output_type": "stream",
          "name": "stdout",
          "text": [
            "Upload the hotel_data.csv file\n"
          ]
        }
      ]
    },
    {
      "cell_type": "code",
      "source": [
        "#df = pd.read_csv(file_path) #Loading data from csv file into a pandas dataframe 'df' through drive\n",
        "\n",
        "df = pd.read_csv('hotel_data.csv')\n",
        "df['id'] = df.index + 1 # Adding an id colums which starts from 1 and increments for each row\n",
        "\n",
        "# After printing the columns list, id column was at the end, below code snippet is to move id to the front\n",
        "\n",
        "col_list = list(df.columns)\n",
        "if 'id' in col_list:\n",
        "  col_list.remove('id')\n",
        "  col_list.insert(0,'id')\n",
        "\n",
        "df = df[col_list]\n",
        "\n",
        "\n",
        "l = list(df.columns)\n",
        "print('Total columns including id:', len(l))\n",
        "print('List of columns in hotel_data.csv file:', l, \"\\n\\n\")\n",
        "\n",
        "df.head().style"
      ],
      "metadata": {
        "id": "tUu8TavY_Rwz",
        "colab": {
          "base_uri": "https://localhost:8080/",
          "height": 384
        },
        "outputId": "29f3627b-9576-4ca3-d877-93ace65e7561"
      },
      "execution_count": 238,
      "outputs": [
        {
          "output_type": "stream",
          "name": "stdout",
          "text": [
            "Total columns including id: 33\n",
            "List of columns in hotel_data.csv file: ['id', 'hotel', 'is_canceled', 'lead_time', 'arrival_date_year', 'arrival_date_month', 'arrival_date_week_number', 'arrival_date_day_of_month', 'stays_in_weekend_nights', 'stays_in_week_nights', 'adults', 'children', 'babies', 'meal', 'country', 'market_segment', 'distribution_channel', 'is_repeated_guest', 'previous_cancellations', 'previous_bookings_not_canceled', 'reserved_room_type', 'assigned_room_type', 'booking_changes', 'deposit_type', 'agent', 'company', 'days_in_waiting_list', 'customer_type', 'adr', 'required_car_parking_spaces', 'total_of_special_requests', 'reservation_status', 'reservation_status_date'] \n",
            "\n",
            "\n"
          ]
        },
        {
          "output_type": "execute_result",
          "data": {
            "text/plain": [
              "<pandas.io.formats.style.Styler at 0x7badd47e3280>"
            ],
            "text/html": [
              "<style type=\"text/css\">\n",
              "</style>\n",
              "<table id=\"T_87780\" class=\"dataframe\">\n",
              "  <thead>\n",
              "    <tr>\n",
              "      <th class=\"blank level0\" >&nbsp;</th>\n",
              "      <th id=\"T_87780_level0_col0\" class=\"col_heading level0 col0\" >id</th>\n",
              "      <th id=\"T_87780_level0_col1\" class=\"col_heading level0 col1\" >hotel</th>\n",
              "      <th id=\"T_87780_level0_col2\" class=\"col_heading level0 col2\" >is_canceled</th>\n",
              "      <th id=\"T_87780_level0_col3\" class=\"col_heading level0 col3\" >lead_time</th>\n",
              "      <th id=\"T_87780_level0_col4\" class=\"col_heading level0 col4\" >arrival_date_year</th>\n",
              "      <th id=\"T_87780_level0_col5\" class=\"col_heading level0 col5\" >arrival_date_month</th>\n",
              "      <th id=\"T_87780_level0_col6\" class=\"col_heading level0 col6\" >arrival_date_week_number</th>\n",
              "      <th id=\"T_87780_level0_col7\" class=\"col_heading level0 col7\" >arrival_date_day_of_month</th>\n",
              "      <th id=\"T_87780_level0_col8\" class=\"col_heading level0 col8\" >stays_in_weekend_nights</th>\n",
              "      <th id=\"T_87780_level0_col9\" class=\"col_heading level0 col9\" >stays_in_week_nights</th>\n",
              "      <th id=\"T_87780_level0_col10\" class=\"col_heading level0 col10\" >adults</th>\n",
              "      <th id=\"T_87780_level0_col11\" class=\"col_heading level0 col11\" >children</th>\n",
              "      <th id=\"T_87780_level0_col12\" class=\"col_heading level0 col12\" >babies</th>\n",
              "      <th id=\"T_87780_level0_col13\" class=\"col_heading level0 col13\" >meal</th>\n",
              "      <th id=\"T_87780_level0_col14\" class=\"col_heading level0 col14\" >country</th>\n",
              "      <th id=\"T_87780_level0_col15\" class=\"col_heading level0 col15\" >market_segment</th>\n",
              "      <th id=\"T_87780_level0_col16\" class=\"col_heading level0 col16\" >distribution_channel</th>\n",
              "      <th id=\"T_87780_level0_col17\" class=\"col_heading level0 col17\" >is_repeated_guest</th>\n",
              "      <th id=\"T_87780_level0_col18\" class=\"col_heading level0 col18\" >previous_cancellations</th>\n",
              "      <th id=\"T_87780_level0_col19\" class=\"col_heading level0 col19\" >previous_bookings_not_canceled</th>\n",
              "      <th id=\"T_87780_level0_col20\" class=\"col_heading level0 col20\" >reserved_room_type</th>\n",
              "      <th id=\"T_87780_level0_col21\" class=\"col_heading level0 col21\" >assigned_room_type</th>\n",
              "      <th id=\"T_87780_level0_col22\" class=\"col_heading level0 col22\" >booking_changes</th>\n",
              "      <th id=\"T_87780_level0_col23\" class=\"col_heading level0 col23\" >deposit_type</th>\n",
              "      <th id=\"T_87780_level0_col24\" class=\"col_heading level0 col24\" >agent</th>\n",
              "      <th id=\"T_87780_level0_col25\" class=\"col_heading level0 col25\" >company</th>\n",
              "      <th id=\"T_87780_level0_col26\" class=\"col_heading level0 col26\" >days_in_waiting_list</th>\n",
              "      <th id=\"T_87780_level0_col27\" class=\"col_heading level0 col27\" >customer_type</th>\n",
              "      <th id=\"T_87780_level0_col28\" class=\"col_heading level0 col28\" >adr</th>\n",
              "      <th id=\"T_87780_level0_col29\" class=\"col_heading level0 col29\" >required_car_parking_spaces</th>\n",
              "      <th id=\"T_87780_level0_col30\" class=\"col_heading level0 col30\" >total_of_special_requests</th>\n",
              "      <th id=\"T_87780_level0_col31\" class=\"col_heading level0 col31\" >reservation_status</th>\n",
              "      <th id=\"T_87780_level0_col32\" class=\"col_heading level0 col32\" >reservation_status_date</th>\n",
              "    </tr>\n",
              "  </thead>\n",
              "  <tbody>\n",
              "    <tr>\n",
              "      <th id=\"T_87780_level0_row0\" class=\"row_heading level0 row0\" >0</th>\n",
              "      <td id=\"T_87780_row0_col0\" class=\"data row0 col0\" >1</td>\n",
              "      <td id=\"T_87780_row0_col1\" class=\"data row0 col1\" >Resort Hotel</td>\n",
              "      <td id=\"T_87780_row0_col2\" class=\"data row0 col2\" >0</td>\n",
              "      <td id=\"T_87780_row0_col3\" class=\"data row0 col3\" >342</td>\n",
              "      <td id=\"T_87780_row0_col4\" class=\"data row0 col4\" >2015</td>\n",
              "      <td id=\"T_87780_row0_col5\" class=\"data row0 col5\" >July</td>\n",
              "      <td id=\"T_87780_row0_col6\" class=\"data row0 col6\" >27</td>\n",
              "      <td id=\"T_87780_row0_col7\" class=\"data row0 col7\" >1</td>\n",
              "      <td id=\"T_87780_row0_col8\" class=\"data row0 col8\" >0</td>\n",
              "      <td id=\"T_87780_row0_col9\" class=\"data row0 col9\" >0</td>\n",
              "      <td id=\"T_87780_row0_col10\" class=\"data row0 col10\" >2</td>\n",
              "      <td id=\"T_87780_row0_col11\" class=\"data row0 col11\" >0.000000</td>\n",
              "      <td id=\"T_87780_row0_col12\" class=\"data row0 col12\" >0</td>\n",
              "      <td id=\"T_87780_row0_col13\" class=\"data row0 col13\" >BB</td>\n",
              "      <td id=\"T_87780_row0_col14\" class=\"data row0 col14\" >PRT</td>\n",
              "      <td id=\"T_87780_row0_col15\" class=\"data row0 col15\" >Direct</td>\n",
              "      <td id=\"T_87780_row0_col16\" class=\"data row0 col16\" >Direct</td>\n",
              "      <td id=\"T_87780_row0_col17\" class=\"data row0 col17\" >0</td>\n",
              "      <td id=\"T_87780_row0_col18\" class=\"data row0 col18\" >0</td>\n",
              "      <td id=\"T_87780_row0_col19\" class=\"data row0 col19\" >0</td>\n",
              "      <td id=\"T_87780_row0_col20\" class=\"data row0 col20\" >C</td>\n",
              "      <td id=\"T_87780_row0_col21\" class=\"data row0 col21\" >C</td>\n",
              "      <td id=\"T_87780_row0_col22\" class=\"data row0 col22\" >3</td>\n",
              "      <td id=\"T_87780_row0_col23\" class=\"data row0 col23\" >No Deposit</td>\n",
              "      <td id=\"T_87780_row0_col24\" class=\"data row0 col24\" >nan</td>\n",
              "      <td id=\"T_87780_row0_col25\" class=\"data row0 col25\" >nan</td>\n",
              "      <td id=\"T_87780_row0_col26\" class=\"data row0 col26\" >0</td>\n",
              "      <td id=\"T_87780_row0_col27\" class=\"data row0 col27\" >Transient</td>\n",
              "      <td id=\"T_87780_row0_col28\" class=\"data row0 col28\" >0.000000</td>\n",
              "      <td id=\"T_87780_row0_col29\" class=\"data row0 col29\" >0</td>\n",
              "      <td id=\"T_87780_row0_col30\" class=\"data row0 col30\" >0</td>\n",
              "      <td id=\"T_87780_row0_col31\" class=\"data row0 col31\" >Check-Out</td>\n",
              "      <td id=\"T_87780_row0_col32\" class=\"data row0 col32\" >2015-07-01</td>\n",
              "    </tr>\n",
              "    <tr>\n",
              "      <th id=\"T_87780_level0_row1\" class=\"row_heading level0 row1\" >1</th>\n",
              "      <td id=\"T_87780_row1_col0\" class=\"data row1 col0\" >2</td>\n",
              "      <td id=\"T_87780_row1_col1\" class=\"data row1 col1\" >Resort Hotel</td>\n",
              "      <td id=\"T_87780_row1_col2\" class=\"data row1 col2\" >0</td>\n",
              "      <td id=\"T_87780_row1_col3\" class=\"data row1 col3\" >737</td>\n",
              "      <td id=\"T_87780_row1_col4\" class=\"data row1 col4\" >2015</td>\n",
              "      <td id=\"T_87780_row1_col5\" class=\"data row1 col5\" >July</td>\n",
              "      <td id=\"T_87780_row1_col6\" class=\"data row1 col6\" >27</td>\n",
              "      <td id=\"T_87780_row1_col7\" class=\"data row1 col7\" >1</td>\n",
              "      <td id=\"T_87780_row1_col8\" class=\"data row1 col8\" >0</td>\n",
              "      <td id=\"T_87780_row1_col9\" class=\"data row1 col9\" >0</td>\n",
              "      <td id=\"T_87780_row1_col10\" class=\"data row1 col10\" >2</td>\n",
              "      <td id=\"T_87780_row1_col11\" class=\"data row1 col11\" >0.000000</td>\n",
              "      <td id=\"T_87780_row1_col12\" class=\"data row1 col12\" >0</td>\n",
              "      <td id=\"T_87780_row1_col13\" class=\"data row1 col13\" >BB</td>\n",
              "      <td id=\"T_87780_row1_col14\" class=\"data row1 col14\" >PRT</td>\n",
              "      <td id=\"T_87780_row1_col15\" class=\"data row1 col15\" >Direct</td>\n",
              "      <td id=\"T_87780_row1_col16\" class=\"data row1 col16\" >Direct</td>\n",
              "      <td id=\"T_87780_row1_col17\" class=\"data row1 col17\" >0</td>\n",
              "      <td id=\"T_87780_row1_col18\" class=\"data row1 col18\" >0</td>\n",
              "      <td id=\"T_87780_row1_col19\" class=\"data row1 col19\" >0</td>\n",
              "      <td id=\"T_87780_row1_col20\" class=\"data row1 col20\" >C</td>\n",
              "      <td id=\"T_87780_row1_col21\" class=\"data row1 col21\" >C</td>\n",
              "      <td id=\"T_87780_row1_col22\" class=\"data row1 col22\" >4</td>\n",
              "      <td id=\"T_87780_row1_col23\" class=\"data row1 col23\" >No Deposit</td>\n",
              "      <td id=\"T_87780_row1_col24\" class=\"data row1 col24\" >nan</td>\n",
              "      <td id=\"T_87780_row1_col25\" class=\"data row1 col25\" >nan</td>\n",
              "      <td id=\"T_87780_row1_col26\" class=\"data row1 col26\" >0</td>\n",
              "      <td id=\"T_87780_row1_col27\" class=\"data row1 col27\" >Transient</td>\n",
              "      <td id=\"T_87780_row1_col28\" class=\"data row1 col28\" >0.000000</td>\n",
              "      <td id=\"T_87780_row1_col29\" class=\"data row1 col29\" >0</td>\n",
              "      <td id=\"T_87780_row1_col30\" class=\"data row1 col30\" >0</td>\n",
              "      <td id=\"T_87780_row1_col31\" class=\"data row1 col31\" >Check-Out</td>\n",
              "      <td id=\"T_87780_row1_col32\" class=\"data row1 col32\" >2015-07-01</td>\n",
              "    </tr>\n",
              "    <tr>\n",
              "      <th id=\"T_87780_level0_row2\" class=\"row_heading level0 row2\" >2</th>\n",
              "      <td id=\"T_87780_row2_col0\" class=\"data row2 col0\" >3</td>\n",
              "      <td id=\"T_87780_row2_col1\" class=\"data row2 col1\" >Resort Hotel</td>\n",
              "      <td id=\"T_87780_row2_col2\" class=\"data row2 col2\" >0</td>\n",
              "      <td id=\"T_87780_row2_col3\" class=\"data row2 col3\" >7</td>\n",
              "      <td id=\"T_87780_row2_col4\" class=\"data row2 col4\" >2015</td>\n",
              "      <td id=\"T_87780_row2_col5\" class=\"data row2 col5\" >July</td>\n",
              "      <td id=\"T_87780_row2_col6\" class=\"data row2 col6\" >27</td>\n",
              "      <td id=\"T_87780_row2_col7\" class=\"data row2 col7\" >1</td>\n",
              "      <td id=\"T_87780_row2_col8\" class=\"data row2 col8\" >0</td>\n",
              "      <td id=\"T_87780_row2_col9\" class=\"data row2 col9\" >1</td>\n",
              "      <td id=\"T_87780_row2_col10\" class=\"data row2 col10\" >1</td>\n",
              "      <td id=\"T_87780_row2_col11\" class=\"data row2 col11\" >0.000000</td>\n",
              "      <td id=\"T_87780_row2_col12\" class=\"data row2 col12\" >0</td>\n",
              "      <td id=\"T_87780_row2_col13\" class=\"data row2 col13\" >BB</td>\n",
              "      <td id=\"T_87780_row2_col14\" class=\"data row2 col14\" >GBR</td>\n",
              "      <td id=\"T_87780_row2_col15\" class=\"data row2 col15\" >Direct</td>\n",
              "      <td id=\"T_87780_row2_col16\" class=\"data row2 col16\" >Direct</td>\n",
              "      <td id=\"T_87780_row2_col17\" class=\"data row2 col17\" >0</td>\n",
              "      <td id=\"T_87780_row2_col18\" class=\"data row2 col18\" >0</td>\n",
              "      <td id=\"T_87780_row2_col19\" class=\"data row2 col19\" >0</td>\n",
              "      <td id=\"T_87780_row2_col20\" class=\"data row2 col20\" >A</td>\n",
              "      <td id=\"T_87780_row2_col21\" class=\"data row2 col21\" >C</td>\n",
              "      <td id=\"T_87780_row2_col22\" class=\"data row2 col22\" >0</td>\n",
              "      <td id=\"T_87780_row2_col23\" class=\"data row2 col23\" >No Deposit</td>\n",
              "      <td id=\"T_87780_row2_col24\" class=\"data row2 col24\" >nan</td>\n",
              "      <td id=\"T_87780_row2_col25\" class=\"data row2 col25\" >nan</td>\n",
              "      <td id=\"T_87780_row2_col26\" class=\"data row2 col26\" >0</td>\n",
              "      <td id=\"T_87780_row2_col27\" class=\"data row2 col27\" >Transient</td>\n",
              "      <td id=\"T_87780_row2_col28\" class=\"data row2 col28\" >75.000000</td>\n",
              "      <td id=\"T_87780_row2_col29\" class=\"data row2 col29\" >0</td>\n",
              "      <td id=\"T_87780_row2_col30\" class=\"data row2 col30\" >0</td>\n",
              "      <td id=\"T_87780_row2_col31\" class=\"data row2 col31\" >Check-Out</td>\n",
              "      <td id=\"T_87780_row2_col32\" class=\"data row2 col32\" >2015-07-02</td>\n",
              "    </tr>\n",
              "    <tr>\n",
              "      <th id=\"T_87780_level0_row3\" class=\"row_heading level0 row3\" >3</th>\n",
              "      <td id=\"T_87780_row3_col0\" class=\"data row3 col0\" >4</td>\n",
              "      <td id=\"T_87780_row3_col1\" class=\"data row3 col1\" >Resort Hotel</td>\n",
              "      <td id=\"T_87780_row3_col2\" class=\"data row3 col2\" >0</td>\n",
              "      <td id=\"T_87780_row3_col3\" class=\"data row3 col3\" >13</td>\n",
              "      <td id=\"T_87780_row3_col4\" class=\"data row3 col4\" >2015</td>\n",
              "      <td id=\"T_87780_row3_col5\" class=\"data row3 col5\" >July</td>\n",
              "      <td id=\"T_87780_row3_col6\" class=\"data row3 col6\" >27</td>\n",
              "      <td id=\"T_87780_row3_col7\" class=\"data row3 col7\" >1</td>\n",
              "      <td id=\"T_87780_row3_col8\" class=\"data row3 col8\" >0</td>\n",
              "      <td id=\"T_87780_row3_col9\" class=\"data row3 col9\" >1</td>\n",
              "      <td id=\"T_87780_row3_col10\" class=\"data row3 col10\" >1</td>\n",
              "      <td id=\"T_87780_row3_col11\" class=\"data row3 col11\" >0.000000</td>\n",
              "      <td id=\"T_87780_row3_col12\" class=\"data row3 col12\" >0</td>\n",
              "      <td id=\"T_87780_row3_col13\" class=\"data row3 col13\" >BB</td>\n",
              "      <td id=\"T_87780_row3_col14\" class=\"data row3 col14\" >GBR</td>\n",
              "      <td id=\"T_87780_row3_col15\" class=\"data row3 col15\" >Corporate</td>\n",
              "      <td id=\"T_87780_row3_col16\" class=\"data row3 col16\" >Corporate</td>\n",
              "      <td id=\"T_87780_row3_col17\" class=\"data row3 col17\" >0</td>\n",
              "      <td id=\"T_87780_row3_col18\" class=\"data row3 col18\" >0</td>\n",
              "      <td id=\"T_87780_row3_col19\" class=\"data row3 col19\" >0</td>\n",
              "      <td id=\"T_87780_row3_col20\" class=\"data row3 col20\" >A</td>\n",
              "      <td id=\"T_87780_row3_col21\" class=\"data row3 col21\" >A</td>\n",
              "      <td id=\"T_87780_row3_col22\" class=\"data row3 col22\" >0</td>\n",
              "      <td id=\"T_87780_row3_col23\" class=\"data row3 col23\" >No Deposit</td>\n",
              "      <td id=\"T_87780_row3_col24\" class=\"data row3 col24\" >304.000000</td>\n",
              "      <td id=\"T_87780_row3_col25\" class=\"data row3 col25\" >nan</td>\n",
              "      <td id=\"T_87780_row3_col26\" class=\"data row3 col26\" >0</td>\n",
              "      <td id=\"T_87780_row3_col27\" class=\"data row3 col27\" >Transient</td>\n",
              "      <td id=\"T_87780_row3_col28\" class=\"data row3 col28\" >75.000000</td>\n",
              "      <td id=\"T_87780_row3_col29\" class=\"data row3 col29\" >0</td>\n",
              "      <td id=\"T_87780_row3_col30\" class=\"data row3 col30\" >0</td>\n",
              "      <td id=\"T_87780_row3_col31\" class=\"data row3 col31\" >Check-Out</td>\n",
              "      <td id=\"T_87780_row3_col32\" class=\"data row3 col32\" >2015-07-02</td>\n",
              "    </tr>\n",
              "    <tr>\n",
              "      <th id=\"T_87780_level0_row4\" class=\"row_heading level0 row4\" >4</th>\n",
              "      <td id=\"T_87780_row4_col0\" class=\"data row4 col0\" >5</td>\n",
              "      <td id=\"T_87780_row4_col1\" class=\"data row4 col1\" >Resort Hotel</td>\n",
              "      <td id=\"T_87780_row4_col2\" class=\"data row4 col2\" >0</td>\n",
              "      <td id=\"T_87780_row4_col3\" class=\"data row4 col3\" >14</td>\n",
              "      <td id=\"T_87780_row4_col4\" class=\"data row4 col4\" >2015</td>\n",
              "      <td id=\"T_87780_row4_col5\" class=\"data row4 col5\" >July</td>\n",
              "      <td id=\"T_87780_row4_col6\" class=\"data row4 col6\" >27</td>\n",
              "      <td id=\"T_87780_row4_col7\" class=\"data row4 col7\" >1</td>\n",
              "      <td id=\"T_87780_row4_col8\" class=\"data row4 col8\" >0</td>\n",
              "      <td id=\"T_87780_row4_col9\" class=\"data row4 col9\" >2</td>\n",
              "      <td id=\"T_87780_row4_col10\" class=\"data row4 col10\" >2</td>\n",
              "      <td id=\"T_87780_row4_col11\" class=\"data row4 col11\" >0.000000</td>\n",
              "      <td id=\"T_87780_row4_col12\" class=\"data row4 col12\" >0</td>\n",
              "      <td id=\"T_87780_row4_col13\" class=\"data row4 col13\" >BB</td>\n",
              "      <td id=\"T_87780_row4_col14\" class=\"data row4 col14\" >GBR</td>\n",
              "      <td id=\"T_87780_row4_col15\" class=\"data row4 col15\" >Online TA</td>\n",
              "      <td id=\"T_87780_row4_col16\" class=\"data row4 col16\" >TA/TO</td>\n",
              "      <td id=\"T_87780_row4_col17\" class=\"data row4 col17\" >0</td>\n",
              "      <td id=\"T_87780_row4_col18\" class=\"data row4 col18\" >0</td>\n",
              "      <td id=\"T_87780_row4_col19\" class=\"data row4 col19\" >0</td>\n",
              "      <td id=\"T_87780_row4_col20\" class=\"data row4 col20\" >A</td>\n",
              "      <td id=\"T_87780_row4_col21\" class=\"data row4 col21\" >A</td>\n",
              "      <td id=\"T_87780_row4_col22\" class=\"data row4 col22\" >0</td>\n",
              "      <td id=\"T_87780_row4_col23\" class=\"data row4 col23\" >No Deposit</td>\n",
              "      <td id=\"T_87780_row4_col24\" class=\"data row4 col24\" >240.000000</td>\n",
              "      <td id=\"T_87780_row4_col25\" class=\"data row4 col25\" >nan</td>\n",
              "      <td id=\"T_87780_row4_col26\" class=\"data row4 col26\" >0</td>\n",
              "      <td id=\"T_87780_row4_col27\" class=\"data row4 col27\" >Transient</td>\n",
              "      <td id=\"T_87780_row4_col28\" class=\"data row4 col28\" >98.000000</td>\n",
              "      <td id=\"T_87780_row4_col29\" class=\"data row4 col29\" >0</td>\n",
              "      <td id=\"T_87780_row4_col30\" class=\"data row4 col30\" >1</td>\n",
              "      <td id=\"T_87780_row4_col31\" class=\"data row4 col31\" >Check-Out</td>\n",
              "      <td id=\"T_87780_row4_col32\" class=\"data row4 col32\" >2015-07-03</td>\n",
              "    </tr>\n",
              "  </tbody>\n",
              "</table>\n"
            ]
          },
          "metadata": {},
          "execution_count": 238
        }
      ]
    },
    {
      "cell_type": "markdown",
      "source": [
        "Question 1: Create a function that displays the data type, number and percentage of null values, and number of unique values for each column of a given dataframe. (5 points)"
      ],
      "metadata": {
        "id": "5G4RTMihAUwt"
      }
    },
    {
      "cell_type": "code",
      "source": [
        "def data_types(df):\n",
        "  return df.dtypes\n",
        "\n",
        "def number_of_nulls(df):\n",
        "  return df.isna().sum()\n",
        "\n",
        "def percentage_of_nulls(df):\n",
        "  return (df.isna().sum() / len(df)) * 100\n",
        "\n",
        "def number_of_unique_values(df):\n",
        "  return df.nunique()\n",
        "\n",
        "# Combine the above functions to produce a comphrensive data frame that display the data asked\n",
        "\n",
        "def display_data(df):\n",
        "  table = pd.DataFrame({\n",
        "      'Column Name' : df.columns,\n",
        "      'Data Type' : data_types(df),\n",
        "      'Number of Nulls' : number_of_nulls(df),\n",
        "      'Percentage of Nulls' : percentage_of_nulls(df),\n",
        "      'Number of unique values in each column' : number_of_unique_values(df)\n",
        "  })\n",
        "  return table\n",
        "analysis = display_data(df)\n",
        "analysis.style.hide_index()# printing the required dataframe\n"
      ],
      "metadata": {
        "id": "BrKaWzS5BKVB",
        "colab": {
          "base_uri": "https://localhost:8080/",
          "height": 1000
        },
        "outputId": "cee6074b-0539-4532-a51c-2aaf9090a71b"
      },
      "execution_count": 239,
      "outputs": [
        {
          "output_type": "stream",
          "name": "stderr",
          "text": [
            "<ipython-input-239-19578e6eddf1>:25: FutureWarning: this method is deprecated in favour of `Styler.hide(axis=\"index\")`\n",
            "  analysis.style.hide_index()# printing the required dataframe\n"
          ]
        },
        {
          "output_type": "execute_result",
          "data": {
            "text/plain": [
              "<pandas.io.formats.style.Styler at 0x7badd47b9d20>"
            ],
            "text/html": [
              "<style type=\"text/css\">\n",
              "</style>\n",
              "<table id=\"T_a21a4\" class=\"dataframe\">\n",
              "  <thead>\n",
              "    <tr>\n",
              "      <th id=\"T_a21a4_level0_col0\" class=\"col_heading level0 col0\" >Column Name</th>\n",
              "      <th id=\"T_a21a4_level0_col1\" class=\"col_heading level0 col1\" >Data Type</th>\n",
              "      <th id=\"T_a21a4_level0_col2\" class=\"col_heading level0 col2\" >Number of Nulls</th>\n",
              "      <th id=\"T_a21a4_level0_col3\" class=\"col_heading level0 col3\" >Percentage of Nulls</th>\n",
              "      <th id=\"T_a21a4_level0_col4\" class=\"col_heading level0 col4\" >Number of unique values in each column</th>\n",
              "    </tr>\n",
              "  </thead>\n",
              "  <tbody>\n",
              "    <tr>\n",
              "      <td id=\"T_a21a4_row0_col0\" class=\"data row0 col0\" >id</td>\n",
              "      <td id=\"T_a21a4_row0_col1\" class=\"data row0 col1\" >int64</td>\n",
              "      <td id=\"T_a21a4_row0_col2\" class=\"data row0 col2\" >0</td>\n",
              "      <td id=\"T_a21a4_row0_col3\" class=\"data row0 col3\" >0.000000</td>\n",
              "      <td id=\"T_a21a4_row0_col4\" class=\"data row0 col4\" >119390</td>\n",
              "    </tr>\n",
              "    <tr>\n",
              "      <td id=\"T_a21a4_row1_col0\" class=\"data row1 col0\" >hotel</td>\n",
              "      <td id=\"T_a21a4_row1_col1\" class=\"data row1 col1\" >object</td>\n",
              "      <td id=\"T_a21a4_row1_col2\" class=\"data row1 col2\" >0</td>\n",
              "      <td id=\"T_a21a4_row1_col3\" class=\"data row1 col3\" >0.000000</td>\n",
              "      <td id=\"T_a21a4_row1_col4\" class=\"data row1 col4\" >2</td>\n",
              "    </tr>\n",
              "    <tr>\n",
              "      <td id=\"T_a21a4_row2_col0\" class=\"data row2 col0\" >is_canceled</td>\n",
              "      <td id=\"T_a21a4_row2_col1\" class=\"data row2 col1\" >int64</td>\n",
              "      <td id=\"T_a21a4_row2_col2\" class=\"data row2 col2\" >0</td>\n",
              "      <td id=\"T_a21a4_row2_col3\" class=\"data row2 col3\" >0.000000</td>\n",
              "      <td id=\"T_a21a4_row2_col4\" class=\"data row2 col4\" >2</td>\n",
              "    </tr>\n",
              "    <tr>\n",
              "      <td id=\"T_a21a4_row3_col0\" class=\"data row3 col0\" >lead_time</td>\n",
              "      <td id=\"T_a21a4_row3_col1\" class=\"data row3 col1\" >int64</td>\n",
              "      <td id=\"T_a21a4_row3_col2\" class=\"data row3 col2\" >0</td>\n",
              "      <td id=\"T_a21a4_row3_col3\" class=\"data row3 col3\" >0.000000</td>\n",
              "      <td id=\"T_a21a4_row3_col4\" class=\"data row3 col4\" >479</td>\n",
              "    </tr>\n",
              "    <tr>\n",
              "      <td id=\"T_a21a4_row4_col0\" class=\"data row4 col0\" >arrival_date_year</td>\n",
              "      <td id=\"T_a21a4_row4_col1\" class=\"data row4 col1\" >int64</td>\n",
              "      <td id=\"T_a21a4_row4_col2\" class=\"data row4 col2\" >0</td>\n",
              "      <td id=\"T_a21a4_row4_col3\" class=\"data row4 col3\" >0.000000</td>\n",
              "      <td id=\"T_a21a4_row4_col4\" class=\"data row4 col4\" >3</td>\n",
              "    </tr>\n",
              "    <tr>\n",
              "      <td id=\"T_a21a4_row5_col0\" class=\"data row5 col0\" >arrival_date_month</td>\n",
              "      <td id=\"T_a21a4_row5_col1\" class=\"data row5 col1\" >object</td>\n",
              "      <td id=\"T_a21a4_row5_col2\" class=\"data row5 col2\" >0</td>\n",
              "      <td id=\"T_a21a4_row5_col3\" class=\"data row5 col3\" >0.000000</td>\n",
              "      <td id=\"T_a21a4_row5_col4\" class=\"data row5 col4\" >12</td>\n",
              "    </tr>\n",
              "    <tr>\n",
              "      <td id=\"T_a21a4_row6_col0\" class=\"data row6 col0\" >arrival_date_week_number</td>\n",
              "      <td id=\"T_a21a4_row6_col1\" class=\"data row6 col1\" >int64</td>\n",
              "      <td id=\"T_a21a4_row6_col2\" class=\"data row6 col2\" >0</td>\n",
              "      <td id=\"T_a21a4_row6_col3\" class=\"data row6 col3\" >0.000000</td>\n",
              "      <td id=\"T_a21a4_row6_col4\" class=\"data row6 col4\" >53</td>\n",
              "    </tr>\n",
              "    <tr>\n",
              "      <td id=\"T_a21a4_row7_col0\" class=\"data row7 col0\" >arrival_date_day_of_month</td>\n",
              "      <td id=\"T_a21a4_row7_col1\" class=\"data row7 col1\" >int64</td>\n",
              "      <td id=\"T_a21a4_row7_col2\" class=\"data row7 col2\" >0</td>\n",
              "      <td id=\"T_a21a4_row7_col3\" class=\"data row7 col3\" >0.000000</td>\n",
              "      <td id=\"T_a21a4_row7_col4\" class=\"data row7 col4\" >31</td>\n",
              "    </tr>\n",
              "    <tr>\n",
              "      <td id=\"T_a21a4_row8_col0\" class=\"data row8 col0\" >stays_in_weekend_nights</td>\n",
              "      <td id=\"T_a21a4_row8_col1\" class=\"data row8 col1\" >int64</td>\n",
              "      <td id=\"T_a21a4_row8_col2\" class=\"data row8 col2\" >0</td>\n",
              "      <td id=\"T_a21a4_row8_col3\" class=\"data row8 col3\" >0.000000</td>\n",
              "      <td id=\"T_a21a4_row8_col4\" class=\"data row8 col4\" >17</td>\n",
              "    </tr>\n",
              "    <tr>\n",
              "      <td id=\"T_a21a4_row9_col0\" class=\"data row9 col0\" >stays_in_week_nights</td>\n",
              "      <td id=\"T_a21a4_row9_col1\" class=\"data row9 col1\" >int64</td>\n",
              "      <td id=\"T_a21a4_row9_col2\" class=\"data row9 col2\" >0</td>\n",
              "      <td id=\"T_a21a4_row9_col3\" class=\"data row9 col3\" >0.000000</td>\n",
              "      <td id=\"T_a21a4_row9_col4\" class=\"data row9 col4\" >35</td>\n",
              "    </tr>\n",
              "    <tr>\n",
              "      <td id=\"T_a21a4_row10_col0\" class=\"data row10 col0\" >adults</td>\n",
              "      <td id=\"T_a21a4_row10_col1\" class=\"data row10 col1\" >int64</td>\n",
              "      <td id=\"T_a21a4_row10_col2\" class=\"data row10 col2\" >0</td>\n",
              "      <td id=\"T_a21a4_row10_col3\" class=\"data row10 col3\" >0.000000</td>\n",
              "      <td id=\"T_a21a4_row10_col4\" class=\"data row10 col4\" >14</td>\n",
              "    </tr>\n",
              "    <tr>\n",
              "      <td id=\"T_a21a4_row11_col0\" class=\"data row11 col0\" >children</td>\n",
              "      <td id=\"T_a21a4_row11_col1\" class=\"data row11 col1\" >float64</td>\n",
              "      <td id=\"T_a21a4_row11_col2\" class=\"data row11 col2\" >4</td>\n",
              "      <td id=\"T_a21a4_row11_col3\" class=\"data row11 col3\" >0.003350</td>\n",
              "      <td id=\"T_a21a4_row11_col4\" class=\"data row11 col4\" >5</td>\n",
              "    </tr>\n",
              "    <tr>\n",
              "      <td id=\"T_a21a4_row12_col0\" class=\"data row12 col0\" >babies</td>\n",
              "      <td id=\"T_a21a4_row12_col1\" class=\"data row12 col1\" >int64</td>\n",
              "      <td id=\"T_a21a4_row12_col2\" class=\"data row12 col2\" >0</td>\n",
              "      <td id=\"T_a21a4_row12_col3\" class=\"data row12 col3\" >0.000000</td>\n",
              "      <td id=\"T_a21a4_row12_col4\" class=\"data row12 col4\" >5</td>\n",
              "    </tr>\n",
              "    <tr>\n",
              "      <td id=\"T_a21a4_row13_col0\" class=\"data row13 col0\" >meal</td>\n",
              "      <td id=\"T_a21a4_row13_col1\" class=\"data row13 col1\" >object</td>\n",
              "      <td id=\"T_a21a4_row13_col2\" class=\"data row13 col2\" >0</td>\n",
              "      <td id=\"T_a21a4_row13_col3\" class=\"data row13 col3\" >0.000000</td>\n",
              "      <td id=\"T_a21a4_row13_col4\" class=\"data row13 col4\" >5</td>\n",
              "    </tr>\n",
              "    <tr>\n",
              "      <td id=\"T_a21a4_row14_col0\" class=\"data row14 col0\" >country</td>\n",
              "      <td id=\"T_a21a4_row14_col1\" class=\"data row14 col1\" >object</td>\n",
              "      <td id=\"T_a21a4_row14_col2\" class=\"data row14 col2\" >488</td>\n",
              "      <td id=\"T_a21a4_row14_col3\" class=\"data row14 col3\" >0.408744</td>\n",
              "      <td id=\"T_a21a4_row14_col4\" class=\"data row14 col4\" >177</td>\n",
              "    </tr>\n",
              "    <tr>\n",
              "      <td id=\"T_a21a4_row15_col0\" class=\"data row15 col0\" >market_segment</td>\n",
              "      <td id=\"T_a21a4_row15_col1\" class=\"data row15 col1\" >object</td>\n",
              "      <td id=\"T_a21a4_row15_col2\" class=\"data row15 col2\" >0</td>\n",
              "      <td id=\"T_a21a4_row15_col3\" class=\"data row15 col3\" >0.000000</td>\n",
              "      <td id=\"T_a21a4_row15_col4\" class=\"data row15 col4\" >8</td>\n",
              "    </tr>\n",
              "    <tr>\n",
              "      <td id=\"T_a21a4_row16_col0\" class=\"data row16 col0\" >distribution_channel</td>\n",
              "      <td id=\"T_a21a4_row16_col1\" class=\"data row16 col1\" >object</td>\n",
              "      <td id=\"T_a21a4_row16_col2\" class=\"data row16 col2\" >0</td>\n",
              "      <td id=\"T_a21a4_row16_col3\" class=\"data row16 col3\" >0.000000</td>\n",
              "      <td id=\"T_a21a4_row16_col4\" class=\"data row16 col4\" >5</td>\n",
              "    </tr>\n",
              "    <tr>\n",
              "      <td id=\"T_a21a4_row17_col0\" class=\"data row17 col0\" >is_repeated_guest</td>\n",
              "      <td id=\"T_a21a4_row17_col1\" class=\"data row17 col1\" >int64</td>\n",
              "      <td id=\"T_a21a4_row17_col2\" class=\"data row17 col2\" >0</td>\n",
              "      <td id=\"T_a21a4_row17_col3\" class=\"data row17 col3\" >0.000000</td>\n",
              "      <td id=\"T_a21a4_row17_col4\" class=\"data row17 col4\" >2</td>\n",
              "    </tr>\n",
              "    <tr>\n",
              "      <td id=\"T_a21a4_row18_col0\" class=\"data row18 col0\" >previous_cancellations</td>\n",
              "      <td id=\"T_a21a4_row18_col1\" class=\"data row18 col1\" >int64</td>\n",
              "      <td id=\"T_a21a4_row18_col2\" class=\"data row18 col2\" >0</td>\n",
              "      <td id=\"T_a21a4_row18_col3\" class=\"data row18 col3\" >0.000000</td>\n",
              "      <td id=\"T_a21a4_row18_col4\" class=\"data row18 col4\" >15</td>\n",
              "    </tr>\n",
              "    <tr>\n",
              "      <td id=\"T_a21a4_row19_col0\" class=\"data row19 col0\" >previous_bookings_not_canceled</td>\n",
              "      <td id=\"T_a21a4_row19_col1\" class=\"data row19 col1\" >int64</td>\n",
              "      <td id=\"T_a21a4_row19_col2\" class=\"data row19 col2\" >0</td>\n",
              "      <td id=\"T_a21a4_row19_col3\" class=\"data row19 col3\" >0.000000</td>\n",
              "      <td id=\"T_a21a4_row19_col4\" class=\"data row19 col4\" >73</td>\n",
              "    </tr>\n",
              "    <tr>\n",
              "      <td id=\"T_a21a4_row20_col0\" class=\"data row20 col0\" >reserved_room_type</td>\n",
              "      <td id=\"T_a21a4_row20_col1\" class=\"data row20 col1\" >object</td>\n",
              "      <td id=\"T_a21a4_row20_col2\" class=\"data row20 col2\" >0</td>\n",
              "      <td id=\"T_a21a4_row20_col3\" class=\"data row20 col3\" >0.000000</td>\n",
              "      <td id=\"T_a21a4_row20_col4\" class=\"data row20 col4\" >10</td>\n",
              "    </tr>\n",
              "    <tr>\n",
              "      <td id=\"T_a21a4_row21_col0\" class=\"data row21 col0\" >assigned_room_type</td>\n",
              "      <td id=\"T_a21a4_row21_col1\" class=\"data row21 col1\" >object</td>\n",
              "      <td id=\"T_a21a4_row21_col2\" class=\"data row21 col2\" >0</td>\n",
              "      <td id=\"T_a21a4_row21_col3\" class=\"data row21 col3\" >0.000000</td>\n",
              "      <td id=\"T_a21a4_row21_col4\" class=\"data row21 col4\" >12</td>\n",
              "    </tr>\n",
              "    <tr>\n",
              "      <td id=\"T_a21a4_row22_col0\" class=\"data row22 col0\" >booking_changes</td>\n",
              "      <td id=\"T_a21a4_row22_col1\" class=\"data row22 col1\" >int64</td>\n",
              "      <td id=\"T_a21a4_row22_col2\" class=\"data row22 col2\" >0</td>\n",
              "      <td id=\"T_a21a4_row22_col3\" class=\"data row22 col3\" >0.000000</td>\n",
              "      <td id=\"T_a21a4_row22_col4\" class=\"data row22 col4\" >21</td>\n",
              "    </tr>\n",
              "    <tr>\n",
              "      <td id=\"T_a21a4_row23_col0\" class=\"data row23 col0\" >deposit_type</td>\n",
              "      <td id=\"T_a21a4_row23_col1\" class=\"data row23 col1\" >object</td>\n",
              "      <td id=\"T_a21a4_row23_col2\" class=\"data row23 col2\" >0</td>\n",
              "      <td id=\"T_a21a4_row23_col3\" class=\"data row23 col3\" >0.000000</td>\n",
              "      <td id=\"T_a21a4_row23_col4\" class=\"data row23 col4\" >3</td>\n",
              "    </tr>\n",
              "    <tr>\n",
              "      <td id=\"T_a21a4_row24_col0\" class=\"data row24 col0\" >agent</td>\n",
              "      <td id=\"T_a21a4_row24_col1\" class=\"data row24 col1\" >float64</td>\n",
              "      <td id=\"T_a21a4_row24_col2\" class=\"data row24 col2\" >16340</td>\n",
              "      <td id=\"T_a21a4_row24_col3\" class=\"data row24 col3\" >13.686238</td>\n",
              "      <td id=\"T_a21a4_row24_col4\" class=\"data row24 col4\" >333</td>\n",
              "    </tr>\n",
              "    <tr>\n",
              "      <td id=\"T_a21a4_row25_col0\" class=\"data row25 col0\" >company</td>\n",
              "      <td id=\"T_a21a4_row25_col1\" class=\"data row25 col1\" >float64</td>\n",
              "      <td id=\"T_a21a4_row25_col2\" class=\"data row25 col2\" >112593</td>\n",
              "      <td id=\"T_a21a4_row25_col3\" class=\"data row25 col3\" >94.306893</td>\n",
              "      <td id=\"T_a21a4_row25_col4\" class=\"data row25 col4\" >352</td>\n",
              "    </tr>\n",
              "    <tr>\n",
              "      <td id=\"T_a21a4_row26_col0\" class=\"data row26 col0\" >days_in_waiting_list</td>\n",
              "      <td id=\"T_a21a4_row26_col1\" class=\"data row26 col1\" >int64</td>\n",
              "      <td id=\"T_a21a4_row26_col2\" class=\"data row26 col2\" >0</td>\n",
              "      <td id=\"T_a21a4_row26_col3\" class=\"data row26 col3\" >0.000000</td>\n",
              "      <td id=\"T_a21a4_row26_col4\" class=\"data row26 col4\" >128</td>\n",
              "    </tr>\n",
              "    <tr>\n",
              "      <td id=\"T_a21a4_row27_col0\" class=\"data row27 col0\" >customer_type</td>\n",
              "      <td id=\"T_a21a4_row27_col1\" class=\"data row27 col1\" >object</td>\n",
              "      <td id=\"T_a21a4_row27_col2\" class=\"data row27 col2\" >0</td>\n",
              "      <td id=\"T_a21a4_row27_col3\" class=\"data row27 col3\" >0.000000</td>\n",
              "      <td id=\"T_a21a4_row27_col4\" class=\"data row27 col4\" >4</td>\n",
              "    </tr>\n",
              "    <tr>\n",
              "      <td id=\"T_a21a4_row28_col0\" class=\"data row28 col0\" >adr</td>\n",
              "      <td id=\"T_a21a4_row28_col1\" class=\"data row28 col1\" >float64</td>\n",
              "      <td id=\"T_a21a4_row28_col2\" class=\"data row28 col2\" >0</td>\n",
              "      <td id=\"T_a21a4_row28_col3\" class=\"data row28 col3\" >0.000000</td>\n",
              "      <td id=\"T_a21a4_row28_col4\" class=\"data row28 col4\" >8879</td>\n",
              "    </tr>\n",
              "    <tr>\n",
              "      <td id=\"T_a21a4_row29_col0\" class=\"data row29 col0\" >required_car_parking_spaces</td>\n",
              "      <td id=\"T_a21a4_row29_col1\" class=\"data row29 col1\" >int64</td>\n",
              "      <td id=\"T_a21a4_row29_col2\" class=\"data row29 col2\" >0</td>\n",
              "      <td id=\"T_a21a4_row29_col3\" class=\"data row29 col3\" >0.000000</td>\n",
              "      <td id=\"T_a21a4_row29_col4\" class=\"data row29 col4\" >5</td>\n",
              "    </tr>\n",
              "    <tr>\n",
              "      <td id=\"T_a21a4_row30_col0\" class=\"data row30 col0\" >total_of_special_requests</td>\n",
              "      <td id=\"T_a21a4_row30_col1\" class=\"data row30 col1\" >int64</td>\n",
              "      <td id=\"T_a21a4_row30_col2\" class=\"data row30 col2\" >0</td>\n",
              "      <td id=\"T_a21a4_row30_col3\" class=\"data row30 col3\" >0.000000</td>\n",
              "      <td id=\"T_a21a4_row30_col4\" class=\"data row30 col4\" >6</td>\n",
              "    </tr>\n",
              "    <tr>\n",
              "      <td id=\"T_a21a4_row31_col0\" class=\"data row31 col0\" >reservation_status</td>\n",
              "      <td id=\"T_a21a4_row31_col1\" class=\"data row31 col1\" >object</td>\n",
              "      <td id=\"T_a21a4_row31_col2\" class=\"data row31 col2\" >0</td>\n",
              "      <td id=\"T_a21a4_row31_col3\" class=\"data row31 col3\" >0.000000</td>\n",
              "      <td id=\"T_a21a4_row31_col4\" class=\"data row31 col4\" >3</td>\n",
              "    </tr>\n",
              "    <tr>\n",
              "      <td id=\"T_a21a4_row32_col0\" class=\"data row32 col0\" >reservation_status_date</td>\n",
              "      <td id=\"T_a21a4_row32_col1\" class=\"data row32 col1\" >object</td>\n",
              "      <td id=\"T_a21a4_row32_col2\" class=\"data row32 col2\" >0</td>\n",
              "      <td id=\"T_a21a4_row32_col3\" class=\"data row32 col3\" >0.000000</td>\n",
              "      <td id=\"T_a21a4_row32_col4\" class=\"data row32 col4\" >926</td>\n",
              "    </tr>\n",
              "  </tbody>\n",
              "</table>\n"
            ]
          },
          "metadata": {},
          "execution_count": 239
        }
      ]
    },
    {
      "cell_type": "markdown",
      "source": [
        "Question 2A: Find the total number of visitors who have canceled a reservation. (1.5 points)"
      ],
      "metadata": {
        "id": "gxc7aXBnBR8q"
      }
    },
    {
      "cell_type": "code",
      "source": [
        "# in 'is_canceled' column cancelled reservations are assigned 1 and not cancelled are 0, therefore to calculate\n",
        "# cancled reservations we simply add all the rows assigned 1\n",
        "\n",
        "total_canceled = df['is_canceled'].sum()\n",
        "print(f\"Total number of visitors who have canceled a reservation: {total_canceled}\")"
      ],
      "metadata": {
        "id": "oKEnh9t0J4KU",
        "colab": {
          "base_uri": "https://localhost:8080/"
        },
        "outputId": "57731952-4aaf-40c9-c9c5-b8509aeba881"
      },
      "execution_count": 240,
      "outputs": [
        {
          "output_type": "stream",
          "name": "stdout",
          "text": [
            "Total number of visitors who have canceled a reservation: 44224\n"
          ]
        }
      ]
    },
    {
      "cell_type": "markdown",
      "source": [
        "Question 2B: Which month has the most cancellations? (1.5 points)"
      ],
      "metadata": {
        "id": "fqSSQVsvJ4zT"
      }
    },
    {
      "cell_type": "code",
      "source": [
        "# 1. Filtering the cancelled reservations\n",
        "canceled_reservations = df[df['is_canceled'] == 1]\n",
        "\n",
        "# 2. Grouping by month and counting cancellations for each month\n",
        "cancellations_by_month = canceled_reservations.groupby('arrival_date_month').size()\n",
        "\n",
        "# 3. Finding month with most cancellations\n",
        "most_cancellations_month = cancellations_by_month.idxmax()\n",
        "\n",
        "print(f'Month with most cancellations: {most_cancellations_month}')\n"
      ],
      "metadata": {
        "id": "lkQI3KbMKyny",
        "colab": {
          "base_uri": "https://localhost:8080/"
        },
        "outputId": "b084860b-1e10-4100-81b4-d7ade238ab95"
      },
      "execution_count": 241,
      "outputs": [
        {
          "output_type": "stream",
          "name": "stdout",
          "text": [
            "Month with most cancellations: August\n"
          ]
        }
      ]
    },
    {
      "cell_type": "markdown",
      "source": [
        "Question 2C: Plot the number of cancellations per month in a histogram. (2 points)"
      ],
      "metadata": {
        "id": "AtjZACxqLAfY"
      }
    },
    {
      "cell_type": "code",
      "source": [
        "# Sorting the months for a better visualization\n",
        "ordered_months = ['January', 'February', 'March', 'April', 'May', 'June', 'July', 'August', 'September', 'October', 'November', 'December']\n",
        "cancellations_by_month = cancellations_by_month.reindex(ordered_months)\n",
        "\n",
        "# plotting\n",
        "plt.figure(figsize=(8, 4))\n",
        "cancellations_by_month.plot(kind ='bar')\n",
        "plt.title('Number of cancellations per month')\n",
        "plt.xlabel('Month')\n",
        "plt.ylabel('Number of cancellations')\n",
        "plt.xticks(rotation = 45)\n",
        "plt.tight_layout()\n",
        "plt.show()"
      ],
      "metadata": {
        "id": "Ytx6uWYPLktP",
        "colab": {
          "base_uri": "https://localhost:8080/",
          "height": 407
        },
        "outputId": "909f587b-e7f1-4fa1-da32-2e1288575d6f"
      },
      "execution_count": 242,
      "outputs": [
        {
          "output_type": "display_data",
          "data": {
            "text/plain": [
              "<Figure size 800x400 with 1 Axes>"
            ],
            "image/png": "[encoded data removed]"
          },
          "metadata": {}
        }
      ]
    },
    {
      "cell_type": "markdown",
      "source": [
        "Question 3: Create a function that prints the percentage of canceled reservations for EACH hotel. (5 points)"
      ],
      "metadata": {
        "id": "r27T8t3rLbkK"
      }
    },
    {
      "cell_type": "code",
      "source": [
        "# finding how many different hotels are in the dataset\n",
        "unique_hotels = df['hotel'].unique()\n",
        "print('Hotels in data set:\\n',unique_hotels, '\\n\\n')\n",
        "\n",
        "# function to calculate the percentage of canceled reservations for each hotel\n",
        "def hotel_cancellations(df):\n",
        "\n",
        "  # finding toatl reservations for each hotel\n",
        "  total_reservations_per_hotel = df.groupby('hotel').size()\n",
        "\n",
        "  # finding out the cancellation data for each hotel\n",
        "  total_cancellation_per_hotel = df.groupby('hotel')['is_canceled'].sum()\n",
        "\n",
        "  cancelation_percentage_for_each_hotel = (total_cancellation_per_hotel / total_reservations_per_hotel)*100\n",
        "\n",
        "  for hotel , percentage in cancelation_percentage_for_each_hotel.items():\n",
        "    print(f\"Percentage of canceled reservation for {hotel} is {percentage:.2f}%\\n\")\n",
        "\n",
        "hotel_cancellations(df)\n",
        "\n",
        "\n"
      ],
      "metadata": {
        "id": "liHejMPTMLXO",
        "colab": {
          "base_uri": "https://localhost:8080/"
        },
        "outputId": "19280fe0-64ad-4a1b-a85e-d3aa796beb68"
      },
      "execution_count": 243,
      "outputs": [
        {
          "output_type": "stream",
          "name": "stdout",
          "text": [
            "Hotels in data set:\n",
            " ['Resort Hotel' 'City Hotel'] \n",
            "\n",
            "\n",
            "Percentage of canceled reservation for City Hotel is 41.73%\n",
            "\n",
            "Percentage of canceled reservation for Resort Hotel is 27.76%\n",
            "\n"
          ]
        }
      ]
    },
    {
      "cell_type": "markdown",
      "source": [
        "Question 4: Filter the dataset so that it only contains visitors who have not canceled their reservations. Store this dataset as a separate variable (we will be using it going forward). (5 points)"
      ],
      "metadata": {
        "id": "0jvxLvfRMkp2"
      }
    },
    {
      "cell_type": "code",
      "source": [
        "# to find the visitors who did not cancelled their reservations, we add all the rows with 0 in the 'is_cancelled' column\n",
        "\n",
        "non_canceled_reservations = df[df['is_canceled'] == 0]\n",
        "non_canceled_reservations.head().style.hide_index()"
      ],
      "metadata": {
        "id": "KY3UgXc1MkR-",
        "colab": {
          "base_uri": "https://localhost:8080/",
          "height": 349
        },
        "outputId": "124c91af-cdf6-4fc7-b129-25416070df50"
      },
      "execution_count": 244,
      "outputs": [
        {
          "output_type": "stream",
          "name": "stderr",
          "text": [
            "<ipython-input-244-9f1ec60b95e5>:4: FutureWarning: this method is deprecated in favour of `Styler.hide(axis=\"index\")`\n",
            "  non_canceled_reservations.head().style.hide_index()\n"
          ]
        },
        {
          "output_type": "execute_result",
          "data": {
            "text/plain": [
              "<pandas.io.formats.style.Styler at 0x7badd39d71c0>"
            ],
            "text/html": [
              "<style type=\"text/css\">\n",
              "</style>\n",
              "<table id=\"T_b626b\" class=\"dataframe\">\n",
              "  <thead>\n",
              "    <tr>\n",
              "      <th id=\"T_b626b_level0_col0\" class=\"col_heading level0 col0\" >id</th>\n",
              "      <th id=\"T_b626b_level0_col1\" class=\"col_heading level0 col1\" >hotel</th>\n",
              "      <th id=\"T_b626b_level0_col2\" class=\"col_heading level0 col2\" >is_canceled</th>\n",
              "      <th id=\"T_b626b_level0_col3\" class=\"col_heading level0 col3\" >lead_time</th>\n",
              "      <th id=\"T_b626b_level0_col4\" class=\"col_heading level0 col4\" >arrival_date_year</th>\n",
              "      <th id=\"T_b626b_level0_col5\" class=\"col_heading level0 col5\" >arrival_date_month</th>\n",
              "      <th id=\"T_b626b_level0_col6\" class=\"col_heading level0 col6\" >arrival_date_week_number</th>\n",
              "      <th id=\"T_b626b_level0_col7\" class=\"col_heading level0 col7\" >arrival_date_day_of_month</th>\n",
              "      <th id=\"T_b626b_level0_col8\" class=\"col_heading level0 col8\" >stays_in_weekend_nights</th>\n",
              "      <th id=\"T_b626b_level0_col9\" class=\"col_heading level0 col9\" >stays_in_week_nights</th>\n",
              "      <th id=\"T_b626b_level0_col10\" class=\"col_heading level0 col10\" >adults</th>\n",
              "      <th id=\"T_b626b_level0_col11\" class=\"col_heading level0 col11\" >children</th>\n",
              "      <th id=\"T_b626b_level0_col12\" class=\"col_heading level0 col12\" >babies</th>\n",
              "      <th id=\"T_b626b_level0_col13\" class=\"col_heading level0 col13\" >meal</th>\n",
              "      <th id=\"T_b626b_level0_col14\" class=\"col_heading level0 col14\" >country</th>\n",
              "      <th id=\"T_b626b_level0_col15\" class=\"col_heading level0 col15\" >market_segment</th>\n",
              "      <th id=\"T_b626b_level0_col16\" class=\"col_heading level0 col16\" >distribution_channel</th>\n",
              "      <th id=\"T_b626b_level0_col17\" class=\"col_heading level0 col17\" >is_repeated_guest</th>\n",
              "      <th id=\"T_b626b_level0_col18\" class=\"col_heading level0 col18\" >previous_cancellations</th>\n",
              "      <th id=\"T_b626b_level0_col19\" class=\"col_heading level0 col19\" >previous_bookings_not_canceled</th>\n",
              "      <th id=\"T_b626b_level0_col20\" class=\"col_heading level0 col20\" >reserved_room_type</th>\n",
              "      <th id=\"T_b626b_level0_col21\" class=\"col_heading level0 col21\" >assigned_room_type</th>\n",
              "      <th id=\"T_b626b_level0_col22\" class=\"col_heading level0 col22\" >booking_changes</th>\n",
              "      <th id=\"T_b626b_level0_col23\" class=\"col_heading level0 col23\" >deposit_type</th>\n",
              "      <th id=\"T_b626b_level0_col24\" class=\"col_heading level0 col24\" >agent</th>\n",
              "      <th id=\"T_b626b_level0_col25\" class=\"col_heading level0 col25\" >company</th>\n",
              "      <th id=\"T_b626b_level0_col26\" class=\"col_heading level0 col26\" >days_in_waiting_list</th>\n",
              "      <th id=\"T_b626b_level0_col27\" class=\"col_heading level0 col27\" >customer_type</th>\n",
              "      <th id=\"T_b626b_level0_col28\" class=\"col_heading level0 col28\" >adr</th>\n",
              "      <th id=\"T_b626b_level0_col29\" class=\"col_heading level0 col29\" >required_car_parking_spaces</th>\n",
              "      <th id=\"T_b626b_level0_col30\" class=\"col_heading level0 col30\" >total_of_special_requests</th>\n",
              "      <th id=\"T_b626b_level0_col31\" class=\"col_heading level0 col31\" >reservation_status</th>\n",
              "      <th id=\"T_b626b_level0_col32\" class=\"col_heading level0 col32\" >reservation_status_date</th>\n",
              "    </tr>\n",
              "  </thead>\n",
              "  <tbody>\n",
              "    <tr>\n",
              "      <td id=\"T_b626b_row0_col0\" class=\"data row0 col0\" >1</td>\n",
              "      <td id=\"T_b626b_row0_col1\" class=\"data row0 col1\" >Resort Hotel</td>\n",
              "      <td id=\"T_b626b_row0_col2\" class=\"data row0 col2\" >0</td>\n",
              "      <td id=\"T_b626b_row0_col3\" class=\"data row0 col3\" >342</td>\n",
              "      <td id=\"T_b626b_row0_col4\" class=\"data row0 col4\" >2015</td>\n",
              "      <td id=\"T_b626b_row0_col5\" class=\"data row0 col5\" >July</td>\n",
              "      <td id=\"T_b626b_row0_col6\" class=\"data row0 col6\" >27</td>\n",
              "      <td id=\"T_b626b_row0_col7\" class=\"data row0 col7\" >1</td>\n",
              "      <td id=\"T_b626b_row0_col8\" class=\"data row0 col8\" >0</td>\n",
              "      <td id=\"T_b626b_row0_col9\" class=\"data row0 col9\" >0</td>\n",
              "      <td id=\"T_b626b_row0_col10\" class=\"data row0 col10\" >2</td>\n",
              "      <td id=\"T_b626b_row0_col11\" class=\"data row0 col11\" >0.000000</td>\n",
              "      <td id=\"T_b626b_row0_col12\" class=\"data row0 col12\" >0</td>\n",
              "      <td id=\"T_b626b_row0_col13\" class=\"data row0 col13\" >BB</td>\n",
              "      <td id=\"T_b626b_row0_col14\" class=\"data row0 col14\" >PRT</td>\n",
              "      <td id=\"T_b626b_row0_col15\" class=\"data row0 col15\" >Direct</td>\n",
              "      <td id=\"T_b626b_row0_col16\" class=\"data row0 col16\" >Direct</td>\n",
              "      <td id=\"T_b626b_row0_col17\" class=\"data row0 col17\" >0</td>\n",
              "      <td id=\"T_b626b_row0_col18\" class=\"data row0 col18\" >0</td>\n",
              "      <td id=\"T_b626b_row0_col19\" class=\"data row0 col19\" >0</td>\n",
              "      <td id=\"T_b626b_row0_col20\" class=\"data row0 col20\" >C</td>\n",
              "      <td id=\"T_b626b_row0_col21\" class=\"data row0 col21\" >C</td>\n",
              "      <td id=\"T_b626b_row0_col22\" class=\"data row0 col22\" >3</td>\n",
              "      <td id=\"T_b626b_row0_col23\" class=\"data row0 col23\" >No Deposit</td>\n",
              "      <td id=\"T_b626b_row0_col24\" class=\"data row0 col24\" >nan</td>\n",
              "      <td id=\"T_b626b_row0_col25\" class=\"data row0 col25\" >nan</td>\n",
              "      <td id=\"T_b626b_row0_col26\" class=\"data row0 col26\" >0</td>\n",
              "      <td id=\"T_b626b_row0_col27\" class=\"data row0 col27\" >Transient</td>\n",
              "      <td id=\"T_b626b_row0_col28\" class=\"data row0 col28\" >0.000000</td>\n",
              "      <td id=\"T_b626b_row0_col29\" class=\"data row0 col29\" >0</td>\n",
              "      <td id=\"T_b626b_row0_col30\" class=\"data row0 col30\" >0</td>\n",
              "      <td id=\"T_b626b_row0_col31\" class=\"data row0 col31\" >Check-Out</td>\n",
              "      <td id=\"T_b626b_row0_col32\" class=\"data row0 col32\" >2015-07-01</td>\n",
              "    </tr>\n",
              "    <tr>\n",
              "      <td id=\"T_b626b_row1_col0\" class=\"data row1 col0\" >2</td>\n",
              "      <td id=\"T_b626b_row1_col1\" class=\"data row1 col1\" >Resort Hotel</td>\n",
              "      <td id=\"T_b626b_row1_col2\" class=\"data row1 col2\" >0</td>\n",
              "      <td id=\"T_b626b_row1_col3\" class=\"data row1 col3\" >737</td>\n",
              "      <td id=\"T_b626b_row1_col4\" class=\"data row1 col4\" >2015</td>\n",
              "      <td id=\"T_b626b_row1_col5\" class=\"data row1 col5\" >July</td>\n",
              "      <td id=\"T_b626b_row1_col6\" class=\"data row1 col6\" >27</td>\n",
              "      <td id=\"T_b626b_row1_col7\" class=\"data row1 col7\" >1</td>\n",
              "      <td id=\"T_b626b_row1_col8\" class=\"data row1 col8\" >0</td>\n",
              "      <td id=\"T_b626b_row1_col9\" class=\"data row1 col9\" >0</td>\n",
              "      <td id=\"T_b626b_row1_col10\" class=\"data row1 col10\" >2</td>\n",
              "      <td id=\"T_b626b_row1_col11\" class=\"data row1 col11\" >0.000000</td>\n",
              "      <td id=\"T_b626b_row1_col12\" class=\"data row1 col12\" >0</td>\n",
              "      <td id=\"T_b626b_row1_col13\" class=\"data row1 col13\" >BB</td>\n",
              "      <td id=\"T_b626b_row1_col14\" class=\"data row1 col14\" >PRT</td>\n",
              "      <td id=\"T_b626b_row1_col15\" class=\"data row1 col15\" >Direct</td>\n",
              "      <td id=\"T_b626b_row1_col16\" class=\"data row1 col16\" >Direct</td>\n",
              "      <td id=\"T_b626b_row1_col17\" class=\"data row1 col17\" >0</td>\n",
              "      <td id=\"T_b626b_row1_col18\" class=\"data row1 col18\" >0</td>\n",
              "      <td id=\"T_b626b_row1_col19\" class=\"data row1 col19\" >0</td>\n",
              "      <td id=\"T_b626b_row1_col20\" class=\"data row1 col20\" >C</td>\n",
              "      <td id=\"T_b626b_row1_col21\" class=\"data row1 col21\" >C</td>\n",
              "      <td id=\"T_b626b_row1_col22\" class=\"data row1 col22\" >4</td>\n",
              "      <td id=\"T_b626b_row1_col23\" class=\"data row1 col23\" >No Deposit</td>\n",
              "      <td id=\"T_b626b_row1_col24\" class=\"data row1 col24\" >nan</td>\n",
              "      <td id=\"T_b626b_row1_col25\" class=\"data row1 col25\" >nan</td>\n",
              "      <td id=\"T_b626b_row1_col26\" class=\"data row1 col26\" >0</td>\n",
              "      <td id=\"T_b626b_row1_col27\" class=\"data row1 col27\" >Transient</td>\n",
              "      <td id=\"T_b626b_row1_col28\" class=\"data row1 col28\" >0.000000</td>\n",
              "      <td id=\"T_b626b_row1_col29\" class=\"data row1 col29\" >0</td>\n",
              "      <td id=\"T_b626b_row1_col30\" class=\"data row1 col30\" >0</td>\n",
              "      <td id=\"T_b626b_row1_col31\" class=\"data row1 col31\" >Check-Out</td>\n",
              "      <td id=\"T_b626b_row1_col32\" class=\"data row1 col32\" >2015-07-01</td>\n",
              "    </tr>\n",
              "    <tr>\n",
              "      <td id=\"T_b626b_row2_col0\" class=\"data row2 col0\" >3</td>\n",
              "      <td id=\"T_b626b_row2_col1\" class=\"data row2 col1\" >Resort Hotel</td>\n",
              "      <td id=\"T_b626b_row2_col2\" class=\"data row2 col2\" >0</td>\n",
              "      <td id=\"T_b626b_row2_col3\" class=\"data row2 col3\" >7</td>\n",
              "      <td id=\"T_b626b_row2_col4\" class=\"data row2 col4\" >2015</td>\n",
              "      <td id=\"T_b626b_row2_col5\" class=\"data row2 col5\" >July</td>\n",
              "      <td id=\"T_b626b_row2_col6\" class=\"data row2 col6\" >27</td>\n",
              "      <td id=\"T_b626b_row2_col7\" class=\"data row2 col7\" >1</td>\n",
              "      <td id=\"T_b626b_row2_col8\" class=\"data row2 col8\" >0</td>\n",
              "      <td id=\"T_b626b_row2_col9\" class=\"data row2 col9\" >1</td>\n",
              "      <td id=\"T_b626b_row2_col10\" class=\"data row2 col10\" >1</td>\n",
              "      <td id=\"T_b626b_row2_col11\" class=\"data row2 col11\" >0.000000</td>\n",
              "      <td id=\"T_b626b_row2_col12\" class=\"data row2 col12\" >0</td>\n",
              "      <td id=\"T_b626b_row2_col13\" class=\"data row2 col13\" >BB</td>\n",
              "      <td id=\"T_b626b_row2_col14\" class=\"data row2 col14\" >GBR</td>\n",
              "      <td id=\"T_b626b_row2_col15\" class=\"data row2 col15\" >Direct</td>\n",
              "      <td id=\"T_b626b_row2_col16\" class=\"data row2 col16\" >Direct</td>\n",
              "      <td id=\"T_b626b_row2_col17\" class=\"data row2 col17\" >0</td>\n",
              "      <td id=\"T_b626b_row2_col18\" class=\"data row2 col18\" >0</td>\n",
              "      <td id=\"T_b626b_row2_col19\" class=\"data row2 col19\" >0</td>\n",
              "      <td id=\"T_b626b_row2_col20\" class=\"data row2 col20\" >A</td>\n",
              "      <td id=\"T_b626b_row2_col21\" class=\"data row2 col21\" >C</td>\n",
              "      <td id=\"T_b626b_row2_col22\" class=\"data row2 col22\" >0</td>\n",
              "      <td id=\"T_b626b_row2_col23\" class=\"data row2 col23\" >No Deposit</td>\n",
              "      <td id=\"T_b626b_row2_col24\" class=\"data row2 col24\" >nan</td>\n",
              "      <td id=\"T_b626b_row2_col25\" class=\"data row2 col25\" >nan</td>\n",
              "      <td id=\"T_b626b_row2_col26\" class=\"data row2 col26\" >0</td>\n",
              "      <td id=\"T_b626b_row2_col27\" class=\"data row2 col27\" >Transient</td>\n",
              "      <td id=\"T_b626b_row2_col28\" class=\"data row2 col28\" >75.000000</td>\n",
              "      <td id=\"T_b626b_row2_col29\" class=\"data row2 col29\" >0</td>\n",
              "      <td id=\"T_b626b_row2_col30\" class=\"data row2 col30\" >0</td>\n",
              "      <td id=\"T_b626b_row2_col31\" class=\"data row2 col31\" >Check-Out</td>\n",
              "      <td id=\"T_b626b_row2_col32\" class=\"data row2 col32\" >2015-07-02</td>\n",
              "    </tr>\n",
              "    <tr>\n",
              "      <td id=\"T_b626b_row3_col0\" class=\"data row3 col0\" >4</td>\n",
              "      <td id=\"T_b626b_row3_col1\" class=\"data row3 col1\" >Resort Hotel</td>\n",
              "      <td id=\"T_b626b_row3_col2\" class=\"data row3 col2\" >0</td>\n",
              "      <td id=\"T_b626b_row3_col3\" class=\"data row3 col3\" >13</td>\n",
              "      <td id=\"T_b626b_row3_col4\" class=\"data row3 col4\" >2015</td>\n",
              "      <td id=\"T_b626b_row3_col5\" class=\"data row3 col5\" >July</td>\n",
              "      <td id=\"T_b626b_row3_col6\" class=\"data row3 col6\" >27</td>\n",
              "      <td id=\"T_b626b_row3_col7\" class=\"data row3 col7\" >1</td>\n",
              "      <td id=\"T_b626b_row3_col8\" class=\"data row3 col8\" >0</td>\n",
              "      <td id=\"T_b626b_row3_col9\" class=\"data row3 col9\" >1</td>\n",
              "      <td id=\"T_b626b_row3_col10\" class=\"data row3 col10\" >1</td>\n",
              "      <td id=\"T_b626b_row3_col11\" class=\"data row3 col11\" >0.000000</td>\n",
              "      <td id=\"T_b626b_row3_col12\" class=\"data row3 col12\" >0</td>\n",
              "      <td id=\"T_b626b_row3_col13\" class=\"data row3 col13\" >BB</td>\n",
              "      <td id=\"T_b626b_row3_col14\" class=\"data row3 col14\" >GBR</td>\n",
              "      <td id=\"T_b626b_row3_col15\" class=\"data row3 col15\" >Corporate</td>\n",
              "      <td id=\"T_b626b_row3_col16\" class=\"data row3 col16\" >Corporate</td>\n",
              "      <td id=\"T_b626b_row3_col17\" class=\"data row3 col17\" >0</td>\n",
              "      <td id=\"T_b626b_row3_col18\" class=\"data row3 col18\" >0</td>\n",
              "      <td id=\"T_b626b_row3_col19\" class=\"data row3 col19\" >0</td>\n",
              "      <td id=\"T_b626b_row3_col20\" class=\"data row3 col20\" >A</td>\n",
              "      <td id=\"T_b626b_row3_col21\" class=\"data row3 col21\" >A</td>\n",
              "      <td id=\"T_b626b_row3_col22\" class=\"data row3 col22\" >0</td>\n",
              "      <td id=\"T_b626b_row3_col23\" class=\"data row3 col23\" >No Deposit</td>\n",
              "      <td id=\"T_b626b_row3_col24\" class=\"data row3 col24\" >304.000000</td>\n",
              "      <td id=\"T_b626b_row3_col25\" class=\"data row3 col25\" >nan</td>\n",
              "      <td id=\"T_b626b_row3_col26\" class=\"data row3 col26\" >0</td>\n",
              "      <td id=\"T_b626b_row3_col27\" class=\"data row3 col27\" >Transient</td>\n",
              "      <td id=\"T_b626b_row3_col28\" class=\"data row3 col28\" >75.000000</td>\n",
              "      <td id=\"T_b626b_row3_col29\" class=\"data row3 col29\" >0</td>\n",
              "      <td id=\"T_b626b_row3_col30\" class=\"data row3 col30\" >0</td>\n",
              "      <td id=\"T_b626b_row3_col31\" class=\"data row3 col31\" >Check-Out</td>\n",
              "      <td id=\"T_b626b_row3_col32\" class=\"data row3 col32\" >2015-07-02</td>\n",
              "    </tr>\n",
              "    <tr>\n",
              "      <td id=\"T_b626b_row4_col0\" class=\"data row4 col0\" >5</td>\n",
              "      <td id=\"T_b626b_row4_col1\" class=\"data row4 col1\" >Resort Hotel</td>\n",
              "      <td id=\"T_b626b_row4_col2\" class=\"data row4 col2\" >0</td>\n",
              "      <td id=\"T_b626b_row4_col3\" class=\"data row4 col3\" >14</td>\n",
              "      <td id=\"T_b626b_row4_col4\" class=\"data row4 col4\" >2015</td>\n",
              "      <td id=\"T_b626b_row4_col5\" class=\"data row4 col5\" >July</td>\n",
              "      <td id=\"T_b626b_row4_col6\" class=\"data row4 col6\" >27</td>\n",
              "      <td id=\"T_b626b_row4_col7\" class=\"data row4 col7\" >1</td>\n",
              "      <td id=\"T_b626b_row4_col8\" class=\"data row4 col8\" >0</td>\n",
              "      <td id=\"T_b626b_row4_col9\" class=\"data row4 col9\" >2</td>\n",
              "      <td id=\"T_b626b_row4_col10\" class=\"data row4 col10\" >2</td>\n",
              "      <td id=\"T_b626b_row4_col11\" class=\"data row4 col11\" >0.000000</td>\n",
              "      <td id=\"T_b626b_row4_col12\" class=\"data row4 col12\" >0</td>\n",
              "      <td id=\"T_b626b_row4_col13\" class=\"data row4 col13\" >BB</td>\n",
              "      <td id=\"T_b626b_row4_col14\" class=\"data row4 col14\" >GBR</td>\n",
              "      <td id=\"T_b626b_row4_col15\" class=\"data row4 col15\" >Online TA</td>\n",
              "      <td id=\"T_b626b_row4_col16\" class=\"data row4 col16\" >TA/TO</td>\n",
              "      <td id=\"T_b626b_row4_col17\" class=\"data row4 col17\" >0</td>\n",
              "      <td id=\"T_b626b_row4_col18\" class=\"data row4 col18\" >0</td>\n",
              "      <td id=\"T_b626b_row4_col19\" class=\"data row4 col19\" >0</td>\n",
              "      <td id=\"T_b626b_row4_col20\" class=\"data row4 col20\" >A</td>\n",
              "      <td id=\"T_b626b_row4_col21\" class=\"data row4 col21\" >A</td>\n",
              "      <td id=\"T_b626b_row4_col22\" class=\"data row4 col22\" >0</td>\n",
              "      <td id=\"T_b626b_row4_col23\" class=\"data row4 col23\" >No Deposit</td>\n",
              "      <td id=\"T_b626b_row4_col24\" class=\"data row4 col24\" >240.000000</td>\n",
              "      <td id=\"T_b626b_row4_col25\" class=\"data row4 col25\" >nan</td>\n",
              "      <td id=\"T_b626b_row4_col26\" class=\"data row4 col26\" >0</td>\n",
              "      <td id=\"T_b626b_row4_col27\" class=\"data row4 col27\" >Transient</td>\n",
              "      <td id=\"T_b626b_row4_col28\" class=\"data row4 col28\" >98.000000</td>\n",
              "      <td id=\"T_b626b_row4_col29\" class=\"data row4 col29\" >0</td>\n",
              "      <td id=\"T_b626b_row4_col30\" class=\"data row4 col30\" >1</td>\n",
              "      <td id=\"T_b626b_row4_col31\" class=\"data row4 col31\" >Check-Out</td>\n",
              "      <td id=\"T_b626b_row4_col32\" class=\"data row4 col32\" >2015-07-03</td>\n",
              "    </tr>\n",
              "  </tbody>\n",
              "</table>\n"
            ]
          },
          "metadata": {},
          "execution_count": 244
        }
      ]
    },
    {
      "cell_type": "markdown",
      "source": [
        "Question 5A: Using the filtered dataset from Question 4, create a plot for each hotel showing the number of reservations for each month of arrival. Draw a conclusion on whether the trend is the same between the two hotels (in a sentence or two). (2.5 points)"
      ],
      "metadata": {
        "id": "IMl_bmdvOHPd"
      }
    },
    {
      "cell_type": "code",
      "source": [
        "# Group by hotel and month, then count reservations for each group\n",
        "# unstack() is used to pivot the hotel level of index to column\n",
        "reservations_by_month = non_canceled_reservations.groupby(['arrival_date_month','hotel']).size().unstack()\n",
        "\n",
        "# Sorting the months for better visualisation\n",
        "ordered_months = ['January', 'February', 'March', 'April', 'May', 'June', 'July', 'August', 'September', 'October', 'November', 'December']\n",
        "reservations_by_month = reservations_by_month.reindex(ordered_months)\n",
        "\n",
        "#plotting\n",
        "plt.figure(figsize = (8,4))\n",
        "reservations_by_month.plot(kind = 'bar')\n",
        "plt.title(\"Number of reservations for each month\")\n",
        "plt.xlabel('Months')\n",
        "plt.ylabel('Number of reservations')\n",
        "plt.xticks(rotation = 45)\n",
        "plt.tight_layout()\n",
        "plt.show()\n",
        "\n",
        "\n",
        "\n",
        "\n",
        "\n"
      ],
      "metadata": {
        "id": "mF-_JChKOqRr",
        "colab": {
          "base_uri": "https://localhost:8080/",
          "height": 505
        },
        "outputId": "239e113b-106b-4a5c-f86a-6672d717e7d2"
      },
      "execution_count": 245,
      "outputs": [
        {
          "output_type": "display_data",
          "data": {
            "text/plain": [
              "<Figure size 800x400 with 0 Axes>"
            ]
          },
          "metadata": {}
        },
        {
          "output_type": "display_data",
          "data": {
            "text/plain": [
              "<Figure size 640x480 with 1 Axes>"
            ],
            "image/png": "[encoded data removed]"
          },
          "metadata": {}
        }
      ]
    },
    {
      "cell_type": "markdown",
      "source": [
        "Conclusion:\n",
        "1. Both hotels shows a incerase in reservations during the months of July and August, and reservations peaked in August.\n",
        "2. The overall tred of reservations throughout the year is almost similar for both hotels, but reservations in months of Sept and Nov for City Hotel have a more significant drop than Resort hotel.\n"
      ],
      "metadata": {
        "id": "wxj8q6bWOqsj"
      }
    },
    {
      "cell_type": "markdown",
      "source": [
        "Question 5B: Using the filtered dataset from Question 4, create a plot for each hotel showing the number of reservations for each month of arrival, delineated by whether or not there are children (or babies) present on the reservation. (2.5 points)"
      ],
      "metadata": {
        "id": "qmldNIjVOtR0"
      }
    },
    {
      "cell_type": "code",
      "source": [
        "# Seperating the non_cancelled_reservations for city hotel and resort hotel\n",
        "city_non_cancelled_reservations = non_canceled_reservations[non_canceled_reservations['hotel'] == 'City Hotel']\n",
        "resort_non_cancelled_reservations = non_canceled_reservations[non_canceled_reservations['hotel'] == 'Resort Hotel']\n",
        "\n",
        "# Add column to indicate if a reservation has children or babies, will add true or false to column\n",
        "city_non_cancelled_reservations['having_children_or_babies'] = (city_non_cancelled_reservations['children'] > 0) | (city_non_cancelled_reservations['babies'] > 0)\n",
        "resort_non_cancelled_reservations['having_children_or_babies'] = (resort_non_cancelled_reservations['children'] > 0) | (resort_non_cancelled_reservations['babies'] > 0)\n",
        "\n",
        "# Group by month and whether or not there are children or babies and pivot the having_children_or_babies to columns\n",
        "city_grouped = city_non_cancelled_reservations.groupby(['arrival_date_month', 'having_children_or_babies']).size().unstack()\n",
        "resort_grouped = resort_non_cancelled_reservations.groupby(['arrival_date_month', 'having_children_or_babies']).size().unstack()\n",
        "\n",
        "ordered_months = ['January', 'February', 'March', 'April', 'May', 'June', 'July', 'August', 'September', 'October', 'November', 'December']\n",
        "city_grouped = city_grouped.reindex(ordered_months)\n",
        "resort_grouped = resort_grouped.reindex(ordered_months)\n",
        "\n",
        "# Plot for City Hotel\n",
        "plt.figure(figsize=(10,4))\n",
        "city_grouped.plot(kind='bar')\n",
        "plt.title(\"City Hotel: Reservations by Month with/without Children or Babies\")\n",
        "plt.ylabel(\"Number of Reservations\")\n",
        "plt.xlabel(\"Month\")\n",
        "plt.xticks(rotation=45)\n",
        "plt.tight_layout()\n",
        "plt.show()\n",
        "\n",
        "# Plot for Resort Hotel\n",
        "plt.figure(figsize=(10,4))\n",
        "resort_grouped.plot(kind='bar')\n",
        "plt.title(\"Resort Hotel: Reservations by Month with/without Children or Babies\")\n",
        "plt.ylabel(\"Number of Reservations\")\n",
        "plt.xlabel(\"Month\")\n",
        "plt.xticks(rotation=45)\n",
        "plt.tight_layout()\n",
        "plt.show()\n",
        "\n",
        "\n",
        "# with respect to the warning below, the original non_cancelled_reservations dataframe is NOT being modified\n",
        "# modified dataframes : city_non_cancelled_reservations and resort_non_cancelled_reservations\n",
        "\n",
        "\n",
        "\n"
      ],
      "metadata": {
        "id": "Ms-Z8xlGPbJz",
        "colab": {
          "base_uri": "https://localhost:8080/",
          "height": 1000
        },
        "outputId": "6150923b-1e92-40d0-eeb8-8a1da49d24ec"
      },
      "execution_count": 246,
      "outputs": [
        {
          "output_type": "stream",
          "name": "stderr",
          "text": [
            "<ipython-input-246-e01bb4d40a2d>:6: SettingWithCopyWarning: \n",
            "A value is trying to be set on a copy of a slice from a DataFrame.\n",
            "Try using .loc[row_indexer,col_indexer] = value instead\n",
            "\n",
            "See the caveats in the documentation: https://pandas.pydata.org/pandas-docs/stable/user_guide/indexing.html#returning-a-view-versus-a-copy\n",
            "  city_non_cancelled_reservations['having_children_or_babies'] = (city_non_cancelled_reservations['children'] > 0) | (city_non_cancelled_reservations['babies'] > 0)\n",
            "<ipython-input-246-e01bb4d40a2d>:7: SettingWithCopyWarning: \n",
            "A value is trying to be set on a copy of a slice from a DataFrame.\n",
            "Try using .loc[row_indexer,col_indexer] = value instead\n",
            "\n",
            "See the caveats in the documentation: https://pandas.pydata.org/pandas-docs/stable/user_guide/indexing.html#returning-a-view-versus-a-copy\n",
            "  resort_non_cancelled_reservations['having_children_or_babies'] = (resort_non_cancelled_reservations['children'] > 0) | (resort_non_cancelled_reservations['babies'] > 0)\n"
          ]
        },
        {
          "output_type": "display_data",
          "data": {
            "text/plain": [
              "<Figure size 1000x400 with 0 Axes>"
            ]
          },
          "metadata": {}
        },
        {
          "output_type": "display_data",
          "data": {
            "text/plain": [
              "<Figure size 640x480 with 1 Axes>"
            ],
            "image/png": "[encoded data removed]"
          },
          "metadata": {}
        },
        {
          "output_type": "display_data",
          "data": {
            "text/plain": [
              "<Figure size 1000x400 with 0 Axes>"
            ]
          },
          "metadata": {}
        },
        {
          "output_type": "display_data",
          "data": {
            "text/plain": [
              "<Figure size 640x480 with 1 Axes>"
            ],
            "image/png": "[encoded data removed]"
          },
          "metadata": {}
        }
      ]
    },
    {
      "cell_type": "markdown",
      "source": [
        "Question 6: Using the filtered dataset from Question 4, create a single column for \"arrival_date\" that shows the date of arrival in Year-Month-Day format. (5 points)"
      ],
      "metadata": {
        "id": "OWYWSqbLQUzg"
      }
    },
    {
      "cell_type": "code",
      "source": [
        "# Create the 'arrival_date' column by combining year, month, and day columns as strings and using to_datetime from pandas\n",
        "non_canceled_reservations['arrival_date'] = pd.to_datetime(\n",
        "    non_canceled_reservations['arrival_date_year'].astype(str) + '-' +\n",
        "    non_canceled_reservations['arrival_date_month'].astype(str) + '-' +\n",
        "    non_canceled_reservations['arrival_date_day_of_month'].astype(str)\n",
        "    )\n",
        "\n",
        "# To remove the time stamps used dt.date\n",
        "non_canceled_reservations['arrival_date'] = non_canceled_reservations['arrival_date'].dt.date\n",
        "\n",
        "# Display the arrival_date column\n",
        "non_canceled_reservations[['arrival_date_year', 'arrival_date_month', 'arrival_date_day_of_month', 'arrival_date']].head().style"
      ],
      "metadata": {
        "colab": {
          "base_uri": "https://localhost:8080/",
          "height": 420
        },
        "id": "UFw-qLLYNv2J",
        "outputId": "dc3f588f-fd35-487d-f078-251ddb6d2b98"
      },
      "execution_count": 247,
      "outputs": [
        {
          "output_type": "stream",
          "name": "stderr",
          "text": [
            "<ipython-input-247-a1bf529690af>:2: SettingWithCopyWarning: \n",
            "A value is trying to be set on a copy of a slice from a DataFrame.\n",
            "Try using .loc[row_indexer,col_indexer] = value instead\n",
            "\n",
            "See the caveats in the documentation: https://pandas.pydata.org/pandas-docs/stable/user_guide/indexing.html#returning-a-view-versus-a-copy\n",
            "  non_canceled_reservations['arrival_date'] = pd.to_datetime(\n",
            "<ipython-input-247-a1bf529690af>:9: SettingWithCopyWarning: \n",
            "A value is trying to be set on a copy of a slice from a DataFrame.\n",
            "Try using .loc[row_indexer,col_indexer] = value instead\n",
            "\n",
            "See the caveats in the documentation: https://pandas.pydata.org/pandas-docs/stable/user_guide/indexing.html#returning-a-view-versus-a-copy\n",
            "  non_canceled_reservations['arrival_date'] = non_canceled_reservations['arrival_date'].dt.date\n"
          ]
        },
        {
          "output_type": "execute_result",
          "data": {
            "text/plain": [
              "<pandas.io.formats.style.Styler at 0x7baddc26e890>"
            ],
            "text/html": [
              "<style type=\"text/css\">\n",
              "</style>\n",
              "<table id=\"T_03bfb\" class=\"dataframe\">\n",
              "  <thead>\n",
              "    <tr>\n",
              "      <th class=\"blank level0\" >&nbsp;</th>\n",
              "      <th id=\"T_03bfb_level0_col0\" class=\"col_heading level0 col0\" >arrival_date_year</th>\n",
              "      <th id=\"T_03bfb_level0_col1\" class=\"col_heading level0 col1\" >arrival_date_month</th>\n",
              "      <th id=\"T_03bfb_level0_col2\" class=\"col_heading level0 col2\" >arrival_date_day_of_month</th>\n",
              "      <th id=\"T_03bfb_level0_col3\" class=\"col_heading level0 col3\" >arrival_date</th>\n",
              "    </tr>\n",
              "  </thead>\n",
              "  <tbody>\n",
              "    <tr>\n",
              "      <th id=\"T_03bfb_level0_row0\" class=\"row_heading level0 row0\" >0</th>\n",
              "      <td id=\"T_03bfb_row0_col0\" class=\"data row0 col0\" >2015</td>\n",
              "      <td id=\"T_03bfb_row0_col1\" class=\"data row0 col1\" >July</td>\n",
              "      <td id=\"T_03bfb_row0_col2\" class=\"data row0 col2\" >1</td>\n",
              "      <td id=\"T_03bfb_row0_col3\" class=\"data row0 col3\" >2015-07-01</td>\n",
              "    </tr>\n",
              "    <tr>\n",
              "      <th id=\"T_03bfb_level0_row1\" class=\"row_heading level0 row1\" >1</th>\n",
              "      <td id=\"T_03bfb_row1_col0\" class=\"data row1 col0\" >2015</td>\n",
              "      <td id=\"T_03bfb_row1_col1\" class=\"data row1 col1\" >July</td>\n",
              "      <td id=\"T_03bfb_row1_col2\" class=\"data row1 col2\" >1</td>\n",
              "      <td id=\"T_03bfb_row1_col3\" class=\"data row1 col3\" >2015-07-01</td>\n",
              "    </tr>\n",
              "    <tr>\n",
              "      <th id=\"T_03bfb_level0_row2\" class=\"row_heading level0 row2\" >2</th>\n",
              "      <td id=\"T_03bfb_row2_col0\" class=\"data row2 col0\" >2015</td>\n",
              "      <td id=\"T_03bfb_row2_col1\" class=\"data row2 col1\" >July</td>\n",
              "      <td id=\"T_03bfb_row2_col2\" class=\"data row2 col2\" >1</td>\n",
              "      <td id=\"T_03bfb_row2_col3\" class=\"data row2 col3\" >2015-07-01</td>\n",
              "    </tr>\n",
              "    <tr>\n",
              "      <th id=\"T_03bfb_level0_row3\" class=\"row_heading level0 row3\" >3</th>\n",
              "      <td id=\"T_03bfb_row3_col0\" class=\"data row3 col0\" >2015</td>\n",
              "      <td id=\"T_03bfb_row3_col1\" class=\"data row3 col1\" >July</td>\n",
              "      <td id=\"T_03bfb_row3_col2\" class=\"data row3 col2\" >1</td>\n",
              "      <td id=\"T_03bfb_row3_col3\" class=\"data row3 col3\" >2015-07-01</td>\n",
              "    </tr>\n",
              "    <tr>\n",
              "      <th id=\"T_03bfb_level0_row4\" class=\"row_heading level0 row4\" >4</th>\n",
              "      <td id=\"T_03bfb_row4_col0\" class=\"data row4 col0\" >2015</td>\n",
              "      <td id=\"T_03bfb_row4_col1\" class=\"data row4 col1\" >July</td>\n",
              "      <td id=\"T_03bfb_row4_col2\" class=\"data row4 col2\" >1</td>\n",
              "      <td id=\"T_03bfb_row4_col3\" class=\"data row4 col3\" >2015-07-01</td>\n",
              "    </tr>\n",
              "  </tbody>\n",
              "</table>\n"
            ]
          },
          "metadata": {},
          "execution_count": 247
        }
      ]
    },
    {
      "cell_type": "markdown",
      "source": [
        "Question 7A: Create a new dataframe that contains the date of arrival and the number of reservations arriving on that particular day. Sort that dataframe by number of daily reservations, from highest to lowest. Display the first 20 rows of the dataframe. (2.5 points)"
      ],
      "metadata": {
        "id": "wCEFmRbpSFSQ"
      }
    },
    {
      "cell_type": "code",
      "source": [
        "\n",
        "# Grouping the reservations by arrival date\n",
        "reservations_by_date = non_canceled_reservations.groupby(['arrival_date']).size().reset_index(name='number_of_reservations')\n",
        "\n",
        "# Sorting the reservations in descending order\n",
        "reservations_by_date = reservations_by_date.sort_values(by = 'number_of_reservations', ascending = False)\n",
        "\n",
        "\n",
        "reservations_by_date.head(20).style.hide_index()"
      ],
      "metadata": {
        "id": "OrvuKNbmTFXS",
        "colab": {
          "base_uri": "https://localhost:8080/",
          "height": 712
        },
        "outputId": "cfbacad1-48bd-4bea-8284-b357f1ac734e"
      },
      "execution_count": 248,
      "outputs": [
        {
          "output_type": "stream",
          "name": "stderr",
          "text": [
            "<ipython-input-248-b862e4638518>:8: FutureWarning: this method is deprecated in favour of `Styler.hide(axis=\"index\")`\n",
            "  reservations_by_date.head(20).style.hide_index()\n"
          ]
        },
        {
          "output_type": "execute_result",
          "data": {
            "text/plain": [
              "<pandas.io.formats.style.Styler at 0x7badd2eb6c20>"
            ],
            "text/html": [
              "<style type=\"text/css\">\n",
              "</style>\n",
              "<table id=\"T_39764\" class=\"dataframe\">\n",
              "  <thead>\n",
              "    <tr>\n",
              "      <th id=\"T_39764_level0_col0\" class=\"col_heading level0 col0\" >arrival_date</th>\n",
              "      <th id=\"T_39764_level0_col1\" class=\"col_heading level0 col1\" >number_of_reservations</th>\n",
              "    </tr>\n",
              "  </thead>\n",
              "  <tbody>\n",
              "    <tr>\n",
              "      <td id=\"T_39764_row0_col0\" class=\"data row0 col0\" >2015-12-05</td>\n",
              "      <td id=\"T_39764_row0_col1\" class=\"data row0 col1\" >255</td>\n",
              "    </tr>\n",
              "    <tr>\n",
              "      <td id=\"T_39764_row1_col0\" class=\"data row1 col0\" >2016-06-24</td>\n",
              "      <td id=\"T_39764_row1_col1\" class=\"data row1 col1\" >220</td>\n",
              "    </tr>\n",
              "    <tr>\n",
              "      <td id=\"T_39764_row2_col0\" class=\"data row2 col0\" >2016-05-26</td>\n",
              "      <td id=\"T_39764_row2_col1\" class=\"data row2 col1\" >213</td>\n",
              "    </tr>\n",
              "    <tr>\n",
              "      <td id=\"T_39764_row3_col0\" class=\"data row3 col0\" >2016-06-06</td>\n",
              "      <td id=\"T_39764_row3_col1\" class=\"data row3 col1\" >200</td>\n",
              "    </tr>\n",
              "    <tr>\n",
              "      <td id=\"T_39764_row4_col0\" class=\"data row4 col0\" >2017-05-25</td>\n",
              "      <td id=\"T_39764_row4_col1\" class=\"data row4 col1\" >190</td>\n",
              "    </tr>\n",
              "    <tr>\n",
              "      <td id=\"T_39764_row5_col0\" class=\"data row5 col0\" >2017-02-25</td>\n",
              "      <td id=\"T_39764_row5_col1\" class=\"data row5 col1\" >189</td>\n",
              "    </tr>\n",
              "    <tr>\n",
              "      <td id=\"T_39764_row6_col0\" class=\"data row6 col0\" >2015-10-15</td>\n",
              "      <td id=\"T_39764_row6_col1\" class=\"data row6 col1\" >188</td>\n",
              "    </tr>\n",
              "    <tr>\n",
              "      <td id=\"T_39764_row7_col0\" class=\"data row7 col0\" >2016-03-24</td>\n",
              "      <td id=\"T_39764_row7_col1\" class=\"data row7 col1\" >184</td>\n",
              "    </tr>\n",
              "    <tr>\n",
              "      <td id=\"T_39764_row8_col0\" class=\"data row8 col0\" >2015-10-02</td>\n",
              "      <td id=\"T_39764_row8_col1\" class=\"data row8 col1\" >183</td>\n",
              "    </tr>\n",
              "    <tr>\n",
              "      <td id=\"T_39764_row9_col0\" class=\"data row9 col0\" >2016-05-02</td>\n",
              "      <td id=\"T_39764_row9_col1\" class=\"data row9 col1\" >181</td>\n",
              "    </tr>\n",
              "    <tr>\n",
              "      <td id=\"T_39764_row10_col0\" class=\"data row10 col0\" >2017-03-02</td>\n",
              "      <td id=\"T_39764_row10_col1\" class=\"data row10 col1\" >179</td>\n",
              "    </tr>\n",
              "    <tr>\n",
              "      <td id=\"T_39764_row11_col0\" class=\"data row11 col0\" >2016-10-06</td>\n",
              "      <td id=\"T_39764_row11_col1\" class=\"data row11 col1\" >174</td>\n",
              "    </tr>\n",
              "    <tr>\n",
              "      <td id=\"T_39764_row12_col0\" class=\"data row12 col0\" >2016-09-15</td>\n",
              "      <td id=\"T_39764_row12_col1\" class=\"data row12 col1\" >174</td>\n",
              "    </tr>\n",
              "    <tr>\n",
              "      <td id=\"T_39764_row13_col0\" class=\"data row13 col0\" >2015-12-30</td>\n",
              "      <td id=\"T_39764_row13_col1\" class=\"data row13 col1\" >171</td>\n",
              "    </tr>\n",
              "    <tr>\n",
              "      <td id=\"T_39764_row14_col0\" class=\"data row14 col0\" >2015-10-19</td>\n",
              "      <td id=\"T_39764_row14_col1\" class=\"data row14 col1\" >170</td>\n",
              "    </tr>\n",
              "    <tr>\n",
              "      <td id=\"T_39764_row15_col0\" class=\"data row15 col0\" >2017-04-29</td>\n",
              "      <td id=\"T_39764_row15_col1\" class=\"data row15 col1\" >169</td>\n",
              "    </tr>\n",
              "    <tr>\n",
              "      <td id=\"T_39764_row16_col0\" class=\"data row16 col0\" >2016-05-19</td>\n",
              "      <td id=\"T_39764_row16_col1\" class=\"data row16 col1\" >168</td>\n",
              "    </tr>\n",
              "    <tr>\n",
              "      <td id=\"T_39764_row17_col0\" class=\"data row17 col0\" >2016-10-23</td>\n",
              "      <td id=\"T_39764_row17_col1\" class=\"data row17 col1\" >167</td>\n",
              "    </tr>\n",
              "    <tr>\n",
              "      <td id=\"T_39764_row18_col0\" class=\"data row18 col0\" >2016-09-26</td>\n",
              "      <td id=\"T_39764_row18_col1\" class=\"data row18 col1\" >167</td>\n",
              "    </tr>\n",
              "    <tr>\n",
              "      <td id=\"T_39764_row19_col0\" class=\"data row19 col0\" >2016-02-27</td>\n",
              "      <td id=\"T_39764_row19_col1\" class=\"data row19 col1\" >167</td>\n",
              "    </tr>\n",
              "  </tbody>\n",
              "</table>\n"
            ]
          },
          "metadata": {},
          "execution_count": 248
        }
      ]
    },
    {
      "cell_type": "markdown",
      "source": [
        "Question 7B: Visualize the data from Question 7A as a line plot. (2.5 points)"
      ],
      "metadata": {
        "id": "ypSdByW2TFqf"
      }
    },
    {
      "cell_type": "code",
      "source": [
        "plt.figure()\n",
        "reservations_by_date.plot(x ='arrival_date', y ='number_of_reservations', kind = 'line')\n",
        "plt.title('Number of reservations over time')\n",
        "plt.xlabel('Dates')\n",
        "plt.ylabel('Reservations')\n",
        "plt.xticks(rotation = 45)\n",
        "plt.show()"
      ],
      "metadata": {
        "id": "3DxG3XxNTGIy",
        "colab": {
          "base_uri": "https://localhost:8080/",
          "height": 526
        },
        "outputId": "09619a5a-286e-48ee-ecdc-4eea9a549ba8"
      },
      "execution_count": 249,
      "outputs": [
        {
          "output_type": "display_data",
          "data": {
            "text/plain": [
              "<Figure size 640x480 with 0 Axes>"
            ]
          },
          "metadata": {}
        },
        {
          "output_type": "display_data",
          "data": {
            "text/plain": [
              "<Figure size 640x480 with 1 Axes>"
            ],
            "image/png": "[encoded data removed]"
          },
          "metadata": {}
        }
      ]
    },
    {
      "cell_type": "markdown",
      "source": [
        "Question 8A: What is the average daily reservation rate by hotel and customer type? Print your results in a dataframe and display all rows. (2.5 points)"
      ],
      "metadata": {
        "id": "u_CuvlIFTZSR"
      }
    },
    {
      "cell_type": "code",
      "source": [
        "#finding total number of days including the days when there were 0 reservations\n",
        "\n",
        "max_date = non_canceled_reservations['arrival_date'].max()\n",
        "min_date = non_canceled_reservations['arrival_date'].min()\n",
        "\n",
        "total_days = (max_date - min_date).days\n",
        "total_days\n",
        "\n",
        "# first we calculated the total reservations for each combination of hotel and customer type\n",
        "reservations_by_hotel_customer = non_canceled_reservations.groupby(['hotel', 'customer_type']).size().reset_index(name = 'total_reservations')\n",
        "reservations_by_hotel_customer\n",
        "\n",
        "# average daily reservation for each combination of hotel and customer type\n",
        "# Calculate the daily average reservations by dividing total_reservations by total_days\n",
        "\n",
        "reservations_by_hotel_customer['average_daily_reservations'] = reservations_by_hotel_customer['total_reservations'] / total_days\n",
        "reservations_by_hotel_customer\n"
      ],
      "metadata": {
        "id": "KVSsGBa2T9_f",
        "colab": {
          "base_uri": "https://localhost:8080/",
          "height": 300
        },
        "outputId": "5fd8edf4-8d5a-494b-9038-8da44f3b77f2"
      },
      "execution_count": 250,
      "outputs": [
        {
          "output_type": "execute_result",
          "data": {
            "text/plain": [
              "          hotel    customer_type  total_reservations  \\\n",
              "0    City Hotel         Contract                1195   \n",
              "1    City Hotel            Group                 264   \n",
              "2    City Hotel        Transient               32306   \n",
              "3    City Hotel  Transient-Party               12463   \n",
              "4  Resort Hotel         Contract                1619   \n",
              "5  Resort Hotel            Group                 254   \n",
              "6  Resort Hotel        Transient               20793   \n",
              "7  Resort Hotel  Transient-Party                6272   \n",
              "\n",
              "   average_daily_reservations  \n",
              "0                    1.508838  \n",
              "1                    0.333333  \n",
              "2                   40.790404  \n",
              "3                   15.736111  \n",
              "4                    2.044192  \n",
              "5                    0.320707  \n",
              "6                   26.253788  \n",
              "7                    7.919192  "
            ],
            "text/html": [
              "\n",
              "  <div id=\"df-ad50c88f-951a-42f7-b6f3-ef6dc1740d4e\" class=\"colab-df-container\">\n",
              "    <div>\n",
              "<style scoped>\n",
              "    .dataframe tbody tr th:only-of-type {\n",
              "        vertical-align: middle;\n",
              "    }\n",
              "\n",
              "    .dataframe tbody tr th {\n",
              "        vertical-align: top;\n",
              "    }\n",
              "\n",
              "    .dataframe thead th {\n",
              "        text-align: right;\n",
              "    }\n",
              "</style>\n",
              "<table border=\"1\" class=\"dataframe\">\n",
              "  <thead>\n",
              "    <tr style=\"text-align: right;\">\n",
              "      <th></th>\n",
              "      <th>hotel</th>\n",
              "      <th>customer_type</th>\n",
              "      <th>total_reservations</th>\n",
              "      <th>average_daily_reservations</th>\n",
              "    </tr>\n",
              "  </thead>\n",
              "  <tbody>\n",
              "    <tr>\n",
              "      <th>0</th>\n",
              "      <td>City Hotel</td>\n",
              "      <td>Contract</td>\n",
              "      <td>1195</td>\n",
              "      <td>1.508838</td>\n",
              "    </tr>\n",
              "    <tr>\n",
              "      <th>1</th>\n",
              "      <td>City Hotel</td>\n",
              "      <td>Group</td>\n",
              "      <td>264</td>\n",
              "      <td>0.333333</td>\n",
              "    </tr>\n",
              "    <tr>\n",
              "      <th>2</th>\n",
              "      <td>City Hotel</td>\n",
              "      <td>Transient</td>\n",
              "      <td>32306</td>\n",
              "      <td>40.790404</td>\n",
              "    </tr>\n",
              "    <tr>\n",
              "      <th>3</th>\n",
              "      <td>City Hotel</td>\n",
              "      <td>Transient-Party</td>\n",
              "      <td>12463</td>\n",
              "      <td>15.736111</td>\n",
              "    </tr>\n",
              "    <tr>\n",
              "      <th>4</th>\n",
              "      <td>Resort Hotel</td>\n",
              "      <td>Contract</td>\n",
              "      <td>1619</td>\n",
              "      <td>2.044192</td>\n",
              "    </tr>\n",
              "    <tr>\n",
              "      <th>5</th>\n",
              "      <td>Resort Hotel</td>\n",
              "      <td>Group</td>\n",
              "      <td>254</td>\n",
              "      <td>0.320707</td>\n",
              "    </tr>\n",
              "    <tr>\n",
              "      <th>6</th>\n",
              "      <td>Resort Hotel</td>\n",
              "      <td>Transient</td>\n",
              "      <td>20793</td>\n",
              "      <td>26.253788</td>\n",
              "    </tr>\n",
              "    <tr>\n",
              "      <th>7</th>\n",
              "      <td>Resort Hotel</td>\n",
              "      <td>Transient-Party</td>\n",
              "      <td>6272</td>\n",
              "      <td>7.919192</td>\n",
              "    </tr>\n",
              "  </tbody>\n",
              "</table>\n",
              "</div>\n",
              "    <div class=\"colab-df-buttons\">\n",
              "\n",
              "  <div class=\"colab-df-container\">\n",
              "    <button class=\"colab-df-convert\" onclick=\"convertToInteractive('df-ad50c88f-951a-42f7-b6f3-ef6dc1740d4e')\"\n",
              "            title=\"Convert this dataframe to an interactive table.\"\n",
              "            style=\"display:none;\">\n",
              "\n",
              "  <svg xmlns=\"http://www.w3.org/2000/svg\" height=\"24px\" viewBox=\"0 -960 960 960\">\n",
              "    <path d=\"M120-120v-720h720v720H120Zm60-500h600v-160H180v160Zm220 220h160v-160H400v160Zm0 220h160v-160H400v160ZM180-400h160v-160H180v160Zm440 0h160v-160H620v160ZM180-180h160v-160H180v160Zm440 0h160v-160H620v160Z\"/>\n",
              "  </svg>\n",
              "    </button>\n",
              "\n",
              "  <style>\n",
              "    .colab-df-container {\n",
              "      display:flex;\n",
              "      gap: 12px;\n",
              "    }\n",
              "\n",
              "    .colab-df-convert {\n",
              "      background-color: #E8F0FE;\n",
              "      border: none;\n",
              "      border-radius: 50%;\n",
              "      cursor: pointer;\n",
              "      display: none;\n",
              "      fill: #1967D2;\n",
              "      height: 32px;\n",
              "      padding: 0 0 0 0;\n",
              "      width: 32px;\n",
              "    }\n",
              "\n",
              "    .colab-df-convert:hover {\n",
              "      background-color: #E2EBFA;\n",
              "      box-shadow: 0px 1px 2px rgba(60, 64, 67, 0.3), 0px 1px 3px 1px rgba(60, 64, 67, 0.15);\n",
              "      fill: #174EA6;\n",
              "    }\n",
              "\n",
              "    .colab-df-buttons div {\n",
              "      margin-bottom: 4px;\n",
              "    }\n",
              "\n",
              "    [theme=dark] .colab-df-convert {\n",
              "      background-color: #3B4455;\n",
              "      fill: #D2E3FC;\n",
              "    }\n",
              "\n",
              "    [theme=dark] .colab-df-convert:hover {\n",
              "      background-color: #434B5C;\n",
              "      box-shadow: 0px 1px 3px 1px rgba(0, 0, 0, 0.15);\n",
              "      filter: drop-shadow(0px 1px 2px rgba(0, 0, 0, 0.3));\n",
              "      fill: #FFFFFF;\n",
              "    }\n",
              "  </style>\n",
              "\n",
              "    <script>\n",
              "      const buttonEl =\n",
              "        document.querySelector('#df-ad50c88f-951a-42f7-b6f3-ef6dc1740d4e button.colab-df-convert');\n",
              "      buttonEl.style.display =\n",
              "        google.colab.kernel.accessAllowed ? 'block' : 'none';\n",
              "\n",
              "      async function convertToInteractive(key) {\n",
              "        const element = document.querySelector('#df-ad50c88f-951a-42f7-b6f3-ef6dc1740d4e');\n",
              "        const dataTable =\n",
              "          await google.colab.kernel.invokeFunction('convertToInteractive',\n",
              "                                                    [key], {});\n",
              "        if (!dataTable) return;\n",
              "\n",
              "        const docLinkHtml = 'Like what you see? Visit the ' +\n",
              "          '<a target=\"_blank\" href=https://colab.research.google.com/notebooks/data_table.ipynb>data table notebook</a>'\n",
              "          + ' to learn more about interactive tables.';\n",
              "        element.innerHTML = '';\n",
              "        dataTable['output_type'] = 'display_data';\n",
              "        await google.colab.output.renderOutput(dataTable, element);\n",
              "        const docLink = document.createElement('div');\n",
              "        docLink.innerHTML = docLinkHtml;\n",
              "        element.appendChild(docLink);\n",
              "      }\n",
              "    </script>\n",
              "  </div>\n",
              "\n",
              "\n",
              "<div id=\"df-c82637d7-d365-4eba-a948-ed2b68b9f121\">\n",
              "  <button class=\"colab-df-quickchart\" onclick=\"quickchart('df-c82637d7-d365-4eba-a948-ed2b68b9f121')\"\n",
              "            title=\"Suggest charts.\"\n",
              "            style=\"display:none;\">\n",
              "\n",
              "<svg xmlns=\"http://www.w3.org/2000/svg\" height=\"24px\"viewBox=\"0 0 24 24\"\n",
              "     width=\"24px\">\n",
              "    <g>\n",
              "        <path d=\"M19 3H5c-1.1 0-2 .9-2 2v14c0 1.1.9 2 2 2h14c1.1 0 2-.9 2-2V5c0-1.1-.9-2-2-2zM9 17H7v-7h2v7zm4 0h-2V7h2v10zm4 0h-2v-4h2v4z\"/>\n",
              "    </g>\n",
              "</svg>\n",
              "  </button>\n",
              "\n",
              "<style>\n",
              "  .colab-df-quickchart {\n",
              "      --bg-color: #E8F0FE;\n",
              "      --fill-color: #1967D2;\n",
              "      --hover-bg-color: #E2EBFA;\n",
              "      --hover-fill-color: #174EA6;\n",
              "      --disabled-fill-color: #AAA;\n",
              "      --disabled-bg-color: #DDD;\n",
              "  }\n",
              "\n",
              "  [theme=dark] .colab-df-quickchart {\n",
              "      --bg-color: #3B4455;\n",
              "      --fill-color: #D2E3FC;\n",
              "      --hover-bg-color: #434B5C;\n",
              "      --hover-fill-color: #FFFFFF;\n",
              "      --disabled-bg-color: #3B4455;\n",
              "      --disabled-fill-color: #666;\n",
              "  }\n",
              "\n",
              "  .colab-df-quickchart {\n",
              "    background-color: var(--bg-color);\n",
              "    border: none;\n",
              "    border-radius: 50%;\n",
              "    cursor: pointer;\n",
              "    display: none;\n",
              "    fill: var(--fill-color);\n",
              "    height: 32px;\n",
              "    padding: 0;\n",
              "    width: 32px;\n",
              "  }\n",
              "\n",
              "  .colab-df-quickchart:hover {\n",
              "    background-color: var(--hover-bg-color);\n",
              "    box-shadow: 0 1px 2px rgba(60, 64, 67, 0.3), 0 1px 3px 1px rgba(60, 64, 67, 0.15);\n",
              "    fill: var(--button-hover-fill-color);\n",
              "  }\n",
              "\n",
              "  .colab-df-quickchart-complete:disabled,\n",
              "  .colab-df-quickchart-complete:disabled:hover {\n",
              "    background-color: var(--disabled-bg-color);\n",
              "    fill: var(--disabled-fill-color);\n",
              "    box-shadow: none;\n",
              "  }\n",
              "\n",
              "  .colab-df-spinner {\n",
              "    border: 2px solid var(--fill-color);\n",
              "    border-color: transparent;\n",
              "    border-bottom-color: var(--fill-color);\n",
              "    animation:\n",
              "      spin 1s steps(1) infinite;\n",
              "  }\n",
              "\n",
              "  @keyframes spin {\n",
              "    0% {\n",
              "      border-color: transparent;\n",
              "      border-bottom-color: var(--fill-color);\n",
              "      border-left-color: var(--fill-color);\n",
              "    }\n",
              "    20% {\n",
              "      border-color: transparent;\n",
              "      border-left-color: var(--fill-color);\n",
              "      border-top-color: var(--fill-color);\n",
              "    }\n",
              "    30% {\n",
              "      border-color: transparent;\n",
              "      border-left-color: var(--fill-color);\n",
              "      border-top-color: var(--fill-color);\n",
              "      border-right-color: var(--fill-color);\n",
              "    }\n",
              "    40% {\n",
              "      border-color: transparent;\n",
              "      border-right-color: var(--fill-color);\n",
              "      border-top-color: var(--fill-color);\n",
              "    }\n",
              "    60% {\n",
              "      border-color: transparent;\n",
              "      border-right-color: var(--fill-color);\n",
              "    }\n",
              "    80% {\n",
              "      border-color: transparent;\n",
              "      border-right-color: var(--fill-color);\n",
              "      border-bottom-color: var(--fill-color);\n",
              "    }\n",
              "    90% {\n",
              "      border-color: transparent;\n",
              "      border-bottom-color: var(--fill-color);\n",
              "    }\n",
              "  }\n",
              "</style>\n",
              "\n",
              "  <script>\n",
              "    async function quickchart(key) {\n",
              "      const quickchartButtonEl =\n",
              "        document.querySelector('#' + key + ' button');\n",
              "      quickchartButtonEl.disabled = true;  // To prevent multiple clicks.\n",
              "      quickchartButtonEl.classList.add('colab-df-spinner');\n",
              "      try {\n",
              "        const charts = await google.colab.kernel.invokeFunction(\n",
              "            'suggestCharts', [key], {});\n",
              "      } catch (error) {\n",
              "        console.error('Error during call to suggestCharts:', error);\n",
              "      }\n",
              "      quickchartButtonEl.classList.remove('colab-df-spinner');\n",
              "      quickchartButtonEl.classList.add('colab-df-quickchart-complete');\n",
              "    }\n",
              "    (() => {\n",
              "      let quickchartButtonEl =\n",
              "        document.querySelector('#df-c82637d7-d365-4eba-a948-ed2b68b9f121 button');\n",
              "      quickchartButtonEl.style.display =\n",
              "        google.colab.kernel.accessAllowed ? 'block' : 'none';\n",
              "    })();\n",
              "  </script>\n",
              "</div>\n",
              "    </div>\n",
              "  </div>\n"
            ]
          },
          "metadata": {},
          "execution_count": 250
        }
      ]
    },
    {
      "cell_type": "markdown",
      "source": [
        "Question 8B: Plot the dataframe from Question 8A as a boxplot. (2.5 points)"
      ],
      "metadata": {
        "id": "NgqgAadgT-SQ"
      }
    },
    {
      "cell_type": "code",
      "source": [
        "# first create a column for all the days between min and max date inclusive\n",
        "# essentially a sequence of dates\n",
        "date_range = pd.date_range(min_date, max_date)\n",
        "\n",
        "# converting this date range column to a dataframe\n",
        "df_dates = pd.DataFrame(date_range, columns=['arrival_date'])\n",
        "\n",
        "\n",
        "df_copy = non_canceled_reservations.copy()\n",
        "df_copy['arrival_date'] = pd.to_datetime(df_copy['arrival_date'])\n",
        "\n",
        "\n",
        "# merging the sequence of dates dataframe with the copy of non_cancled_reservations dataframe on arrival_date column\n",
        "merged_dataframe = pd.merge(df_dates,\n",
        "                     df_copy,\n",
        "                     on='arrival_date',\n",
        "                     how='left')\n",
        "# Group by arrival_date, hotel, and customer type, then count the number of reservations on each date\n",
        "daily_reservations = merged_dataframe.groupby(['arrival_date', 'hotel', 'customer_type']).size().reset_index(name='daily_count')\n",
        "daily_reservations\n",
        "\n",
        "plt.figure(figsize=(10, 10))\n",
        "sns.boxplot(data = daily_reservations, x= 'hotel', y= 'daily_count', hue ='customer_type')\n",
        "plt.title('daily reservations by hotel and customer type')\n",
        "plt.xlabel('Hotel')\n",
        "plt.ylabel('days on which there was reservation')\n",
        "plt.show()"
      ],
      "metadata": {
        "id": "501sT4wcUCWP",
        "colab": {
          "base_uri": "https://localhost:8080/",
          "height": 872
        },
        "outputId": "1088ffc7-c8f8-48cc-cde5-b447009b7ff3"
      },
      "execution_count": 251,
      "outputs": [
        {
          "output_type": "display_data",
          "data": {
            "text/plain": [
              "<Figure size 1000x1000 with 1 Axes>"
            ],
            "image/png": "[encoded data removed]"
          },
          "metadata": {}
        }
      ]
    },
    {
      "cell_type": "markdown",
      "source": [
        "Question 9A: Import the \"Country Codes and Coordinates\" spreadsheet into your environment, and merge it with your filtered dataset from Question 4. Display the top 10 countries by number of reservations. (2.5 points)"
      ],
      "metadata": {
        "id": "TgjoeJbBVpxt"
      }
    },
    {
      "cell_type": "code",
      "source": [
        "#from_drive = '/content/drive/MyDrive/MSAI339 HW1/country_codes_and_coordinates - countries_codes_and_coordinates.csv'\n",
        "\n",
        "print('upload the country codes and coordinates csv file')"
      ],
      "metadata": {
        "id": "SaH-LoeAZzz9",
        "colab": {
          "base_uri": "https://localhost:8080/"
        },
        "outputId": "413b9843-d38a-47f1-b97a-eee102177196"
      },
      "execution_count": 252,
      "outputs": [
        {
          "output_type": "stream",
          "name": "stdout",
          "text": [
            "upload the country codes and coordinates csv file\n"
          ]
        }
      ]
    },
    {
      "cell_type": "code",
      "source": [
        "country_codes_and_coordinates = pd.read_csv('country_codes_and_coordinates - countries_codes_and_coordinates.csv')\n",
        "\n",
        "#print(\"Columns in non_canceled_reservations: \", non_canceled_reservations.columns)\n",
        "#print(\"Columns in country_codes_and_coordinates: \", country_codes_and_coordinates.columns)\n",
        "\n",
        "\n",
        "country_codes_and_coordinates.rename(columns={'Country': 'country_name',\n",
        "                   'Alpha-3 code': 'country'}, inplace=True)\n",
        "\n",
        "merged_df = non_canceled_reservations.merge(country_codes_and_coordinates, on='country', how='left')\n",
        "\n",
        "\n",
        "reservation_by_countries = merged_df.groupby('country_name').size().reset_index(name = 'countries_by_reservations').sort_values(by='countries_by_reservations', ascending=False)\n",
        "reservation_by_countries.head(10)\n",
        "\n"
      ],
      "metadata": {
        "id": "mqhBuPc4XLAj",
        "colab": {
          "base_uri": "https://localhost:8080/",
          "height": 363
        },
        "outputId": "1c017aae-aa5b-40bf-957f-41f84a47fc47"
      },
      "execution_count": 253,
      "outputs": [
        {
          "output_type": "execute_result",
          "data": {
            "text/plain": [
              "       country_name  countries_by_reservations\n",
              "123        Portugal                      21071\n",
              "162  United Kingdom                       9676\n",
              "53           France                       8481\n",
              "144           Spain                       6391\n",
              "58          Germany                       6069\n",
              "72          Ireland                       2543\n",
              "74            Italy                       2433\n",
              "18          Belgium                       1868\n",
              "110     Netherlands                       1717\n",
              "163   United States                       1596"
            ],
            "text/html": [
              "\n",
              "  <div id=\"df-9a0ef430-809d-49ba-92dc-2bb1aecf4880\" class=\"colab-df-container\">\n",
              "    <div>\n",
              "<style scoped>\n",
              "    .dataframe tbody tr th:only-of-type {\n",
              "        vertical-align: middle;\n",
              "    }\n",
              "\n",
              "    .dataframe tbody tr th {\n",
              "        vertical-align: top;\n",
              "    }\n",
              "\n",
              "    .dataframe thead th {\n",
              "        text-align: right;\n",
              "    }\n",
              "</style>\n",
              "<table border=\"1\" class=\"dataframe\">\n",
              "  <thead>\n",
              "    <tr style=\"text-align: right;\">\n",
              "      <th></th>\n",
              "      <th>country_name</th>\n",
              "      <th>countries_by_reservations</th>\n",
              "    </tr>\n",
              "  </thead>\n",
              "  <tbody>\n",
              "    <tr>\n",
              "      <th>123</th>\n",
              "      <td>Portugal</td>\n",
              "      <td>21071</td>\n",
              "    </tr>\n",
              "    <tr>\n",
              "      <th>162</th>\n",
              "      <td>United Kingdom</td>\n",
              "      <td>9676</td>\n",
              "    </tr>\n",
              "    <tr>\n",
              "      <th>53</th>\n",
              "      <td>France</td>\n",
              "      <td>8481</td>\n",
              "    </tr>\n",
              "    <tr>\n",
              "      <th>144</th>\n",
              "      <td>Spain</td>\n",
              "      <td>6391</td>\n",
              "    </tr>\n",
              "    <tr>\n",
              "      <th>58</th>\n",
              "      <td>Germany</td>\n",
              "      <td>6069</td>\n",
              "    </tr>\n",
              "    <tr>\n",
              "      <th>72</th>\n",
              "      <td>Ireland</td>\n",
              "      <td>2543</td>\n",
              "    </tr>\n",
              "    <tr>\n",
              "      <th>74</th>\n",
              "      <td>Italy</td>\n",
              "      <td>2433</td>\n",
              "    </tr>\n",
              "    <tr>\n",
              "      <th>18</th>\n",
              "      <td>Belgium</td>\n",
              "      <td>1868</td>\n",
              "    </tr>\n",
              "    <tr>\n",
              "      <th>110</th>\n",
              "      <td>Netherlands</td>\n",
              "      <td>1717</td>\n",
              "    </tr>\n",
              "    <tr>\n",
              "      <th>163</th>\n",
              "      <td>United States</td>\n",
              "      <td>1596</td>\n",
              "    </tr>\n",
              "  </tbody>\n",
              "</table>\n",
              "</div>\n",
              "    <div class=\"colab-df-buttons\">\n",
              "\n",
              "  <div class=\"colab-df-container\">\n",
              "    <button class=\"colab-df-convert\" onclick=\"convertToInteractive('df-9a0ef430-809d-49ba-92dc-2bb1aecf4880')\"\n",
              "            title=\"Convert this dataframe to an interactive table.\"\n",
              "            style=\"display:none;\">\n",
              "\n",
              "  <svg xmlns=\"http://www.w3.org/2000/svg\" height=\"24px\" viewBox=\"0 -960 960 960\">\n",
              "    <path d=\"M120-120v-720h720v720H120Zm60-500h600v-160H180v160Zm220 220h160v-160H400v160Zm0 220h160v-160H400v160ZM180-400h160v-160H180v160Zm440 0h160v-160H620v160ZM180-180h160v-160H180v160Zm440 0h160v-160H620v160Z\"/>\n",
              "  </svg>\n",
              "    </button>\n",
              "\n",
              "  <style>\n",
              "    .colab-df-container {\n",
              "      display:flex;\n",
              "      gap: 12px;\n",
              "    }\n",
              "\n",
              "    .colab-df-convert {\n",
              "      background-color: #E8F0FE;\n",
              "      border: none;\n",
              "      border-radius: 50%;\n",
              "      cursor: pointer;\n",
              "      display: none;\n",
              "      fill: #1967D2;\n",
              "      height: 32px;\n",
              "      padding: 0 0 0 0;\n",
              "      width: 32px;\n",
              "    }\n",
              "\n",
              "    .colab-df-convert:hover {\n",
              "      background-color: #E2EBFA;\n",
              "      box-shadow: 0px 1px 2px rgba(60, 64, 67, 0.3), 0px 1px 3px 1px rgba(60, 64, 67, 0.15);\n",
              "      fill: #174EA6;\n",
              "    }\n",
              "\n",
              "    .colab-df-buttons div {\n",
              "      margin-bottom: 4px;\n",
              "    }\n",
              "\n",
              "    [theme=dark] .colab-df-convert {\n",
              "      background-color: #3B4455;\n",
              "      fill: #D2E3FC;\n",
              "    }\n",
              "\n",
              "    [theme=dark] .colab-df-convert:hover {\n",
              "      background-color: #434B5C;\n",
              "      box-shadow: 0px 1px 3px 1px rgba(0, 0, 0, 0.15);\n",
              "      filter: drop-shadow(0px 1px 2px rgba(0, 0, 0, 0.3));\n",
              "      fill: #FFFFFF;\n",
              "    }\n",
              "  </style>\n",
              "\n",
              "    <script>\n",
              "      const buttonEl =\n",
              "        document.querySelector('#df-9a0ef430-809d-49ba-92dc-2bb1aecf4880 button.colab-df-convert');\n",
              "      buttonEl.style.display =\n",
              "        google.colab.kernel.accessAllowed ? 'block' : 'none';\n",
              "\n",
              "      async function convertToInteractive(key) {\n",
              "        const element = document.querySelector('#df-9a0ef430-809d-49ba-92dc-2bb1aecf4880');\n",
              "        const dataTable =\n",
              "          await google.colab.kernel.invokeFunction('convertToInteractive',\n",
              "                                                    [key], {});\n",
              "        if (!dataTable) return;\n",
              "\n",
              "        const docLinkHtml = 'Like what you see? Visit the ' +\n",
              "          '<a target=\"_blank\" href=https://colab.research.google.com/notebooks/data_table.ipynb>data table notebook</a>'\n",
              "          + ' to learn more about interactive tables.';\n",
              "        element.innerHTML = '';\n",
              "        dataTable['output_type'] = 'display_data';\n",
              "        await google.colab.output.renderOutput(dataTable, element);\n",
              "        const docLink = document.createElement('div');\n",
              "        docLink.innerHTML = docLinkHtml;\n",
              "        element.appendChild(docLink);\n",
              "      }\n",
              "    </script>\n",
              "  </div>\n",
              "\n",
              "\n",
              "<div id=\"df-d3e624f7-cbfd-472b-a0de-66b4679a01b4\">\n",
              "  <button class=\"colab-df-quickchart\" onclick=\"quickchart('df-d3e624f7-cbfd-472b-a0de-66b4679a01b4')\"\n",
              "            title=\"Suggest charts.\"\n",
              "            style=\"display:none;\">\n",
              "\n",
              "<svg xmlns=\"http://www.w3.org/2000/svg\" height=\"24px\"viewBox=\"0 0 24 24\"\n",
              "     width=\"24px\">\n",
              "    <g>\n",
              "        <path d=\"M19 3H5c-1.1 0-2 .9-2 2v14c0 1.1.9 2 2 2h14c1.1 0 2-.9 2-2V5c0-1.1-.9-2-2-2zM9 17H7v-7h2v7zm4 0h-2V7h2v10zm4 0h-2v-4h2v4z\"/>\n",
              "    </g>\n",
              "</svg>\n",
              "  </button>\n",
              "\n",
              "<style>\n",
              "  .colab-df-quickchart {\n",
              "      --bg-color: #E8F0FE;\n",
              "      --fill-color: #1967D2;\n",
              "      --hover-bg-color: #E2EBFA;\n",
              "      --hover-fill-color: #174EA6;\n",
              "      --disabled-fill-color: #AAA;\n",
              "      --disabled-bg-color: #DDD;\n",
              "  }\n",
              "\n",
              "  [theme=dark] .colab-df-quickchart {\n",
              "      --bg-color: #3B4455;\n",
              "      --fill-color: #D2E3FC;\n",
              "      --hover-bg-color: #434B5C;\n",
              "      --hover-fill-color: #FFFFFF;\n",
              "      --disabled-bg-color: #3B4455;\n",
              "      --disabled-fill-color: #666;\n",
              "  }\n",
              "\n",
              "  .colab-df-quickchart {\n",
              "    background-color: var(--bg-color);\n",
              "    border: none;\n",
              "    border-radius: 50%;\n",
              "    cursor: pointer;\n",
              "    display: none;\n",
              "    fill: var(--fill-color);\n",
              "    height: 32px;\n",
              "    padding: 0;\n",
              "    width: 32px;\n",
              "  }\n",
              "\n",
              "  .colab-df-quickchart:hover {\n",
              "    background-color: var(--hover-bg-color);\n",
              "    box-shadow: 0 1px 2px rgba(60, 64, 67, 0.3), 0 1px 3px 1px rgba(60, 64, 67, 0.15);\n",
              "    fill: var(--button-hover-fill-color);\n",
              "  }\n",
              "\n",
              "  .colab-df-quickchart-complete:disabled,\n",
              "  .colab-df-quickchart-complete:disabled:hover {\n",
              "    background-color: var(--disabled-bg-color);\n",
              "    fill: var(--disabled-fill-color);\n",
              "    box-shadow: none;\n",
              "  }\n",
              "\n",
              "  .colab-df-spinner {\n",
              "    border: 2px solid var(--fill-color);\n",
              "    border-color: transparent;\n",
              "    border-bottom-color: var(--fill-color);\n",
              "    animation:\n",
              "      spin 1s steps(1) infinite;\n",
              "  }\n",
              "\n",
              "  @keyframes spin {\n",
              "    0% {\n",
              "      border-color: transparent;\n",
              "      border-bottom-color: var(--fill-color);\n",
              "      border-left-color: var(--fill-color);\n",
              "    }\n",
              "    20% {\n",
              "      border-color: transparent;\n",
              "      border-left-color: var(--fill-color);\n",
              "      border-top-color: var(--fill-color);\n",
              "    }\n",
              "    30% {\n",
              "      border-color: transparent;\n",
              "      border-left-color: var(--fill-color);\n",
              "      border-top-color: var(--fill-color);\n",
              "      border-right-color: var(--fill-color);\n",
              "    }\n",
              "    40% {\n",
              "      border-color: transparent;\n",
              "      border-right-color: var(--fill-color);\n",
              "      border-top-color: var(--fill-color);\n",
              "    }\n",
              "    60% {\n",
              "      border-color: transparent;\n",
              "      border-right-color: var(--fill-color);\n",
              "    }\n",
              "    80% {\n",
              "      border-color: transparent;\n",
              "      border-right-color: var(--fill-color);\n",
              "      border-bottom-color: var(--fill-color);\n",
              "    }\n",
              "    90% {\n",
              "      border-color: transparent;\n",
              "      border-bottom-color: var(--fill-color);\n",
              "    }\n",
              "  }\n",
              "</style>\n",
              "\n",
              "  <script>\n",
              "    async function quickchart(key) {\n",
              "      const quickchartButtonEl =\n",
              "        document.querySelector('#' + key + ' button');\n",
              "      quickchartButtonEl.disabled = true;  // To prevent multiple clicks.\n",
              "      quickchartButtonEl.classList.add('colab-df-spinner');\n",
              "      try {\n",
              "        const charts = await google.colab.kernel.invokeFunction(\n",
              "            'suggestCharts', [key], {});\n",
              "      } catch (error) {\n",
              "        console.error('Error during call to suggestCharts:', error);\n",
              "      }\n",
              "      quickchartButtonEl.classList.remove('colab-df-spinner');\n",
              "      quickchartButtonEl.classList.add('colab-df-quickchart-complete');\n",
              "    }\n",
              "    (() => {\n",
              "      let quickchartButtonEl =\n",
              "        document.querySelector('#df-d3e624f7-cbfd-472b-a0de-66b4679a01b4 button');\n",
              "      quickchartButtonEl.style.display =\n",
              "        google.colab.kernel.accessAllowed ? 'block' : 'none';\n",
              "    })();\n",
              "  </script>\n",
              "</div>\n",
              "    </div>\n",
              "  </div>\n"
            ]
          },
          "metadata": {},
          "execution_count": 253
        }
      ]
    },
    {
      "cell_type": "markdown",
      "source": [
        "Question 9B: Visualize the data from Question 9A as a horizontal bar plot. (2.5 points)"
      ],
      "metadata": {
        "id": "Zg37PX1mXLS7"
      }
    },
    {
      "cell_type": "code",
      "source": [
        "plt.figure()\n",
        "sns.barplot(data = reservation_by_countries.head(10), x= 'countries_by_reservations', y = 'country_name')\n",
        "plt.title('Number of reservations by country')\n",
        "plt.xlabel('No of reservations')\n",
        "plt.ylabel('countries')\n",
        "plt.show()"
      ],
      "metadata": {
        "id": "uTRDywQ1XgT8",
        "colab": {
          "base_uri": "https://localhost:8080/",
          "height": 472
        },
        "outputId": "52a72d7b-c9b7-4c88-d4d0-b37b2853f834"
      },
      "execution_count": 254,
      "outputs": [
        {
          "output_type": "display_data",
          "data": {
            "text/plain": [
              "<Figure size 640x480 with 1 Axes>"
            ],
            "image/png": "[encoded data removed]"
          },
          "metadata": {}
        }
      ]
    },
    {
      "cell_type": "markdown",
      "source": [
        "Question 10A: How many guests (including children and babies) are present on the average reservation? (2.5 points)"
      ],
      "metadata": {
        "id": "2Dr1gH-2Xgyk"
      }
    },
    {
      "cell_type": "code",
      "source": [
        "merged_df['total_guests'] = merged_df['adults'] + merged_df['children'] + merged_df['babies']\n",
        "\n",
        "guests_on_avg_reservation = merged_df['total_guests'].sum()/merged_df.shape[0]\n",
        "print(f'average guest per reservation are: {guests_on_avg_reservation}')\n",
        "\n"
      ],
      "metadata": {
        "id": "vdwLL0TeZReS",
        "colab": {
          "base_uri": "https://localhost:8080/"
        },
        "outputId": "6ae1bdf0-6e80-4aa4-ce1c-202a92eb49ed"
      },
      "execution_count": 255,
      "outputs": [
        {
          "output_type": "stream",
          "name": "stdout",
          "text": [
            "average guest per reservation are: 1.94264167888321\n"
          ]
        }
      ]
    },
    {
      "cell_type": "markdown",
      "source": [
        "Question 10B: True or False - Hotels below the equator have a higher average number of guests on reservations. (2.5 points)"
      ],
      "metadata": {
        "id": "yh2fpXOSZR6Q"
      }
    },
    {
      "cell_type": "code",
      "source": [
        "# creating a new column 'position' in merged_df, where the countries above equator i.e. latitude > 0 will be marked 1 and\n",
        "# countries below equator i.e. latitude < 0 will be marked 0\n",
        "\n",
        "#print(merged_df.columns)\n",
        "#print(non_canceled_reservations.columns)\n",
        "\n",
        "\n",
        "merged_df['position'] = (merged_df['Latitude (average)'] > 0)*1\n",
        "\n",
        "# to find the average guests per reservation above and below equator we count the rows by looking at the values in the column 'position'\n",
        "\n",
        "reservations_above_equator = (merged_df['position'] ).sum()\n",
        "reservations_below_equator = len(merged_df) - reservations_above_equator\n",
        "\n",
        "#print(reservations_above_equator)\n",
        "#print(reservations_below_equator)\n",
        "\n",
        "guests_above_equator = merged_df.loc[merged_df['position'] == 1, 'total_guests'].sum()\n",
        "guests_below_equator = merged_df.loc[merged_df['position'] == 0, 'total_guests'].sum()\n",
        "\n",
        "#print(guests_above_equator)\n",
        "#print(guests_below_equator)\n",
        "\n",
        "\n",
        "avg_guest_above_equator = guests_above_equator/reservations_above_equator\n",
        "avg_guest_below_equator = guests_below_equator/reservations_below_equator\n",
        "\n",
        "print(f'avg guests above equator per reservation are: {avg_guest_above_equator}')\n",
        "print(f'avg guests below equator per reservation are: {avg_guest_below_equator}')\n",
        "\n",
        "\n"
      ],
      "metadata": {
        "id": "yN0KK_2taIaB",
        "colab": {
          "base_uri": "https://localhost:8080/"
        },
        "outputId": "2b2d9b98-2f7b-4e60-d7a9-51380dfe76d9"
      },
      "execution_count": 256,
      "outputs": [
        {
          "output_type": "stream",
          "name": "stdout",
          "text": [
            "avg guests above equator per reservation are: 1.9398150079977745\n",
            "avg guests below equator per reservation are: 1.9958137100994244\n"
          ]
        }
      ]
    },
    {
      "cell_type": "markdown",
      "source": [
        "True, the hotels below equator have slightly more average guests per reservation"
      ],
      "metadata": {
        "id": "zVA9shkSexDW"
      }
    }
  ]
}