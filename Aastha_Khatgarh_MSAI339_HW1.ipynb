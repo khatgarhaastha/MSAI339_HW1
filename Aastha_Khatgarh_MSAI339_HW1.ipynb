{
  "nbformat": 4,
  "nbformat_minor": 0,
  "metadata": {
    "colab": {
      "provenance": [],
      "include_colab_link": true
    },
    "kernelspec": {
      "name": "python3",
      "display_name": "Python 3"
    },
    "language_info": {
      "name": "python"
    }
  },
  "cells": [
    {
      "cell_type": "markdown",
      "metadata": {
        "id": "view-in-github",
        "colab_type": "text"
      },
      "source": [
        "<a href=\"https://colab.research.google.com/github/khatgarhaastha/MSAI339_HW1/blob/main/Aastha_Khatgarh_MSAI339_HW1.ipynb\" target=\"_parent\"><img src=\"https://colab.research.google.com/assets/colab-badge.svg\" alt=\"Open In Colab\"/></a>"
      ]
    },
    {
      "cell_type": "markdown",
      "source": [
        "**Homework 1**\n",
        "\n",
        "The purpose of Homework 1 is to use Python to perform data analysis to solve some business questions related to a hotels business.<br>\n",
        "<br>\n"
      ],
      "metadata": {
        "id": "zYdezS2t-rls"
      }
    },
    {
      "cell_type": "markdown",
      "source": [
        "Some useful libraries - more could be necessary"
      ],
      "metadata": {
        "id": "PjeUHa3O-2Ty"
      }
    },
    {
      "cell_type": "code",
      "execution_count": 2,
      "metadata": {
        "id": "2ivsWzG5-m2Q"
      },
      "outputs": [],
      "source": [
        "import pandas as pd #used for data manipulatoin and analysis, particularly tables\n",
        "import matplotlib.pyplot as plt #Basic plotting library\n",
        "import seaborn as sns #Build on matplotlib, provides visually appealing plots\n",
        "import numpy as np #For numerical computations\n",
        "import re #commonly used for string matching, search and manipulation operations"
      ]
    },
    {
      "cell_type": "markdown",
      "source": [
        "Question 0: Import the hotels data into your environment, and generate a unique ID.\n",
        "\n"
      ],
      "metadata": {
        "id": "BQ18bJv8_SDr"
      }
    },
    {
      "cell_type": "markdown",
      "source": [
        "**Adding id as a unique identifier**"
      ],
      "metadata": {
        "id": "H7Hnm2wVDCLw"
      }
    },
    {
      "cell_type": "code",
      "source": [
        "from IPython.core.display import display, HTML # For dataframe styling purpose\n",
        "\n",
        "\n",
        "df = pd.read_csv('hotel_data.csv') #Loading data from csv file into a pandas dataframe 'df'\n",
        "df['id'] = df.index + 1 # Adding an id colums which starts from 1 and increments for each row\n",
        "\n",
        "cols = list(df.columns) # checking the position of id column\n",
        "cols = ['id'] + [col for col in cols if col != 'id'] # Reordering the list\n",
        "df = df.reindex(columns = cols) # Reindex the dataframe to reorder the columns\n",
        "\n",
        "l = list(df.columns)\n",
        "print('Total columns including id:', len(l))\n",
        "print('List of columns in hotel_data.csv file:', l, \"\\n\\n\")\n",
        "\n",
        "# Below is the python function that utilizes HTML to style dataframe\n",
        "def styled_df(df):\n",
        "    # Use the .to_html() DataFrame method to get an HTML table\n",
        "    table = df.to_html(index=False)\n",
        "\n",
        "    # Add style with CSS\n",
        "    table = table.replace('<table', '<table style=\"font-size: 80%;\"')\n",
        "\n",
        "    # Display the HTML object\n",
        "    display(HTML(table))\n",
        "\n",
        "styled_df( df.head())\n"
      ],
      "metadata": {
        "id": "tUu8TavY_Rwz",
        "colab": {
          "base_uri": "https://localhost:8080/",
          "height": 329
        },
        "outputId": "642a94a6-c855-4ba9-b711-13b4187acd9a"
      },
      "execution_count": 3,
      "outputs": [
        {
          "output_type": "stream",
          "name": "stdout",
          "text": [
            "Total columns including id: 33\n",
            "List of columns in hotel_data.csv file: ['id', 'hotel', 'is_canceled', 'lead_time', 'arrival_date_year', 'arrival_date_month', 'arrival_date_week_number', 'arrival_date_day_of_month', 'stays_in_weekend_nights', 'stays_in_week_nights', 'adults', 'children', 'babies', 'meal', 'country', 'market_segment', 'distribution_channel', 'is_repeated_guest', 'previous_cancellations', 'previous_bookings_not_canceled', 'reserved_room_type', 'assigned_room_type', 'booking_changes', 'deposit_type', 'agent', 'company', 'days_in_waiting_list', 'customer_type', 'adr', 'required_car_parking_spaces', 'total_of_special_requests', 'reservation_status', 'reservation_status_date'] \n",
            "\n",
            "\n"
          ]
        },
        {
          "output_type": "display_data",
          "data": {
            "text/plain": [
              "<IPython.core.display.HTML object>"
            ],
            "text/html": [
              "<table style=\"font-size: 80%;\" border=\"1\" class=\"dataframe\">\n",
              "  <thead>\n",
              "    <tr style=\"text-align: right;\">\n",
              "      <th>id</th>\n",
              "      <th>hotel</th>\n",
              "      <th>is_canceled</th>\n",
              "      <th>lead_time</th>\n",
              "      <th>arrival_date_year</th>\n",
              "      <th>arrival_date_month</th>\n",
              "      <th>arrival_date_week_number</th>\n",
              "      <th>arrival_date_day_of_month</th>\n",
              "      <th>stays_in_weekend_nights</th>\n",
              "      <th>stays_in_week_nights</th>\n",
              "      <th>adults</th>\n",
              "      <th>children</th>\n",
              "      <th>babies</th>\n",
              "      <th>meal</th>\n",
              "      <th>country</th>\n",
              "      <th>market_segment</th>\n",
              "      <th>distribution_channel</th>\n",
              "      <th>is_repeated_guest</th>\n",
              "      <th>previous_cancellations</th>\n",
              "      <th>previous_bookings_not_canceled</th>\n",
              "      <th>reserved_room_type</th>\n",
              "      <th>assigned_room_type</th>\n",
              "      <th>booking_changes</th>\n",
              "      <th>deposit_type</th>\n",
              "      <th>agent</th>\n",
              "      <th>company</th>\n",
              "      <th>days_in_waiting_list</th>\n",
              "      <th>customer_type</th>\n",
              "      <th>adr</th>\n",
              "      <th>required_car_parking_spaces</th>\n",
              "      <th>total_of_special_requests</th>\n",
              "      <th>reservation_status</th>\n",
              "      <th>reservation_status_date</th>\n",
              "    </tr>\n",
              "  </thead>\n",
              "  <tbody>\n",
              "    <tr>\n",
              "      <td>1</td>\n",
              "      <td>Resort Hotel</td>\n",
              "      <td>0</td>\n",
              "      <td>342</td>\n",
              "      <td>2015</td>\n",
              "      <td>July</td>\n",
              "      <td>27</td>\n",
              "      <td>1</td>\n",
              "      <td>0</td>\n",
              "      <td>0</td>\n",
              "      <td>2</td>\n",
              "      <td>0.0</td>\n",
              "      <td>0</td>\n",
              "      <td>BB</td>\n",
              "      <td>PRT</td>\n",
              "      <td>Direct</td>\n",
              "      <td>Direct</td>\n",
              "      <td>0</td>\n",
              "      <td>0</td>\n",
              "      <td>0</td>\n",
              "      <td>C</td>\n",
              "      <td>C</td>\n",
              "      <td>3</td>\n",
              "      <td>No Deposit</td>\n",
              "      <td>NaN</td>\n",
              "      <td>NaN</td>\n",
              "      <td>0</td>\n",
              "      <td>Transient</td>\n",
              "      <td>0.0</td>\n",
              "      <td>0</td>\n",
              "      <td>0</td>\n",
              "      <td>Check-Out</td>\n",
              "      <td>2015-07-01</td>\n",
              "    </tr>\n",
              "    <tr>\n",
              "      <td>2</td>\n",
              "      <td>Resort Hotel</td>\n",
              "      <td>0</td>\n",
              "      <td>737</td>\n",
              "      <td>2015</td>\n",
              "      <td>July</td>\n",
              "      <td>27</td>\n",
              "      <td>1</td>\n",
              "      <td>0</td>\n",
              "      <td>0</td>\n",
              "      <td>2</td>\n",
              "      <td>0.0</td>\n",
              "      <td>0</td>\n",
              "      <td>BB</td>\n",
              "      <td>PRT</td>\n",
              "      <td>Direct</td>\n",
              "      <td>Direct</td>\n",
              "      <td>0</td>\n",
              "      <td>0</td>\n",
              "      <td>0</td>\n",
              "      <td>C</td>\n",
              "      <td>C</td>\n",
              "      <td>4</td>\n",
              "      <td>No Deposit</td>\n",
              "      <td>NaN</td>\n",
              "      <td>NaN</td>\n",
              "      <td>0</td>\n",
              "      <td>Transient</td>\n",
              "      <td>0.0</td>\n",
              "      <td>0</td>\n",
              "      <td>0</td>\n",
              "      <td>Check-Out</td>\n",
              "      <td>2015-07-01</td>\n",
              "    </tr>\n",
              "    <tr>\n",
              "      <td>3</td>\n",
              "      <td>Resort Hotel</td>\n",
              "      <td>0</td>\n",
              "      <td>7</td>\n",
              "      <td>2015</td>\n",
              "      <td>July</td>\n",
              "      <td>27</td>\n",
              "      <td>1</td>\n",
              "      <td>0</td>\n",
              "      <td>1</td>\n",
              "      <td>1</td>\n",
              "      <td>0.0</td>\n",
              "      <td>0</td>\n",
              "      <td>BB</td>\n",
              "      <td>GBR</td>\n",
              "      <td>Direct</td>\n",
              "      <td>Direct</td>\n",
              "      <td>0</td>\n",
              "      <td>0</td>\n",
              "      <td>0</td>\n",
              "      <td>A</td>\n",
              "      <td>C</td>\n",
              "      <td>0</td>\n",
              "      <td>No Deposit</td>\n",
              "      <td>NaN</td>\n",
              "      <td>NaN</td>\n",
              "      <td>0</td>\n",
              "      <td>Transient</td>\n",
              "      <td>75.0</td>\n",
              "      <td>0</td>\n",
              "      <td>0</td>\n",
              "      <td>Check-Out</td>\n",
              "      <td>2015-07-02</td>\n",
              "    </tr>\n",
              "    <tr>\n",
              "      <td>4</td>\n",
              "      <td>Resort Hotel</td>\n",
              "      <td>0</td>\n",
              "      <td>13</td>\n",
              "      <td>2015</td>\n",
              "      <td>July</td>\n",
              "      <td>27</td>\n",
              "      <td>1</td>\n",
              "      <td>0</td>\n",
              "      <td>1</td>\n",
              "      <td>1</td>\n",
              "      <td>0.0</td>\n",
              "      <td>0</td>\n",
              "      <td>BB</td>\n",
              "      <td>GBR</td>\n",
              "      <td>Corporate</td>\n",
              "      <td>Corporate</td>\n",
              "      <td>0</td>\n",
              "      <td>0</td>\n",
              "      <td>0</td>\n",
              "      <td>A</td>\n",
              "      <td>A</td>\n",
              "      <td>0</td>\n",
              "      <td>No Deposit</td>\n",
              "      <td>304.0</td>\n",
              "      <td>NaN</td>\n",
              "      <td>0</td>\n",
              "      <td>Transient</td>\n",
              "      <td>75.0</td>\n",
              "      <td>0</td>\n",
              "      <td>0</td>\n",
              "      <td>Check-Out</td>\n",
              "      <td>2015-07-02</td>\n",
              "    </tr>\n",
              "    <tr>\n",
              "      <td>5</td>\n",
              "      <td>Resort Hotel</td>\n",
              "      <td>0</td>\n",
              "      <td>14</td>\n",
              "      <td>2015</td>\n",
              "      <td>July</td>\n",
              "      <td>27</td>\n",
              "      <td>1</td>\n",
              "      <td>0</td>\n",
              "      <td>2</td>\n",
              "      <td>2</td>\n",
              "      <td>0.0</td>\n",
              "      <td>0</td>\n",
              "      <td>BB</td>\n",
              "      <td>GBR</td>\n",
              "      <td>Online TA</td>\n",
              "      <td>TA/TO</td>\n",
              "      <td>0</td>\n",
              "      <td>0</td>\n",
              "      <td>0</td>\n",
              "      <td>A</td>\n",
              "      <td>A</td>\n",
              "      <td>0</td>\n",
              "      <td>No Deposit</td>\n",
              "      <td>240.0</td>\n",
              "      <td>NaN</td>\n",
              "      <td>0</td>\n",
              "      <td>Transient</td>\n",
              "      <td>98.0</td>\n",
              "      <td>0</td>\n",
              "      <td>1</td>\n",
              "      <td>Check-Out</td>\n",
              "      <td>2015-07-03</td>\n",
              "    </tr>\n",
              "  </tbody>\n",
              "</table>"
            ]
          },
          "metadata": {}
        }
      ]
    },
    {
      "cell_type": "markdown",
      "source": [
        "Question 1: Create a function that displays the data type, number and percentage of null values, and number of unique values for each column of a given dataframe. (5 points)"
      ],
      "metadata": {
        "id": "5G4RTMihAUwt"
      }
    },
    {
      "cell_type": "code",
      "source": [
        "def analyze_dataframe(df):\n",
        "    # Initialize an empty DataFrame to store the results\n",
        "    analysis = pd.DataFrame()\n",
        "\n",
        "    # Column names for the new DataFrame\n",
        "    analysis['Column Name'] = df.columns\n",
        "    analysis['Data Type'] = [df[col].dtype for col in df.columns]\n",
        "    analysis['Number of Nulls'] = [df[col].isna().sum() for col in df.columns]\n",
        "    analysis['% of Nulls'] = [(df[col].isna().sum() / df.shape[0]) * 100 for col in df.columns]\n",
        "    analysis['Number of Unique Values'] = [df[col].nunique() for col in df.columns]\n",
        "\n",
        "    return analysis\n",
        "analysis_result = analyze_dataframe(df)\n",
        "styled_df(analysis_result) # print the styled dataframe using function 'def styled_df(df)'"
      ],
      "metadata": {
        "id": "BrKaWzS5BKVB",
        "colab": {
          "base_uri": "https://localhost:8080/",
          "height": 871
        },
        "outputId": "42fb2f7e-6f50-4ce9-bdf9-622fee1c77c2"
      },
      "execution_count": 4,
      "outputs": [
        {
          "output_type": "display_data",
          "data": {
            "text/plain": [
              "<IPython.core.display.HTML object>"
            ],
            "text/html": [
              "<table style=\"font-size: 80%;\" border=\"1\" class=\"dataframe\">\n",
              "  <thead>\n",
              "    <tr style=\"text-align: right;\">\n",
              "      <th>Column Name</th>\n",
              "      <th>Data Type</th>\n",
              "      <th>Number of Nulls</th>\n",
              "      <th>% of Nulls</th>\n",
              "      <th>Number of Unique Values</th>\n",
              "    </tr>\n",
              "  </thead>\n",
              "  <tbody>\n",
              "    <tr>\n",
              "      <td>id</td>\n",
              "      <td>int64</td>\n",
              "      <td>0</td>\n",
              "      <td>0.000000</td>\n",
              "      <td>119390</td>\n",
              "    </tr>\n",
              "    <tr>\n",
              "      <td>hotel</td>\n",
              "      <td>object</td>\n",
              "      <td>0</td>\n",
              "      <td>0.000000</td>\n",
              "      <td>2</td>\n",
              "    </tr>\n",
              "    <tr>\n",
              "      <td>is_canceled</td>\n",
              "      <td>int64</td>\n",
              "      <td>0</td>\n",
              "      <td>0.000000</td>\n",
              "      <td>2</td>\n",
              "    </tr>\n",
              "    <tr>\n",
              "      <td>lead_time</td>\n",
              "      <td>int64</td>\n",
              "      <td>0</td>\n",
              "      <td>0.000000</td>\n",
              "      <td>479</td>\n",
              "    </tr>\n",
              "    <tr>\n",
              "      <td>arrival_date_year</td>\n",
              "      <td>int64</td>\n",
              "      <td>0</td>\n",
              "      <td>0.000000</td>\n",
              "      <td>3</td>\n",
              "    </tr>\n",
              "    <tr>\n",
              "      <td>arrival_date_month</td>\n",
              "      <td>object</td>\n",
              "      <td>0</td>\n",
              "      <td>0.000000</td>\n",
              "      <td>12</td>\n",
              "    </tr>\n",
              "    <tr>\n",
              "      <td>arrival_date_week_number</td>\n",
              "      <td>int64</td>\n",
              "      <td>0</td>\n",
              "      <td>0.000000</td>\n",
              "      <td>53</td>\n",
              "    </tr>\n",
              "    <tr>\n",
              "      <td>arrival_date_day_of_month</td>\n",
              "      <td>int64</td>\n",
              "      <td>0</td>\n",
              "      <td>0.000000</td>\n",
              "      <td>31</td>\n",
              "    </tr>\n",
              "    <tr>\n",
              "      <td>stays_in_weekend_nights</td>\n",
              "      <td>int64</td>\n",
              "      <td>0</td>\n",
              "      <td>0.000000</td>\n",
              "      <td>17</td>\n",
              "    </tr>\n",
              "    <tr>\n",
              "      <td>stays_in_week_nights</td>\n",
              "      <td>int64</td>\n",
              "      <td>0</td>\n",
              "      <td>0.000000</td>\n",
              "      <td>35</td>\n",
              "    </tr>\n",
              "    <tr>\n",
              "      <td>adults</td>\n",
              "      <td>int64</td>\n",
              "      <td>0</td>\n",
              "      <td>0.000000</td>\n",
              "      <td>14</td>\n",
              "    </tr>\n",
              "    <tr>\n",
              "      <td>children</td>\n",
              "      <td>float64</td>\n",
              "      <td>4</td>\n",
              "      <td>0.003350</td>\n",
              "      <td>5</td>\n",
              "    </tr>\n",
              "    <tr>\n",
              "      <td>babies</td>\n",
              "      <td>int64</td>\n",
              "      <td>0</td>\n",
              "      <td>0.000000</td>\n",
              "      <td>5</td>\n",
              "    </tr>\n",
              "    <tr>\n",
              "      <td>meal</td>\n",
              "      <td>object</td>\n",
              "      <td>0</td>\n",
              "      <td>0.000000</td>\n",
              "      <td>5</td>\n",
              "    </tr>\n",
              "    <tr>\n",
              "      <td>country</td>\n",
              "      <td>object</td>\n",
              "      <td>488</td>\n",
              "      <td>0.408744</td>\n",
              "      <td>177</td>\n",
              "    </tr>\n",
              "    <tr>\n",
              "      <td>market_segment</td>\n",
              "      <td>object</td>\n",
              "      <td>0</td>\n",
              "      <td>0.000000</td>\n",
              "      <td>8</td>\n",
              "    </tr>\n",
              "    <tr>\n",
              "      <td>distribution_channel</td>\n",
              "      <td>object</td>\n",
              "      <td>0</td>\n",
              "      <td>0.000000</td>\n",
              "      <td>5</td>\n",
              "    </tr>\n",
              "    <tr>\n",
              "      <td>is_repeated_guest</td>\n",
              "      <td>int64</td>\n",
              "      <td>0</td>\n",
              "      <td>0.000000</td>\n",
              "      <td>2</td>\n",
              "    </tr>\n",
              "    <tr>\n",
              "      <td>previous_cancellations</td>\n",
              "      <td>int64</td>\n",
              "      <td>0</td>\n",
              "      <td>0.000000</td>\n",
              "      <td>15</td>\n",
              "    </tr>\n",
              "    <tr>\n",
              "      <td>previous_bookings_not_canceled</td>\n",
              "      <td>int64</td>\n",
              "      <td>0</td>\n",
              "      <td>0.000000</td>\n",
              "      <td>73</td>\n",
              "    </tr>\n",
              "    <tr>\n",
              "      <td>reserved_room_type</td>\n",
              "      <td>object</td>\n",
              "      <td>0</td>\n",
              "      <td>0.000000</td>\n",
              "      <td>10</td>\n",
              "    </tr>\n",
              "    <tr>\n",
              "      <td>assigned_room_type</td>\n",
              "      <td>object</td>\n",
              "      <td>0</td>\n",
              "      <td>0.000000</td>\n",
              "      <td>12</td>\n",
              "    </tr>\n",
              "    <tr>\n",
              "      <td>booking_changes</td>\n",
              "      <td>int64</td>\n",
              "      <td>0</td>\n",
              "      <td>0.000000</td>\n",
              "      <td>21</td>\n",
              "    </tr>\n",
              "    <tr>\n",
              "      <td>deposit_type</td>\n",
              "      <td>object</td>\n",
              "      <td>0</td>\n",
              "      <td>0.000000</td>\n",
              "      <td>3</td>\n",
              "    </tr>\n",
              "    <tr>\n",
              "      <td>agent</td>\n",
              "      <td>float64</td>\n",
              "      <td>16340</td>\n",
              "      <td>13.686238</td>\n",
              "      <td>333</td>\n",
              "    </tr>\n",
              "    <tr>\n",
              "      <td>company</td>\n",
              "      <td>float64</td>\n",
              "      <td>112593</td>\n",
              "      <td>94.306893</td>\n",
              "      <td>352</td>\n",
              "    </tr>\n",
              "    <tr>\n",
              "      <td>days_in_waiting_list</td>\n",
              "      <td>int64</td>\n",
              "      <td>0</td>\n",
              "      <td>0.000000</td>\n",
              "      <td>128</td>\n",
              "    </tr>\n",
              "    <tr>\n",
              "      <td>customer_type</td>\n",
              "      <td>object</td>\n",
              "      <td>0</td>\n",
              "      <td>0.000000</td>\n",
              "      <td>4</td>\n",
              "    </tr>\n",
              "    <tr>\n",
              "      <td>adr</td>\n",
              "      <td>float64</td>\n",
              "      <td>0</td>\n",
              "      <td>0.000000</td>\n",
              "      <td>8879</td>\n",
              "    </tr>\n",
              "    <tr>\n",
              "      <td>required_car_parking_spaces</td>\n",
              "      <td>int64</td>\n",
              "      <td>0</td>\n",
              "      <td>0.000000</td>\n",
              "      <td>5</td>\n",
              "    </tr>\n",
              "    <tr>\n",
              "      <td>total_of_special_requests</td>\n",
              "      <td>int64</td>\n",
              "      <td>0</td>\n",
              "      <td>0.000000</td>\n",
              "      <td>6</td>\n",
              "    </tr>\n",
              "    <tr>\n",
              "      <td>reservation_status</td>\n",
              "      <td>object</td>\n",
              "      <td>0</td>\n",
              "      <td>0.000000</td>\n",
              "      <td>3</td>\n",
              "    </tr>\n",
              "    <tr>\n",
              "      <td>reservation_status_date</td>\n",
              "      <td>object</td>\n",
              "      <td>0</td>\n",
              "      <td>0.000000</td>\n",
              "      <td>926</td>\n",
              "    </tr>\n",
              "  </tbody>\n",
              "</table>"
            ]
          },
          "metadata": {}
        }
      ]
    },
    {
      "cell_type": "markdown",
      "source": [
        "Question 2A: Find the total number of visitors who have canceled a reservation. (1.5 points)"
      ],
      "metadata": {
        "id": "gxc7aXBnBR8q"
      }
    },
    {
      "cell_type": "code",
      "source": [
        "total_canceled = df['is_canceled'].sum()\n",
        "print(f\"Total number of visitors who have canceled a reservation: {total_canceled}\")"
      ],
      "metadata": {
        "id": "oKEnh9t0J4KU",
        "colab": {
          "base_uri": "https://localhost:8080/"
        },
        "outputId": "d9877af5-7990-493d-e142-8b1f0f23688f"
      },
      "execution_count": 5,
      "outputs": [
        {
          "output_type": "stream",
          "name": "stdout",
          "text": [
            "Total number of visitors who have canceled a reservation: 44224\n"
          ]
        }
      ]
    },
    {
      "cell_type": "markdown",
      "source": [
        "Question 2B: Which month has the most cancellations? (1.5 points)"
      ],
      "metadata": {
        "id": "fqSSQVsvJ4zT"
      }
    },
    {
      "cell_type": "code",
      "source": [
        "canceled_reservations = df[df['is_canceled'] == 1]\n",
        "cancellations_by_month = canceled_reservations.groupby('arrival_date_month').size()\n",
        "most_cancellations_month = cancellations_by_month.idxmax()\n",
        "most_cancellations_count = cancellations_by_month.max()\n",
        "\n",
        "# Printing the most cancellations with the corresponding month\n",
        "print(f\"The month with the most cancellations is {most_cancellations_month} with {most_cancellations_count} cancellations. \\n\\n\")\n",
        "\n",
        "# Making a dataframe for better visualisation of data and utilising html to diaplay table\n",
        "df_cancellations_by_month = cancellations_by_month.reset_index()\n",
        "df_cancellations_by_month.columns = ['Month', 'Number of cancellations']\n",
        "\n",
        "# Sorting the table by months in ascending order\n",
        "month_order = ['January', 'February', 'March', 'April', 'May', 'June', 'July', 'August', 'September', 'October', 'November', 'December']\n",
        "df_cancellations_by_month['Month'] = pd.Categorical(df_cancellations_by_month['Month'], categories = month_order, ordered = True)\n",
        "df_cancellations_by_month = df_cancellations_by_month.sort_values('Month')\n",
        "\n",
        "#df_cancellations_by_month.set_index('Month', inplace=True)\n",
        "\n",
        "# Print the sorted dataframe for cancelletions in each month\n",
        "styled_df(df_cancellations_by_month)\n",
        "\n",
        "\n"
      ],
      "metadata": {
        "id": "lkQI3KbMKyny",
        "colab": {
          "base_uri": "https://localhost:8080/",
          "height": 398
        },
        "outputId": "8d896555-924d-40ec-d2c9-7640ca4fcb7f"
      },
      "execution_count": 6,
      "outputs": [
        {
          "output_type": "stream",
          "name": "stdout",
          "text": [
            "The month with the most cancellations is August with 5239 cancellations. \n",
            "\n",
            "\n"
          ]
        },
        {
          "output_type": "display_data",
          "data": {
            "text/plain": [
              "<IPython.core.display.HTML object>"
            ],
            "text/html": [
              "<table style=\"font-size: 80%;\" border=\"1\" class=\"dataframe\">\n",
              "  <thead>\n",
              "    <tr style=\"text-align: right;\">\n",
              "      <th>Month</th>\n",
              "      <th>Number of cancellations</th>\n",
              "    </tr>\n",
              "  </thead>\n",
              "  <tbody>\n",
              "    <tr>\n",
              "      <td>January</td>\n",
              "      <td>1807</td>\n",
              "    </tr>\n",
              "    <tr>\n",
              "      <td>February</td>\n",
              "      <td>2696</td>\n",
              "    </tr>\n",
              "    <tr>\n",
              "      <td>March</td>\n",
              "      <td>3149</td>\n",
              "    </tr>\n",
              "    <tr>\n",
              "      <td>April</td>\n",
              "      <td>4524</td>\n",
              "    </tr>\n",
              "    <tr>\n",
              "      <td>May</td>\n",
              "      <td>4677</td>\n",
              "    </tr>\n",
              "    <tr>\n",
              "      <td>June</td>\n",
              "      <td>4535</td>\n",
              "    </tr>\n",
              "    <tr>\n",
              "      <td>July</td>\n",
              "      <td>4742</td>\n",
              "    </tr>\n",
              "    <tr>\n",
              "      <td>August</td>\n",
              "      <td>5239</td>\n",
              "    </tr>\n",
              "    <tr>\n",
              "      <td>September</td>\n",
              "      <td>4116</td>\n",
              "    </tr>\n",
              "    <tr>\n",
              "      <td>October</td>\n",
              "      <td>4246</td>\n",
              "    </tr>\n",
              "    <tr>\n",
              "      <td>November</td>\n",
              "      <td>2122</td>\n",
              "    </tr>\n",
              "    <tr>\n",
              "      <td>December</td>\n",
              "      <td>2371</td>\n",
              "    </tr>\n",
              "  </tbody>\n",
              "</table>"
            ]
          },
          "metadata": {}
        }
      ]
    },
    {
      "cell_type": "markdown",
      "source": [
        "Question 2C: Plot the number of cancellations per month in a histogram. (2 points)"
      ],
      "metadata": {
        "id": "AtjZACxqLAfY"
      }
    },
    {
      "cell_type": "code",
      "source": [
        "plt.figure(figsize=(12, 6))\n",
        "plt.bar(df_cancellations_by_month['Month'], df_cancellations_by_month['Number of cancellations'])\n",
        "\n",
        "plt.title('Number of Cancellations per Month')\n",
        "plt.xlabel('Month')\n",
        "plt.ylabel('Number of Cancellations')\n",
        "\n",
        "plt.show()"
      ],
      "metadata": {
        "id": "Ytx6uWYPLktP",
        "colab": {
          "base_uri": "https://localhost:8080/",
          "height": 564
        },
        "outputId": "5077d1a2-8179-41e0-d67c-3d079f8b1ee8"
      },
      "execution_count": 7,
      "outputs": [
        {
          "output_type": "display_data",
          "data": {
            "text/plain": [
              "<Figure size 1200x600 with 1 Axes>"
            ],
            "image/png": "[encoded data removed]"
          },
          "metadata": {}
        }
      ]
    },
    {
      "cell_type": "markdown",
      "source": [
        "Question 3: Create a function that prints the percentage of canceled reservations for EACH hotel. (5 points)"
      ],
      "metadata": {
        "id": "r27T8t3rLbkK"
      }
    },
    {
      "cell_type": "code",
      "source": [
        "# finding how many different hotels are in the dataset\n",
        "unique_hotels = df['hotel'].unique()\n",
        "print('Hotels in data set:\\n',unique_hotels, '\\n\\n')\n",
        "\n",
        "# function to calculate the percentage of canceled reservations for each hotel\n",
        "def hotel_cancellations(df):\n",
        "\n",
        "  # finding toatl reservations for each hotel\n",
        "  total_reservations_per_hotel = df.groupby('hotel').size()\n",
        "  print('Total reservations for each hotel:\\n', total_reservations_per_hotel,'\\n\\n')\n",
        "\n",
        "  # finding out the cancellation data for each hotel\n",
        "  total_cancellation_per_hotel = df.groupby('hotel')['is_canceled'].sum()\n",
        "  print('Total cancelations for each hotel:\\n',total_cancellation_per_hotel,'\\n\\n')\n",
        "\n",
        "  cancelation_percentage_for_each_hotel = (total_cancellation_per_hotel / total_reservations_per_hotel)*100\n",
        "\n",
        "  for hotel , percentage in cancelation_percentage_for_each_hotel.items():\n",
        "    print(f\"Percentage of canceled reservation for {hotel} is {percentage:.2f}%\\n\")\n",
        "\n",
        "hotel_cancellations(df)\n",
        "\n",
        "\n"
      ],
      "metadata": {
        "id": "liHejMPTMLXO",
        "colab": {
          "base_uri": "https://localhost:8080/"
        },
        "outputId": "a32b0854-13da-49c1-bd54-61adbb5c1b8c"
      },
      "execution_count": 8,
      "outputs": [
        {
          "output_type": "stream",
          "name": "stdout",
          "text": [
            "Hotels in data set:\n",
            " ['Resort Hotel' 'City Hotel'] \n",
            "\n",
            "\n",
            "Total reservations for each hotel:\n",
            " hotel\n",
            "City Hotel      79330\n",
            "Resort Hotel    40060\n",
            "dtype: int64 \n",
            "\n",
            "\n",
            "Total cancelations for each hotel:\n",
            " hotel\n",
            "City Hotel      33102\n",
            "Resort Hotel    11122\n",
            "Name: is_canceled, dtype: int64 \n",
            "\n",
            "\n",
            "Percentage of canceled reservation for City Hotel is 41.73%\n",
            "\n",
            "Percentage of canceled reservation for Resort Hotel is 27.76%\n",
            "\n"
          ]
        }
      ]
    },
    {
      "cell_type": "markdown",
      "source": [
        "Question 4: Filter the dataset so that it only contains visitors who have not canceled their reservations. Store this dataset as a separate variable (we will be using it going forward). (5 points)"
      ],
      "metadata": {
        "id": "0jvxLvfRMkp2"
      }
    },
    {
      "cell_type": "code",
      "source": [
        "df_not_canceled = df[df['is_canceled'] == 0]\n",
        "styled_df(df_not_canceled.head())"
      ],
      "metadata": {
        "id": "KY3UgXc1MkR-",
        "colab": {
          "base_uri": "https://localhost:8080/",
          "height": 258
        },
        "outputId": "1bcfcdc2-f64f-4159-d8ed-0a05edf909fe"
      },
      "execution_count": 9,
      "outputs": [
        {
          "output_type": "display_data",
          "data": {
            "text/plain": [
              "<IPython.core.display.HTML object>"
            ],
            "text/html": [
              "<table style=\"font-size: 80%;\" border=\"1\" class=\"dataframe\">\n",
              "  <thead>\n",
              "    <tr style=\"text-align: right;\">\n",
              "      <th>id</th>\n",
              "      <th>hotel</th>\n",
              "      <th>is_canceled</th>\n",
              "      <th>lead_time</th>\n",
              "      <th>arrival_date_year</th>\n",
              "      <th>arrival_date_month</th>\n",
              "      <th>arrival_date_week_number</th>\n",
              "      <th>arrival_date_day_of_month</th>\n",
              "      <th>stays_in_weekend_nights</th>\n",
              "      <th>stays_in_week_nights</th>\n",
              "      <th>adults</th>\n",
              "      <th>children</th>\n",
              "      <th>babies</th>\n",
              "      <th>meal</th>\n",
              "      <th>country</th>\n",
              "      <th>market_segment</th>\n",
              "      <th>distribution_channel</th>\n",
              "      <th>is_repeated_guest</th>\n",
              "      <th>previous_cancellations</th>\n",
              "      <th>previous_bookings_not_canceled</th>\n",
              "      <th>reserved_room_type</th>\n",
              "      <th>assigned_room_type</th>\n",
              "      <th>booking_changes</th>\n",
              "      <th>deposit_type</th>\n",
              "      <th>agent</th>\n",
              "      <th>company</th>\n",
              "      <th>days_in_waiting_list</th>\n",
              "      <th>customer_type</th>\n",
              "      <th>adr</th>\n",
              "      <th>required_car_parking_spaces</th>\n",
              "      <th>total_of_special_requests</th>\n",
              "      <th>reservation_status</th>\n",
              "      <th>reservation_status_date</th>\n",
              "    </tr>\n",
              "  </thead>\n",
              "  <tbody>\n",
              "    <tr>\n",
              "      <td>1</td>\n",
              "      <td>Resort Hotel</td>\n",
              "      <td>0</td>\n",
              "      <td>342</td>\n",
              "      <td>2015</td>\n",
              "      <td>July</td>\n",
              "      <td>27</td>\n",
              "      <td>1</td>\n",
              "      <td>0</td>\n",
              "      <td>0</td>\n",
              "      <td>2</td>\n",
              "      <td>0.0</td>\n",
              "      <td>0</td>\n",
              "      <td>BB</td>\n",
              "      <td>PRT</td>\n",
              "      <td>Direct</td>\n",
              "      <td>Direct</td>\n",
              "      <td>0</td>\n",
              "      <td>0</td>\n",
              "      <td>0</td>\n",
              "      <td>C</td>\n",
              "      <td>C</td>\n",
              "      <td>3</td>\n",
              "      <td>No Deposit</td>\n",
              "      <td>NaN</td>\n",
              "      <td>NaN</td>\n",
              "      <td>0</td>\n",
              "      <td>Transient</td>\n",
              "      <td>0.0</td>\n",
              "      <td>0</td>\n",
              "      <td>0</td>\n",
              "      <td>Check-Out</td>\n",
              "      <td>2015-07-01</td>\n",
              "    </tr>\n",
              "    <tr>\n",
              "      <td>2</td>\n",
              "      <td>Resort Hotel</td>\n",
              "      <td>0</td>\n",
              "      <td>737</td>\n",
              "      <td>2015</td>\n",
              "      <td>July</td>\n",
              "      <td>27</td>\n",
              "      <td>1</td>\n",
              "      <td>0</td>\n",
              "      <td>0</td>\n",
              "      <td>2</td>\n",
              "      <td>0.0</td>\n",
              "      <td>0</td>\n",
              "      <td>BB</td>\n",
              "      <td>PRT</td>\n",
              "      <td>Direct</td>\n",
              "      <td>Direct</td>\n",
              "      <td>0</td>\n",
              "      <td>0</td>\n",
              "      <td>0</td>\n",
              "      <td>C</td>\n",
              "      <td>C</td>\n",
              "      <td>4</td>\n",
              "      <td>No Deposit</td>\n",
              "      <td>NaN</td>\n",
              "      <td>NaN</td>\n",
              "      <td>0</td>\n",
              "      <td>Transient</td>\n",
              "      <td>0.0</td>\n",
              "      <td>0</td>\n",
              "      <td>0</td>\n",
              "      <td>Check-Out</td>\n",
              "      <td>2015-07-01</td>\n",
              "    </tr>\n",
              "    <tr>\n",
              "      <td>3</td>\n",
              "      <td>Resort Hotel</td>\n",
              "      <td>0</td>\n",
              "      <td>7</td>\n",
              "      <td>2015</td>\n",
              "      <td>July</td>\n",
              "      <td>27</td>\n",
              "      <td>1</td>\n",
              "      <td>0</td>\n",
              "      <td>1</td>\n",
              "      <td>1</td>\n",
              "      <td>0.0</td>\n",
              "      <td>0</td>\n",
              "      <td>BB</td>\n",
              "      <td>GBR</td>\n",
              "      <td>Direct</td>\n",
              "      <td>Direct</td>\n",
              "      <td>0</td>\n",
              "      <td>0</td>\n",
              "      <td>0</td>\n",
              "      <td>A</td>\n",
              "      <td>C</td>\n",
              "      <td>0</td>\n",
              "      <td>No Deposit</td>\n",
              "      <td>NaN</td>\n",
              "      <td>NaN</td>\n",
              "      <td>0</td>\n",
              "      <td>Transient</td>\n",
              "      <td>75.0</td>\n",
              "      <td>0</td>\n",
              "      <td>0</td>\n",
              "      <td>Check-Out</td>\n",
              "      <td>2015-07-02</td>\n",
              "    </tr>\n",
              "    <tr>\n",
              "      <td>4</td>\n",
              "      <td>Resort Hotel</td>\n",
              "      <td>0</td>\n",
              "      <td>13</td>\n",
              "      <td>2015</td>\n",
              "      <td>July</td>\n",
              "      <td>27</td>\n",
              "      <td>1</td>\n",
              "      <td>0</td>\n",
              "      <td>1</td>\n",
              "      <td>1</td>\n",
              "      <td>0.0</td>\n",
              "      <td>0</td>\n",
              "      <td>BB</td>\n",
              "      <td>GBR</td>\n",
              "      <td>Corporate</td>\n",
              "      <td>Corporate</td>\n",
              "      <td>0</td>\n",
              "      <td>0</td>\n",
              "      <td>0</td>\n",
              "      <td>A</td>\n",
              "      <td>A</td>\n",
              "      <td>0</td>\n",
              "      <td>No Deposit</td>\n",
              "      <td>304.0</td>\n",
              "      <td>NaN</td>\n",
              "      <td>0</td>\n",
              "      <td>Transient</td>\n",
              "      <td>75.0</td>\n",
              "      <td>0</td>\n",
              "      <td>0</td>\n",
              "      <td>Check-Out</td>\n",
              "      <td>2015-07-02</td>\n",
              "    </tr>\n",
              "    <tr>\n",
              "      <td>5</td>\n",
              "      <td>Resort Hotel</td>\n",
              "      <td>0</td>\n",
              "      <td>14</td>\n",
              "      <td>2015</td>\n",
              "      <td>July</td>\n",
              "      <td>27</td>\n",
              "      <td>1</td>\n",
              "      <td>0</td>\n",
              "      <td>2</td>\n",
              "      <td>2</td>\n",
              "      <td>0.0</td>\n",
              "      <td>0</td>\n",
              "      <td>BB</td>\n",
              "      <td>GBR</td>\n",
              "      <td>Online TA</td>\n",
              "      <td>TA/TO</td>\n",
              "      <td>0</td>\n",
              "      <td>0</td>\n",
              "      <td>0</td>\n",
              "      <td>A</td>\n",
              "      <td>A</td>\n",
              "      <td>0</td>\n",
              "      <td>No Deposit</td>\n",
              "      <td>240.0</td>\n",
              "      <td>NaN</td>\n",
              "      <td>0</td>\n",
              "      <td>Transient</td>\n",
              "      <td>98.0</td>\n",
              "      <td>0</td>\n",
              "      <td>1</td>\n",
              "      <td>Check-Out</td>\n",
              "      <td>2015-07-03</td>\n",
              "    </tr>\n",
              "  </tbody>\n",
              "</table>"
            ]
          },
          "metadata": {}
        }
      ]
    },
    {
      "cell_type": "markdown",
      "source": [
        "Question 5A: Using the filtered dataset from Question 4, create a plot for each hotel showing the number of reservations for each month of arrival. Draw a conclusion on whether the trend is the same between the two hotels (in a sentence or two). (2.5 points)"
      ],
      "metadata": {
        "id": "IMl_bmdvOHPd"
      }
    },
    {
      "cell_type": "code",
      "source": [
        "# 1. Filter the dataset by hotel\n",
        "# 2. group the dtaset by month of arrival\n",
        "# 3. Count the number of reservations for each month\n",
        "# 4. Plot the results\n",
        "\n",
        "# making a for loop to go over the data for differen hotels (overwrites the data in filterd_df for each unique hotel in each iteration)\n",
        "for hotel in df_not_canceled['hotel'].unique():\n",
        "\n",
        "  # Filter the dataframe for each hotel\n",
        "  filtered_df = df_not_canceled[df_not_canceled['hotel'] == hotel]\n",
        "\n",
        "  # Group the data by month and count the reservations\n",
        "  reservations_by_month = filtered_df.groupby('arrival_date_month').size().reset_index(name = 'Number of reservations')\n",
        "\n",
        "  # Make the months ordered in the created reservations-by_month dataframe\n",
        "  month_order =['January','February', 'March', 'April', 'May', 'June', 'July', 'August', 'September', 'October', 'November', 'December']\n",
        "  reservations_by_month['arrival_date_month'] = pd.Categorical(reservations_by_month['arrival_date_month'], categories = month_order, ordered=True)\n",
        "\n",
        "  # Plot the data using matplotlib and seaborn\n",
        "  plt.figure(figsize=(12,4))\n",
        "  sns.barplot(x = 'arrival_date_month', y = 'Number of reservations', data = reservations_by_month)\n",
        "  plt.title(f'Number of reservation for each month of arrival for {hotel}')\n",
        "  plt.show()\n",
        "\n",
        "\n",
        "\n",
        "\n"
      ],
      "metadata": {
        "id": "mF-_JChKOqRr",
        "colab": {
          "base_uri": "https://localhost:8080/",
          "height": 803
        },
        "outputId": "e039bbb4-0c90-493f-a96c-2be79381d618"
      },
      "execution_count": 14,
      "outputs": [
        {
          "output_type": "display_data",
          "data": {
            "text/plain": [
              "<Figure size 1200x400 with 1 Axes>"
            ],
            "image/png": "[encoded data removed]"
          },
          "metadata": {}
        },
        {
          "output_type": "display_data",
          "data": {
            "text/plain": [
              "<Figure size 1200x400 with 1 Axes>"
            ],
            "image/png": "[encoded data removed]"
          },
          "metadata": {}
        }
      ]
    },
    {
      "cell_type": "markdown",
      "source": [
        "Conclusion:\n",
        "1. Both hotels shows a incerase in reservations during the months of July and August, and reservations peaked in August.\n",
        "2. The overall tred of reservations throughout the year is almost similar for both hotels, but reservations in months of Nov and Dec for City Hotel have a more significant drop than Resort hotel.\n"
      ],
      "metadata": {
        "id": "wxj8q6bWOqsj"
      }
    },
    {
      "cell_type": "markdown",
      "source": [
        "Question 5B: Using the filtered dataset from Question 4, create a plot for each hotel showing the number of reservations for each month of arrival, delineated by whether or not there are children (or babies) present on the reservation. (2.5 points)"
      ],
      "metadata": {
        "id": "qmldNIjVOtR0"
      }
    },
    {
      "cell_type": "code",
      "source": [
        "# Find the number of reservations with children or babies for each month\n",
        "\n",
        "# to avoid the modifications in original df\n",
        "df_not_canceled = df[df['is_canceled'] == 0].copy()\n",
        "\n",
        "# 1. Create a new column in df_not_cancled for reservations with children or babies\n",
        "df_not_canceled['has_children_or_babies'] = (df_not_canceled['children'] > 0) | (df_not_canceled['babies'] > 0)\n",
        "\n",
        "# 2. Group the data\n",
        "grouped_data = df_not_canceled.groupby(['hotel', 'arrival_date_month', 'has_children_or_babies']).size().reset_index(name = 'Reservations')\n",
        "#print(grouped_data.head())\n",
        "\n",
        "# Sort the months in order from Jan to Dec\n",
        "#month_order = ['January', 'February', 'March', 'April', 'May', 'June', 'July', 'August', 'September', 'October', 'November', 'December']\n",
        "grouped_data['arrival_date_month'] = pd.Categorical(grouped_data['arrival_date_month'], categories = month_order, ordered=True)\n",
        "\n",
        "\n",
        "# 3. Plot the data\n",
        "g = sns.catplot(x='arrival_date_month', y='Reservations', hue='has_children_or_babies', col='hotel', data=grouped_data, kind='bar')\n",
        "g.set_xticklabels(rotation=45)\n",
        "plt.show()\n",
        "\n"
      ],
      "metadata": {
        "id": "Ms-Z8xlGPbJz",
        "colab": {
          "base_uri": "https://localhost:8080/",
          "height": 553
        },
        "outputId": "77f53f02-c8f2-4cc0-a386-e02667c59eb2"
      },
      "execution_count": 24,
      "outputs": [
        {
          "output_type": "display_data",
          "data": {
            "text/plain": [
              "<Figure size 1172.49x500 with 2 Axes>"
            ],
            "image/png": "[encoded data removed]"
          },
          "metadata": {}
        }
      ]
    },
    {
      "cell_type": "markdown",
      "source": [
        "Question 6: Using the filtered dataset from Question 4, create a single column for \"arrival_date\" that shows the date of arrival in Year-Month-Day format. (5 points)"
      ],
      "metadata": {
        "id": "OWYWSqbLQUzg"
      }
    },
    {
      "cell_type": "code",
      "source": [
        "# will need to combine colums 'arrival_date_year', 'arrival_date_month' and 'arrival_date_day_of_month' of dataframe\n",
        "# to form the \"arrival_date\" column\n",
        "\n",
        "# 1. Conver the months to numbers to satisfy yyyy-mm-dd format\n",
        "month_to_num = {\n",
        "    'January':'01', 'February':'02', 'March':'03', 'April':'04', 'May':'05', 'June':'06', 'July':'07', 'August':'08', 'September':'09',\n",
        "    'october':'10', 'November':'11', 'December':'12'\n",
        "}\n",
        "\n",
        "df_not_canceled['arrival_date_month'] = df_not_canceled['arrival_date_month'].map(month_to_num)\n",
        "\n",
        "# 2. Combining columns to create a single 'arrival_date' column using pandas datetime method\n",
        "df_not_canceled['arrival_date'] = pd.to_datetime(df_not_canceled['arrival_date_year'].astype(str) + '-' +\n",
        "                                                 df_not_canceled['arrival_date_month'].astype(str) + '-' +\n",
        "                                                 df_not_canceled['arrival_date_day_of_month'].astype(str))\n",
        "\n",
        "# print to confirm the addition of column\n",
        "print(df_not_canceled[['arrival_date_year', 'arrival_date_month', 'arrival_date_day_of_month', 'arrival_date']].head())\n",
        "\n",
        "\n",
        "\n"
      ],
      "metadata": {
        "id": "1jsAPXgvSEqg",
        "colab": {
          "base_uri": "https://localhost:8080/",
          "height": 488
        },
        "outputId": "a2fc3962-d439-42eb-c734-355e9ca79d62"
      },
      "execution_count": 25,
      "outputs": [
        {
          "output_type": "error",
          "ename": "ParserError",
          "evalue": "ignored",
          "traceback": [
            "\u001b[0;31m---------------------------------------------------------------------------\u001b[0m",
            "\u001b[0;31mParserError\u001b[0m                               Traceback (most recent call last)",
            "\u001b[0;32m/usr/local/lib/python3.10/dist-packages/pandas/_libs/tslib.pyx\u001b[0m in \u001b[0;36mpandas._libs.tslib.array_to_datetime\u001b[0;34m()\u001b[0m\n",
            "\u001b[0;32m/usr/local/lib/python3.10/dist-packages/pandas/_libs/tslibs/parsing.pyx\u001b[0m in \u001b[0;36mpandas._libs.tslibs.parsing.parse_datetime_string\u001b[0;34m()\u001b[0m\n",
            "\u001b[0;32m/usr/local/lib/python3.10/dist-packages/dateutil/parser/_parser.py\u001b[0m in \u001b[0;36mparse\u001b[0;34m(timestr, parserinfo, **kwargs)\u001b[0m\n\u001b[1;32m   1367\u001b[0m     \u001b[0;32melse\u001b[0m\u001b[0;34m:\u001b[0m\u001b[0;34m\u001b[0m\u001b[0;34m\u001b[0m\u001b[0m\n\u001b[0;32m-> 1368\u001b[0;31m         \u001b[0;32mreturn\u001b[0m \u001b[0mDEFAULTPARSER\u001b[0m\u001b[0;34m.\u001b[0m\u001b[0mparse\u001b[0m\u001b[0;34m(\u001b[0m\u001b[0mtimestr\u001b[0m\u001b[0;34m,\u001b[0m \u001b[0;34m**\u001b[0m\u001b[0mkwargs\u001b[0m\u001b[0;34m)\u001b[0m\u001b[0;34m\u001b[0m\u001b[0;34m\u001b[0m\u001b[0m\n\u001b[0m\u001b[1;32m   1369\u001b[0m \u001b[0;34m\u001b[0m\u001b[0m\n",
            "\u001b[0;32m/usr/local/lib/python3.10/dist-packages/dateutil/parser/_parser.py\u001b[0m in \u001b[0;36mparse\u001b[0;34m(self, timestr, default, ignoretz, tzinfos, **kwargs)\u001b[0m\n\u001b[1;32m    642\u001b[0m         \u001b[0;32mif\u001b[0m \u001b[0mres\u001b[0m \u001b[0;32mis\u001b[0m \u001b[0;32mNone\u001b[0m\u001b[0;34m:\u001b[0m\u001b[0;34m\u001b[0m\u001b[0;34m\u001b[0m\u001b[0m\n\u001b[0;32m--> 643\u001b[0;31m             \u001b[0;32mraise\u001b[0m \u001b[0mParserError\u001b[0m\u001b[0;34m(\u001b[0m\u001b[0;34m\"Unknown string format: %s\"\u001b[0m\u001b[0;34m,\u001b[0m \u001b[0mtimestr\u001b[0m\u001b[0;34m)\u001b[0m\u001b[0;34m\u001b[0m\u001b[0;34m\u001b[0m\u001b[0m\n\u001b[0m\u001b[1;32m    644\u001b[0m \u001b[0;34m\u001b[0m\u001b[0m\n",
            "\u001b[0;31mParserError\u001b[0m: Unknown string format: 2015-nan-1",
            "\nDuring handling of the above exception, another exception occurred:\n",
            "\u001b[0;31mTypeError\u001b[0m                                 Traceback (most recent call last)",
            "\u001b[0;32m/usr/local/lib/python3.10/dist-packages/pandas/_libs/tslib.pyx\u001b[0m in \u001b[0;36mpandas._libs.tslib.array_to_datetime\u001b[0;34m()\u001b[0m\n",
            "\u001b[0;31mTypeError\u001b[0m: invalid string coercion to datetime for \"2015-nan-1\" at position 92",
            "\nDuring handling of the above exception, another exception occurred:\n",
            "\u001b[0;31mParserError\u001b[0m                               Traceback (most recent call last)",
            "\u001b[0;32m<ipython-input-25-63b453d7ce99>\u001b[0m in \u001b[0;36m<cell line: 13>\u001b[0;34m()\u001b[0m\n\u001b[1;32m     11\u001b[0m \u001b[0;34m\u001b[0m\u001b[0m\n\u001b[1;32m     12\u001b[0m \u001b[0;31m# 2. Combining columns to create a single 'arrival_date' column using pandas datetime method\u001b[0m\u001b[0;34m\u001b[0m\u001b[0;34m\u001b[0m\u001b[0m\n\u001b[0;32m---> 13\u001b[0;31m df_not_canceled['arrival_date'] = pd.to_datetime(df_not_canceled['arrival_date_year'].astype(str) + '-' + \n\u001b[0m\u001b[1;32m     14\u001b[0m                                                  \u001b[0mdf_not_canceled\u001b[0m\u001b[0;34m[\u001b[0m\u001b[0;34m'arrival_date_month'\u001b[0m\u001b[0;34m]\u001b[0m\u001b[0;34m.\u001b[0m\u001b[0mastype\u001b[0m\u001b[0;34m(\u001b[0m\u001b[0mstr\u001b[0m\u001b[0;34m)\u001b[0m \u001b[0;34m+\u001b[0m \u001b[0;34m'-'\u001b[0m \u001b[0;34m+\u001b[0m\u001b[0;34m\u001b[0m\u001b[0;34m\u001b[0m\u001b[0m\n\u001b[1;32m     15\u001b[0m                                                  df_not_canceled['arrival_date_day_of_month'].astype(str))\n",
            "\u001b[0;32m/usr/local/lib/python3.10/dist-packages/pandas/core/tools/datetimes.py\u001b[0m in \u001b[0;36mto_datetime\u001b[0;34m(arg, errors, dayfirst, yearfirst, utc, format, exact, unit, infer_datetime_format, origin, cache)\u001b[0m\n\u001b[1;32m   1062\u001b[0m                 \u001b[0mresult\u001b[0m \u001b[0;34m=\u001b[0m \u001b[0marg\u001b[0m\u001b[0;34m.\u001b[0m\u001b[0mtz_localize\u001b[0m\u001b[0;34m(\u001b[0m\u001b[0mtz\u001b[0m\u001b[0;34m)\u001b[0m\u001b[0;34m\u001b[0m\u001b[0;34m\u001b[0m\u001b[0m\n\u001b[1;32m   1063\u001b[0m     \u001b[0;32melif\u001b[0m \u001b[0misinstance\u001b[0m\u001b[0;34m(\u001b[0m\u001b[0marg\u001b[0m\u001b[0;34m,\u001b[0m \u001b[0mABCSeries\u001b[0m\u001b[0;34m)\u001b[0m\u001b[0;34m:\u001b[0m\u001b[0;34m\u001b[0m\u001b[0;34m\u001b[0m\u001b[0m\n\u001b[0;32m-> 1064\u001b[0;31m         \u001b[0mcache_array\u001b[0m \u001b[0;34m=\u001b[0m \u001b[0m_maybe_cache\u001b[0m\u001b[0;34m(\u001b[0m\u001b[0marg\u001b[0m\u001b[0;34m,\u001b[0m \u001b[0mformat\u001b[0m\u001b[0;34m,\u001b[0m \u001b[0mcache\u001b[0m\u001b[0;34m,\u001b[0m \u001b[0mconvert_listlike\u001b[0m\u001b[0;34m)\u001b[0m\u001b[0;34m\u001b[0m\u001b[0;34m\u001b[0m\u001b[0m\n\u001b[0m\u001b[1;32m   1065\u001b[0m         \u001b[0;32mif\u001b[0m \u001b[0;32mnot\u001b[0m \u001b[0mcache_array\u001b[0m\u001b[0;34m.\u001b[0m\u001b[0mempty\u001b[0m\u001b[0;34m:\u001b[0m\u001b[0;34m\u001b[0m\u001b[0;34m\u001b[0m\u001b[0m\n\u001b[1;32m   1066\u001b[0m             \u001b[0mresult\u001b[0m \u001b[0;34m=\u001b[0m \u001b[0marg\u001b[0m\u001b[0;34m.\u001b[0m\u001b[0mmap\u001b[0m\u001b[0;34m(\u001b[0m\u001b[0mcache_array\u001b[0m\u001b[0;34m)\u001b[0m\u001b[0;34m\u001b[0m\u001b[0;34m\u001b[0m\u001b[0m\n",
            "\u001b[0;32m/usr/local/lib/python3.10/dist-packages/pandas/core/tools/datetimes.py\u001b[0m in \u001b[0;36m_maybe_cache\u001b[0;34m(arg, format, cache, convert_listlike)\u001b[0m\n\u001b[1;32m    227\u001b[0m         \u001b[0munique_dates\u001b[0m \u001b[0;34m=\u001b[0m \u001b[0munique\u001b[0m\u001b[0;34m(\u001b[0m\u001b[0marg\u001b[0m\u001b[0;34m)\u001b[0m\u001b[0;34m\u001b[0m\u001b[0;34m\u001b[0m\u001b[0m\n\u001b[1;32m    228\u001b[0m         \u001b[0;32mif\u001b[0m \u001b[0mlen\u001b[0m\u001b[0;34m(\u001b[0m\u001b[0munique_dates\u001b[0m\u001b[0;34m)\u001b[0m \u001b[0;34m<\u001b[0m \u001b[0mlen\u001b[0m\u001b[0;34m(\u001b[0m\u001b[0marg\u001b[0m\u001b[0;34m)\u001b[0m\u001b[0;34m:\u001b[0m\u001b[0;34m\u001b[0m\u001b[0;34m\u001b[0m\u001b[0m\n\u001b[0;32m--> 229\u001b[0;31m             \u001b[0mcache_dates\u001b[0m \u001b[0;34m=\u001b[0m \u001b[0mconvert_listlike\u001b[0m\u001b[0;34m(\u001b[0m\u001b[0munique_dates\u001b[0m\u001b[0;34m,\u001b[0m \u001b[0mformat\u001b[0m\u001b[0;34m)\u001b[0m\u001b[0;34m\u001b[0m\u001b[0;34m\u001b[0m\u001b[0m\n\u001b[0m\u001b[1;32m    230\u001b[0m             \u001b[0;31m# GH#45319\u001b[0m\u001b[0;34m\u001b[0m\u001b[0;34m\u001b[0m\u001b[0m\n\u001b[1;32m    231\u001b[0m             \u001b[0;32mtry\u001b[0m\u001b[0;34m:\u001b[0m\u001b[0;34m\u001b[0m\u001b[0;34m\u001b[0m\u001b[0m\n",
            "\u001b[0;32m/usr/local/lib/python3.10/dist-packages/pandas/core/tools/datetimes.py\u001b[0m in \u001b[0;36m_convert_listlike_datetimes\u001b[0;34m(arg, format, name, tz, unit, errors, infer_datetime_format, dayfirst, yearfirst, exact)\u001b[0m\n\u001b[1;32m    436\u001b[0m     \u001b[0;32massert\u001b[0m \u001b[0mformat\u001b[0m \u001b[0;32mis\u001b[0m \u001b[0;32mNone\u001b[0m \u001b[0;32mor\u001b[0m \u001b[0minfer_datetime_format\u001b[0m\u001b[0;34m\u001b[0m\u001b[0;34m\u001b[0m\u001b[0m\n\u001b[1;32m    437\u001b[0m     \u001b[0mutc\u001b[0m \u001b[0;34m=\u001b[0m \u001b[0mtz\u001b[0m \u001b[0;34m==\u001b[0m \u001b[0;34m\"utc\"\u001b[0m\u001b[0;34m\u001b[0m\u001b[0;34m\u001b[0m\u001b[0m\n\u001b[0;32m--> 438\u001b[0;31m     result, tz_parsed = objects_to_datetime64ns(\n\u001b[0m\u001b[1;32m    439\u001b[0m         \u001b[0marg\u001b[0m\u001b[0;34m,\u001b[0m\u001b[0;34m\u001b[0m\u001b[0;34m\u001b[0m\u001b[0m\n\u001b[1;32m    440\u001b[0m         \u001b[0mdayfirst\u001b[0m\u001b[0;34m=\u001b[0m\u001b[0mdayfirst\u001b[0m\u001b[0;34m,\u001b[0m\u001b[0;34m\u001b[0m\u001b[0;34m\u001b[0m\u001b[0m\n",
            "\u001b[0;32m/usr/local/lib/python3.10/dist-packages/pandas/core/arrays/datetimes.py\u001b[0m in \u001b[0;36mobjects_to_datetime64ns\u001b[0;34m(data, dayfirst, yearfirst, utc, errors, require_iso8601, allow_object, allow_mixed)\u001b[0m\n\u001b[1;32m   2175\u001b[0m     \u001b[0morder\u001b[0m\u001b[0;34m:\u001b[0m \u001b[0mLiteral\u001b[0m\u001b[0;34m[\u001b[0m\u001b[0;34m\"F\"\u001b[0m\u001b[0;34m,\u001b[0m \u001b[0;34m\"C\"\u001b[0m\u001b[0;34m]\u001b[0m \u001b[0;34m=\u001b[0m \u001b[0;34m\"F\"\u001b[0m \u001b[0;32mif\u001b[0m \u001b[0mflags\u001b[0m\u001b[0;34m.\u001b[0m\u001b[0mf_contiguous\u001b[0m \u001b[0;32melse\u001b[0m \u001b[0;34m\"C\"\u001b[0m\u001b[0;34m\u001b[0m\u001b[0;34m\u001b[0m\u001b[0m\n\u001b[1;32m   2176\u001b[0m     \u001b[0;32mtry\u001b[0m\u001b[0;34m:\u001b[0m\u001b[0;34m\u001b[0m\u001b[0;34m\u001b[0m\u001b[0m\n\u001b[0;32m-> 2177\u001b[0;31m         result, tz_parsed = tslib.array_to_datetime(\n\u001b[0m\u001b[1;32m   2178\u001b[0m             \u001b[0mdata\u001b[0m\u001b[0;34m.\u001b[0m\u001b[0mravel\u001b[0m\u001b[0;34m(\u001b[0m\u001b[0;34m\"K\"\u001b[0m\u001b[0;34m)\u001b[0m\u001b[0;34m,\u001b[0m\u001b[0;34m\u001b[0m\u001b[0;34m\u001b[0m\u001b[0m\n\u001b[1;32m   2179\u001b[0m             \u001b[0merrors\u001b[0m\u001b[0;34m=\u001b[0m\u001b[0merrors\u001b[0m\u001b[0;34m,\u001b[0m\u001b[0;34m\u001b[0m\u001b[0;34m\u001b[0m\u001b[0m\n",
            "\u001b[0;32m/usr/local/lib/python3.10/dist-packages/pandas/_libs/tslib.pyx\u001b[0m in \u001b[0;36mpandas._libs.tslib.array_to_datetime\u001b[0;34m()\u001b[0m\n",
            "\u001b[0;32m/usr/local/lib/python3.10/dist-packages/pandas/_libs/tslib.pyx\u001b[0m in \u001b[0;36mpandas._libs.tslib.array_to_datetime\u001b[0;34m()\u001b[0m\n",
            "\u001b[0;32m/usr/local/lib/python3.10/dist-packages/pandas/_libs/tslib.pyx\u001b[0m in \u001b[0;36mpandas._libs.tslib._array_to_datetime_object\u001b[0;34m()\u001b[0m\n",
            "\u001b[0;32m/usr/local/lib/python3.10/dist-packages/pandas/_libs/tslib.pyx\u001b[0m in \u001b[0;36mpandas._libs.tslib._array_to_datetime_object\u001b[0;34m()\u001b[0m\n",
            "\u001b[0;32m/usr/local/lib/python3.10/dist-packages/pandas/_libs/tslibs/parsing.pyx\u001b[0m in \u001b[0;36mpandas._libs.tslibs.parsing.parse_datetime_string\u001b[0;34m()\u001b[0m\n",
            "\u001b[0;32m/usr/local/lib/python3.10/dist-packages/dateutil/parser/_parser.py\u001b[0m in \u001b[0;36mparse\u001b[0;34m(timestr, parserinfo, **kwargs)\u001b[0m\n\u001b[1;32m   1366\u001b[0m         \u001b[0;32mreturn\u001b[0m \u001b[0mparser\u001b[0m\u001b[0;34m(\u001b[0m\u001b[0mparserinfo\u001b[0m\u001b[0;34m)\u001b[0m\u001b[0;34m.\u001b[0m\u001b[0mparse\u001b[0m\u001b[0;34m(\u001b[0m\u001b[0mtimestr\u001b[0m\u001b[0;34m,\u001b[0m \u001b[0;34m**\u001b[0m\u001b[0mkwargs\u001b[0m\u001b[0;34m)\u001b[0m\u001b[0;34m\u001b[0m\u001b[0;34m\u001b[0m\u001b[0m\n\u001b[1;32m   1367\u001b[0m     \u001b[0;32melse\u001b[0m\u001b[0;34m:\u001b[0m\u001b[0;34m\u001b[0m\u001b[0;34m\u001b[0m\u001b[0m\n\u001b[0;32m-> 1368\u001b[0;31m         \u001b[0;32mreturn\u001b[0m \u001b[0mDEFAULTPARSER\u001b[0m\u001b[0;34m.\u001b[0m\u001b[0mparse\u001b[0m\u001b[0;34m(\u001b[0m\u001b[0mtimestr\u001b[0m\u001b[0;34m,\u001b[0m \u001b[0;34m**\u001b[0m\u001b[0mkwargs\u001b[0m\u001b[0;34m)\u001b[0m\u001b[0;34m\u001b[0m\u001b[0;34m\u001b[0m\u001b[0m\n\u001b[0m\u001b[1;32m   1369\u001b[0m \u001b[0;34m\u001b[0m\u001b[0m\n\u001b[1;32m   1370\u001b[0m \u001b[0;34m\u001b[0m\u001b[0m\n",
            "\u001b[0;32m/usr/local/lib/python3.10/dist-packages/dateutil/parser/_parser.py\u001b[0m in \u001b[0;36mparse\u001b[0;34m(self, timestr, default, ignoretz, tzinfos, **kwargs)\u001b[0m\n\u001b[1;32m    641\u001b[0m \u001b[0;34m\u001b[0m\u001b[0m\n\u001b[1;32m    642\u001b[0m         \u001b[0;32mif\u001b[0m \u001b[0mres\u001b[0m \u001b[0;32mis\u001b[0m \u001b[0;32mNone\u001b[0m\u001b[0;34m:\u001b[0m\u001b[0;34m\u001b[0m\u001b[0;34m\u001b[0m\u001b[0m\n\u001b[0;32m--> 643\u001b[0;31m             \u001b[0;32mraise\u001b[0m \u001b[0mParserError\u001b[0m\u001b[0;34m(\u001b[0m\u001b[0;34m\"Unknown string format: %s\"\u001b[0m\u001b[0;34m,\u001b[0m \u001b[0mtimestr\u001b[0m\u001b[0;34m)\u001b[0m\u001b[0;34m\u001b[0m\u001b[0;34m\u001b[0m\u001b[0m\n\u001b[0m\u001b[1;32m    644\u001b[0m \u001b[0;34m\u001b[0m\u001b[0m\n\u001b[1;32m    645\u001b[0m         \u001b[0;32mif\u001b[0m \u001b[0mlen\u001b[0m\u001b[0;34m(\u001b[0m\u001b[0mres\u001b[0m\u001b[0;34m)\u001b[0m \u001b[0;34m==\u001b[0m \u001b[0;36m0\u001b[0m\u001b[0;34m:\u001b[0m\u001b[0;34m\u001b[0m\u001b[0;34m\u001b[0m\u001b[0m\n",
            "\u001b[0;31mParserError\u001b[0m: Unknown string format: 2015-nan-1 present at position 92"
          ]
        }
      ]
    },
    {
      "cell_type": "markdown",
      "source": [
        "Question 7A: Create a new dataframe that contains the date of arrival and the number of reservations arriving on that particular day. Sort that dataframe by number of daily reservations, from highest to lowest. Display the first 20 rows of the dataframe. (2.5 points)"
      ],
      "metadata": {
        "id": "wCEFmRbpSFSQ"
      }
    },
    {
      "cell_type": "code",
      "source": [],
      "metadata": {
        "id": "OrvuKNbmTFXS"
      },
      "execution_count": null,
      "outputs": []
    },
    {
      "cell_type": "markdown",
      "source": [
        "Question 7B: Visualize the data from Question 7A as a line plot. (2.5 points)"
      ],
      "metadata": {
        "id": "ypSdByW2TFqf"
      }
    },
    {
      "cell_type": "code",
      "source": [],
      "metadata": {
        "id": "3DxG3XxNTGIy"
      },
      "execution_count": null,
      "outputs": []
    },
    {
      "cell_type": "markdown",
      "source": [
        "Question 8A: What is the average daily reservation rate by hotel and customer type? Print your results in a dataframe and display all rows. (2.5 points)"
      ],
      "metadata": {
        "id": "u_CuvlIFTZSR"
      }
    },
    {
      "cell_type": "code",
      "source": [],
      "metadata": {
        "id": "KVSsGBa2T9_f"
      },
      "execution_count": null,
      "outputs": []
    },
    {
      "cell_type": "markdown",
      "source": [
        "Question 8B: Plot the dataframe from Question 8A as a boxplot. (2.5 points)"
      ],
      "metadata": {
        "id": "NgqgAadgT-SQ"
      }
    },
    {
      "cell_type": "code",
      "source": [],
      "metadata": {
        "id": "501sT4wcUCWP"
      },
      "execution_count": null,
      "outputs": []
    },
    {
      "cell_type": "markdown",
      "source": [
        "Question 9A: Import the \"Country Codes and Coordinates\" spreadsheet into your environment, and merge it with your filtered dataset from Question 4. Display the top 10 countries by number of reservations. (2.5 points)"
      ],
      "metadata": {
        "id": "TgjoeJbBVpxt"
      }
    },
    {
      "cell_type": "code",
      "source": [],
      "metadata": {
        "id": "mqhBuPc4XLAj"
      },
      "execution_count": null,
      "outputs": []
    },
    {
      "cell_type": "markdown",
      "source": [
        "Question 9B: Visualize the data from Question 9A as a horizontal bar plot. (2.5 points)"
      ],
      "metadata": {
        "id": "Zg37PX1mXLS7"
      }
    },
    {
      "cell_type": "code",
      "source": [],
      "metadata": {
        "id": "uTRDywQ1XgT8"
      },
      "execution_count": null,
      "outputs": []
    },
    {
      "cell_type": "markdown",
      "source": [
        "Question 10A: How many guests (including children and babies) are present on the average reservation? (2.5 points)"
      ],
      "metadata": {
        "id": "2Dr1gH-2Xgyk"
      }
    },
    {
      "cell_type": "code",
      "source": [],
      "metadata": {
        "id": "vdwLL0TeZReS"
      },
      "execution_count": null,
      "outputs": []
    },
    {
      "cell_type": "markdown",
      "source": [
        "Question 10B: True or False - Hotels below the equator have a higher average number of guests on reservations. (2.5 points)"
      ],
      "metadata": {
        "id": "yh2fpXOSZR6Q"
      }
    },
    {
      "cell_type": "code",
      "source": [],
      "metadata": {
        "id": "yN0KK_2taIaB"
      },
      "execution_count": null,
      "outputs": []
    }
  ]
}