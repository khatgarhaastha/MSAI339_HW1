{
  "nbformat": 4,
  "nbformat_minor": 0,
  "metadata": {
    "colab": {
      "provenance": [],
      "include_colab_link": true
    },
    "kernelspec": {
      "name": "python3",
      "display_name": "Python 3"
    },
    "language_info": {
      "name": "python"
    }
  },
  "cells": [
    {
      "cell_type": "markdown",
      "metadata": {
        "id": "view-in-github",
        "colab_type": "text"
      },
      "source": [
        "<a href=\"https://colab.research.google.com/github/khatgarhaastha/MSAI339_HW1/blob/main/Aastha_Khatgarh_MSAI339_HW1.ipynb\" target=\"_parent\"><img src=\"https://colab.research.google.com/assets/colab-badge.svg\" alt=\"Open In Colab\"/></a>"
      ]
    },
    {
      "cell_type": "markdown",
      "source": [
        "**Homework 1**\n",
        "\n",
        "The purpose of Homework 1 is to use Python to perform data analysis to solve some business questions related to a hotels business.<br>\n",
        "<br>\n"
      ],
      "metadata": {
        "id": "zYdezS2t-rls"
      }
    },
    {
      "cell_type": "markdown",
      "source": [
        "Some useful libraries - more could be necessary"
      ],
      "metadata": {
        "id": "PjeUHa3O-2Ty"
      }
    },
    {
      "cell_type": "code",
      "execution_count": 26,
      "metadata": {
        "id": "2ivsWzG5-m2Q"
      },
      "outputs": [],
      "source": [
        "import pandas as pd #used for data manipulatoin and analysis, particularly tables\n",
        "import matplotlib.pyplot as plt #Basic plotting library\n",
        "import seaborn as sns #Build on matplotlib, provides visually appealing plots\n",
        "import numpy as np #For numerical computations\n",
        "import re #commonly used for string matching, search and manipulation operations"
      ]
    },
    {
      "cell_type": "markdown",
      "source": [
        "Question 0: Import the hotels data into your environment, and generate a unique ID.\n",
        "\n"
      ],
      "metadata": {
        "id": "BQ18bJv8_SDr"
      }
    },
    {
      "cell_type": "markdown",
      "source": [
        "**Adding id as a unique identifier**"
      ],
      "metadata": {
        "id": "H7Hnm2wVDCLw"
      }
    },
    {
      "cell_type": "code",
      "source": [
        "from IPython.core.display import display, HTML # For dataframe styling purpose\n",
        "\n",
        "\n",
        "df = pd.read_csv('hotel_data.csv') #Loading data from csv file into a pandas dataframe 'df'\n",
        "df['id'] = df.index + 1 # Adding an id colums which starts from 1 and increments for each row\n",
        "\n",
        "cols = list(df.columns) # checking the position of id column\n",
        "cols = ['id'] + [col for col in cols if col != 'id'] # Reordering the list\n",
        "df = df.reindex(columns = cols) # Reindex the dataframe to reorder the columns\n",
        "\n",
        "l = list(df.columns)\n",
        "print('Total columns including id:', len(l))\n",
        "print('List of columns in hotel_data.csv file:', l, \"\\n\\n\")\n",
        "\n",
        "# Below is the python function that utilizes HTML to style dataframe\n",
        "def styled_df(df):\n",
        "    # Use the .to_html() DataFrame method to get an HTML table\n",
        "    table = df.to_html(index=False)\n",
        "\n",
        "    # Add style with CSS\n",
        "    table = table.replace('<table', '<table style=\"font-size: 80%;\"')\n",
        "\n",
        "    # Display the HTML object\n",
        "    display(HTML(table))\n",
        "\n",
        "styled_df( df.head())\n"
      ],
      "metadata": {
        "id": "tUu8TavY_Rwz",
        "colab": {
          "base_uri": "https://localhost:8080/",
          "height": 329
        },
        "outputId": "933c2d73-b76e-49a7-dcf6-8eac2b090256"
      },
      "execution_count": 27,
      "outputs": [
        {
          "output_type": "stream",
          "name": "stdout",
          "text": [
            "Total columns including id: 33\n",
            "List of columns in hotel_data.csv file: ['id', 'hotel', 'is_canceled', 'lead_time', 'arrival_date_year', 'arrival_date_month', 'arrival_date_week_number', 'arrival_date_day_of_month', 'stays_in_weekend_nights', 'stays_in_week_nights', 'adults', 'children', 'babies', 'meal', 'country', 'market_segment', 'distribution_channel', 'is_repeated_guest', 'previous_cancellations', 'previous_bookings_not_canceled', 'reserved_room_type', 'assigned_room_type', 'booking_changes', 'deposit_type', 'agent', 'company', 'days_in_waiting_list', 'customer_type', 'adr', 'required_car_parking_spaces', 'total_of_special_requests', 'reservation_status', 'reservation_status_date'] \n",
            "\n",
            "\n"
          ]
        },
        {
          "output_type": "display_data",
          "data": {
            "text/plain": [
              "<IPython.core.display.HTML object>"
            ],
            "text/html": [
              "<table style=\"font-size: 80%;\" border=\"1\" class=\"dataframe\">\n",
              "  <thead>\n",
              "    <tr style=\"text-align: right;\">\n",
              "      <th></th>\n",
              "      <th>id</th>\n",
              "      <th>hotel</th>\n",
              "      <th>is_canceled</th>\n",
              "      <th>lead_time</th>\n",
              "      <th>arrival_date_year</th>\n",
              "      <th>arrival_date_month</th>\n",
              "      <th>arrival_date_week_number</th>\n",
              "      <th>arrival_date_day_of_month</th>\n",
              "      <th>stays_in_weekend_nights</th>\n",
              "      <th>stays_in_week_nights</th>\n",
              "      <th>adults</th>\n",
              "      <th>children</th>\n",
              "      <th>babies</th>\n",
              "      <th>meal</th>\n",
              "      <th>country</th>\n",
              "      <th>market_segment</th>\n",
              "      <th>distribution_channel</th>\n",
              "      <th>is_repeated_guest</th>\n",
              "      <th>previous_cancellations</th>\n",
              "      <th>previous_bookings_not_canceled</th>\n",
              "      <th>reserved_room_type</th>\n",
              "      <th>assigned_room_type</th>\n",
              "      <th>booking_changes</th>\n",
              "      <th>deposit_type</th>\n",
              "      <th>agent</th>\n",
              "      <th>company</th>\n",
              "      <th>days_in_waiting_list</th>\n",
              "      <th>customer_type</th>\n",
              "      <th>adr</th>\n",
              "      <th>required_car_parking_spaces</th>\n",
              "      <th>total_of_special_requests</th>\n",
              "      <th>reservation_status</th>\n",
              "      <th>reservation_status_date</th>\n",
              "    </tr>\n",
              "  </thead>\n",
              "  <tbody>\n",
              "    <tr>\n",
              "      <th>0</th>\n",
              "      <td>1</td>\n",
              "      <td>Resort Hotel</td>\n",
              "      <td>0</td>\n",
              "      <td>342</td>\n",
              "      <td>2015</td>\n",
              "      <td>July</td>\n",
              "      <td>27</td>\n",
              "      <td>1</td>\n",
              "      <td>0</td>\n",
              "      <td>0</td>\n",
              "      <td>2</td>\n",
              "      <td>0.0</td>\n",
              "      <td>0</td>\n",
              "      <td>BB</td>\n",
              "      <td>PRT</td>\n",
              "      <td>Direct</td>\n",
              "      <td>Direct</td>\n",
              "      <td>0</td>\n",
              "      <td>0</td>\n",
              "      <td>0</td>\n",
              "      <td>C</td>\n",
              "      <td>C</td>\n",
              "      <td>3</td>\n",
              "      <td>No Deposit</td>\n",
              "      <td>NaN</td>\n",
              "      <td>NaN</td>\n",
              "      <td>0</td>\n",
              "      <td>Transient</td>\n",
              "      <td>0.0</td>\n",
              "      <td>0</td>\n",
              "      <td>0</td>\n",
              "      <td>Check-Out</td>\n",
              "      <td>2015-07-01</td>\n",
              "    </tr>\n",
              "    <tr>\n",
              "      <th>1</th>\n",
              "      <td>2</td>\n",
              "      <td>Resort Hotel</td>\n",
              "      <td>0</td>\n",
              "      <td>737</td>\n",
              "      <td>2015</td>\n",
              "      <td>July</td>\n",
              "      <td>27</td>\n",
              "      <td>1</td>\n",
              "      <td>0</td>\n",
              "      <td>0</td>\n",
              "      <td>2</td>\n",
              "      <td>0.0</td>\n",
              "      <td>0</td>\n",
              "      <td>BB</td>\n",
              "      <td>PRT</td>\n",
              "      <td>Direct</td>\n",
              "      <td>Direct</td>\n",
              "      <td>0</td>\n",
              "      <td>0</td>\n",
              "      <td>0</td>\n",
              "      <td>C</td>\n",
              "      <td>C</td>\n",
              "      <td>4</td>\n",
              "      <td>No Deposit</td>\n",
              "      <td>NaN</td>\n",
              "      <td>NaN</td>\n",
              "      <td>0</td>\n",
              "      <td>Transient</td>\n",
              "      <td>0.0</td>\n",
              "      <td>0</td>\n",
              "      <td>0</td>\n",
              "      <td>Check-Out</td>\n",
              "      <td>2015-07-01</td>\n",
              "    </tr>\n",
              "    <tr>\n",
              "      <th>2</th>\n",
              "      <td>3</td>\n",
              "      <td>Resort Hotel</td>\n",
              "      <td>0</td>\n",
              "      <td>7</td>\n",
              "      <td>2015</td>\n",
              "      <td>July</td>\n",
              "      <td>27</td>\n",
              "      <td>1</td>\n",
              "      <td>0</td>\n",
              "      <td>1</td>\n",
              "      <td>1</td>\n",
              "      <td>0.0</td>\n",
              "      <td>0</td>\n",
              "      <td>BB</td>\n",
              "      <td>GBR</td>\n",
              "      <td>Direct</td>\n",
              "      <td>Direct</td>\n",
              "      <td>0</td>\n",
              "      <td>0</td>\n",
              "      <td>0</td>\n",
              "      <td>A</td>\n",
              "      <td>C</td>\n",
              "      <td>0</td>\n",
              "      <td>No Deposit</td>\n",
              "      <td>NaN</td>\n",
              "      <td>NaN</td>\n",
              "      <td>0</td>\n",
              "      <td>Transient</td>\n",
              "      <td>75.0</td>\n",
              "      <td>0</td>\n",
              "      <td>0</td>\n",
              "      <td>Check-Out</td>\n",
              "      <td>2015-07-02</td>\n",
              "    </tr>\n",
              "    <tr>\n",
              "      <th>3</th>\n",
              "      <td>4</td>\n",
              "      <td>Resort Hotel</td>\n",
              "      <td>0</td>\n",
              "      <td>13</td>\n",
              "      <td>2015</td>\n",
              "      <td>July</td>\n",
              "      <td>27</td>\n",
              "      <td>1</td>\n",
              "      <td>0</td>\n",
              "      <td>1</td>\n",
              "      <td>1</td>\n",
              "      <td>0.0</td>\n",
              "      <td>0</td>\n",
              "      <td>BB</td>\n",
              "      <td>GBR</td>\n",
              "      <td>Corporate</td>\n",
              "      <td>Corporate</td>\n",
              "      <td>0</td>\n",
              "      <td>0</td>\n",
              "      <td>0</td>\n",
              "      <td>A</td>\n",
              "      <td>A</td>\n",
              "      <td>0</td>\n",
              "      <td>No Deposit</td>\n",
              "      <td>304.0</td>\n",
              "      <td>NaN</td>\n",
              "      <td>0</td>\n",
              "      <td>Transient</td>\n",
              "      <td>75.0</td>\n",
              "      <td>0</td>\n",
              "      <td>0</td>\n",
              "      <td>Check-Out</td>\n",
              "      <td>2015-07-02</td>\n",
              "    </tr>\n",
              "    <tr>\n",
              "      <th>4</th>\n",
              "      <td>5</td>\n",
              "      <td>Resort Hotel</td>\n",
              "      <td>0</td>\n",
              "      <td>14</td>\n",
              "      <td>2015</td>\n",
              "      <td>July</td>\n",
              "      <td>27</td>\n",
              "      <td>1</td>\n",
              "      <td>0</td>\n",
              "      <td>2</td>\n",
              "      <td>2</td>\n",
              "      <td>0.0</td>\n",
              "      <td>0</td>\n",
              "      <td>BB</td>\n",
              "      <td>GBR</td>\n",
              "      <td>Online TA</td>\n",
              "      <td>TA/TO</td>\n",
              "      <td>0</td>\n",
              "      <td>0</td>\n",
              "      <td>0</td>\n",
              "      <td>A</td>\n",
              "      <td>A</td>\n",
              "      <td>0</td>\n",
              "      <td>No Deposit</td>\n",
              "      <td>240.0</td>\n",
              "      <td>NaN</td>\n",
              "      <td>0</td>\n",
              "      <td>Transient</td>\n",
              "      <td>98.0</td>\n",
              "      <td>0</td>\n",
              "      <td>1</td>\n",
              "      <td>Check-Out</td>\n",
              "      <td>2015-07-03</td>\n",
              "    </tr>\n",
              "  </tbody>\n",
              "</table>"
            ]
          },
          "metadata": {}
        }
      ]
    },
    {
      "cell_type": "markdown",
      "source": [
        "Question 1: Create a function that displays the data type, number and percentage of null values, and number of unique values for each column of a given dataframe. (5 points)"
      ],
      "metadata": {
        "id": "5G4RTMihAUwt"
      }
    },
    {
      "cell_type": "code",
      "source": [
        "def analyze_dataframe(df):\n",
        "    # Initialize an empty DataFrame to store the results\n",
        "    analysis = pd.DataFrame()\n",
        "\n",
        "    # Column names for the new DataFrame\n",
        "    analysis['Column Name'] = df.columns\n",
        "    analysis['Data Type'] = [df[col].dtype for col in df.columns]\n",
        "    analysis['Number of Nulls'] = [df[col].isna().sum() for col in df.columns]\n",
        "    analysis['% of Nulls'] = [(df[col].isna().sum() / df.shape[0]) * 100 for col in df.columns]\n",
        "    analysis['Number of Unique Values'] = [df[col].nunique() for col in df.columns]\n",
        "\n",
        "    return analysis\n",
        "analysis_result = analyze_dataframe(df)\n",
        "styled_df(analysis_result) # print the styled dataframe using function 'def styled_df(df)'"
      ],
      "metadata": {
        "id": "BrKaWzS5BKVB",
        "colab": {
          "base_uri": "https://localhost:8080/",
          "height": 871
        },
        "outputId": "72b6089c-c9bf-44bd-d69f-43a711f6789f"
      },
      "execution_count": 37,
      "outputs": [
        {
          "output_type": "display_data",
          "data": {
            "text/plain": [
              "<IPython.core.display.HTML object>"
            ],
            "text/html": [
              "<table style=\"font-size: 80%;\" border=\"1\" class=\"dataframe\">\n",
              "  <thead>\n",
              "    <tr style=\"text-align: right;\">\n",
              "      <th></th>\n",
              "      <th>Column Name</th>\n",
              "      <th>Data Type</th>\n",
              "      <th>Number of Nulls</th>\n",
              "      <th>% of Nulls</th>\n",
              "      <th>Number of Unique Values</th>\n",
              "    </tr>\n",
              "  </thead>\n",
              "  <tbody>\n",
              "    <tr>\n",
              "      <th>0</th>\n",
              "      <td>id</td>\n",
              "      <td>int64</td>\n",
              "      <td>0</td>\n",
              "      <td>0.000000</td>\n",
              "      <td>119390</td>\n",
              "    </tr>\n",
              "    <tr>\n",
              "      <th>1</th>\n",
              "      <td>hotel</td>\n",
              "      <td>object</td>\n",
              "      <td>0</td>\n",
              "      <td>0.000000</td>\n",
              "      <td>2</td>\n",
              "    </tr>\n",
              "    <tr>\n",
              "      <th>2</th>\n",
              "      <td>is_canceled</td>\n",
              "      <td>int64</td>\n",
              "      <td>0</td>\n",
              "      <td>0.000000</td>\n",
              "      <td>2</td>\n",
              "    </tr>\n",
              "    <tr>\n",
              "      <th>3</th>\n",
              "      <td>lead_time</td>\n",
              "      <td>int64</td>\n",
              "      <td>0</td>\n",
              "      <td>0.000000</td>\n",
              "      <td>479</td>\n",
              "    </tr>\n",
              "    <tr>\n",
              "      <th>4</th>\n",
              "      <td>arrival_date_year</td>\n",
              "      <td>int64</td>\n",
              "      <td>0</td>\n",
              "      <td>0.000000</td>\n",
              "      <td>3</td>\n",
              "    </tr>\n",
              "    <tr>\n",
              "      <th>5</th>\n",
              "      <td>arrival_date_month</td>\n",
              "      <td>object</td>\n",
              "      <td>0</td>\n",
              "      <td>0.000000</td>\n",
              "      <td>12</td>\n",
              "    </tr>\n",
              "    <tr>\n",
              "      <th>6</th>\n",
              "      <td>arrival_date_week_number</td>\n",
              "      <td>int64</td>\n",
              "      <td>0</td>\n",
              "      <td>0.000000</td>\n",
              "      <td>53</td>\n",
              "    </tr>\n",
              "    <tr>\n",
              "      <th>7</th>\n",
              "      <td>arrival_date_day_of_month</td>\n",
              "      <td>int64</td>\n",
              "      <td>0</td>\n",
              "      <td>0.000000</td>\n",
              "      <td>31</td>\n",
              "    </tr>\n",
              "    <tr>\n",
              "      <th>8</th>\n",
              "      <td>stays_in_weekend_nights</td>\n",
              "      <td>int64</td>\n",
              "      <td>0</td>\n",
              "      <td>0.000000</td>\n",
              "      <td>17</td>\n",
              "    </tr>\n",
              "    <tr>\n",
              "      <th>9</th>\n",
              "      <td>stays_in_week_nights</td>\n",
              "      <td>int64</td>\n",
              "      <td>0</td>\n",
              "      <td>0.000000</td>\n",
              "      <td>35</td>\n",
              "    </tr>\n",
              "    <tr>\n",
              "      <th>10</th>\n",
              "      <td>adults</td>\n",
              "      <td>int64</td>\n",
              "      <td>0</td>\n",
              "      <td>0.000000</td>\n",
              "      <td>14</td>\n",
              "    </tr>\n",
              "    <tr>\n",
              "      <th>11</th>\n",
              "      <td>children</td>\n",
              "      <td>float64</td>\n",
              "      <td>4</td>\n",
              "      <td>0.003350</td>\n",
              "      <td>5</td>\n",
              "    </tr>\n",
              "    <tr>\n",
              "      <th>12</th>\n",
              "      <td>babies</td>\n",
              "      <td>int64</td>\n",
              "      <td>0</td>\n",
              "      <td>0.000000</td>\n",
              "      <td>5</td>\n",
              "    </tr>\n",
              "    <tr>\n",
              "      <th>13</th>\n",
              "      <td>meal</td>\n",
              "      <td>object</td>\n",
              "      <td>0</td>\n",
              "      <td>0.000000</td>\n",
              "      <td>5</td>\n",
              "    </tr>\n",
              "    <tr>\n",
              "      <th>14</th>\n",
              "      <td>country</td>\n",
              "      <td>object</td>\n",
              "      <td>488</td>\n",
              "      <td>0.408744</td>\n",
              "      <td>177</td>\n",
              "    </tr>\n",
              "    <tr>\n",
              "      <th>15</th>\n",
              "      <td>market_segment</td>\n",
              "      <td>object</td>\n",
              "      <td>0</td>\n",
              "      <td>0.000000</td>\n",
              "      <td>8</td>\n",
              "    </tr>\n",
              "    <tr>\n",
              "      <th>16</th>\n",
              "      <td>distribution_channel</td>\n",
              "      <td>object</td>\n",
              "      <td>0</td>\n",
              "      <td>0.000000</td>\n",
              "      <td>5</td>\n",
              "    </tr>\n",
              "    <tr>\n",
              "      <th>17</th>\n",
              "      <td>is_repeated_guest</td>\n",
              "      <td>int64</td>\n",
              "      <td>0</td>\n",
              "      <td>0.000000</td>\n",
              "      <td>2</td>\n",
              "    </tr>\n",
              "    <tr>\n",
              "      <th>18</th>\n",
              "      <td>previous_cancellations</td>\n",
              "      <td>int64</td>\n",
              "      <td>0</td>\n",
              "      <td>0.000000</td>\n",
              "      <td>15</td>\n",
              "    </tr>\n",
              "    <tr>\n",
              "      <th>19</th>\n",
              "      <td>previous_bookings_not_canceled</td>\n",
              "      <td>int64</td>\n",
              "      <td>0</td>\n",
              "      <td>0.000000</td>\n",
              "      <td>73</td>\n",
              "    </tr>\n",
              "    <tr>\n",
              "      <th>20</th>\n",
              "      <td>reserved_room_type</td>\n",
              "      <td>object</td>\n",
              "      <td>0</td>\n",
              "      <td>0.000000</td>\n",
              "      <td>10</td>\n",
              "    </tr>\n",
              "    <tr>\n",
              "      <th>21</th>\n",
              "      <td>assigned_room_type</td>\n",
              "      <td>object</td>\n",
              "      <td>0</td>\n",
              "      <td>0.000000</td>\n",
              "      <td>12</td>\n",
              "    </tr>\n",
              "    <tr>\n",
              "      <th>22</th>\n",
              "      <td>booking_changes</td>\n",
              "      <td>int64</td>\n",
              "      <td>0</td>\n",
              "      <td>0.000000</td>\n",
              "      <td>21</td>\n",
              "    </tr>\n",
              "    <tr>\n",
              "      <th>23</th>\n",
              "      <td>deposit_type</td>\n",
              "      <td>object</td>\n",
              "      <td>0</td>\n",
              "      <td>0.000000</td>\n",
              "      <td>3</td>\n",
              "    </tr>\n",
              "    <tr>\n",
              "      <th>24</th>\n",
              "      <td>agent</td>\n",
              "      <td>float64</td>\n",
              "      <td>16340</td>\n",
              "      <td>13.686238</td>\n",
              "      <td>333</td>\n",
              "    </tr>\n",
              "    <tr>\n",
              "      <th>25</th>\n",
              "      <td>company</td>\n",
              "      <td>float64</td>\n",
              "      <td>112593</td>\n",
              "      <td>94.306893</td>\n",
              "      <td>352</td>\n",
              "    </tr>\n",
              "    <tr>\n",
              "      <th>26</th>\n",
              "      <td>days_in_waiting_list</td>\n",
              "      <td>int64</td>\n",
              "      <td>0</td>\n",
              "      <td>0.000000</td>\n",
              "      <td>128</td>\n",
              "    </tr>\n",
              "    <tr>\n",
              "      <th>27</th>\n",
              "      <td>customer_type</td>\n",
              "      <td>object</td>\n",
              "      <td>0</td>\n",
              "      <td>0.000000</td>\n",
              "      <td>4</td>\n",
              "    </tr>\n",
              "    <tr>\n",
              "      <th>28</th>\n",
              "      <td>adr</td>\n",
              "      <td>float64</td>\n",
              "      <td>0</td>\n",
              "      <td>0.000000</td>\n",
              "      <td>8879</td>\n",
              "    </tr>\n",
              "    <tr>\n",
              "      <th>29</th>\n",
              "      <td>required_car_parking_spaces</td>\n",
              "      <td>int64</td>\n",
              "      <td>0</td>\n",
              "      <td>0.000000</td>\n",
              "      <td>5</td>\n",
              "    </tr>\n",
              "    <tr>\n",
              "      <th>30</th>\n",
              "      <td>total_of_special_requests</td>\n",
              "      <td>int64</td>\n",
              "      <td>0</td>\n",
              "      <td>0.000000</td>\n",
              "      <td>6</td>\n",
              "    </tr>\n",
              "    <tr>\n",
              "      <th>31</th>\n",
              "      <td>reservation_status</td>\n",
              "      <td>object</td>\n",
              "      <td>0</td>\n",
              "      <td>0.000000</td>\n",
              "      <td>3</td>\n",
              "    </tr>\n",
              "    <tr>\n",
              "      <th>32</th>\n",
              "      <td>reservation_status_date</td>\n",
              "      <td>object</td>\n",
              "      <td>0</td>\n",
              "      <td>0.000000</td>\n",
              "      <td>926</td>\n",
              "    </tr>\n",
              "  </tbody>\n",
              "</table>"
            ]
          },
          "metadata": {}
        }
      ]
    },
    {
      "cell_type": "markdown",
      "source": [
        "Question 2A: Find the total number of visitors who have canceled a reservation. (1.5 points)"
      ],
      "metadata": {
        "id": "gxc7aXBnBR8q"
      }
    },
    {
      "cell_type": "code",
      "source": [
        "total_canceled = df['is_canceled'].sum()\n",
        "print(f\"Total number of visitors who have canceled a reservation: {total_canceled}\")"
      ],
      "metadata": {
        "id": "oKEnh9t0J4KU",
        "colab": {
          "base_uri": "https://localhost:8080/"
        },
        "outputId": "f9c029e5-8821-462d-ed0b-a530d2878afe"
      },
      "execution_count": 38,
      "outputs": [
        {
          "output_type": "stream",
          "name": "stdout",
          "text": [
            "Total number of visitors who have canceled a reservation: 44224\n"
          ]
        }
      ]
    },
    {
      "cell_type": "markdown",
      "source": [
        "Question 2B: Which month has the most cancellations? (1.5 points)"
      ],
      "metadata": {
        "id": "fqSSQVsvJ4zT"
      }
    },
    {
      "cell_type": "code",
      "source": [
        "canceled_reservations = df[df['is_canceled'] == 1]\n",
        "cancellations_by_month = canceled_reservations.groupby('arrival_date_month').size()\n",
        "most_cancellations_month = cancellations_by_month.idmax()\n",
        "most_cancellations_count = cancellations_by_month.max()\n",
        "print(f\"The month with the most cancellations is {most_cancellations_month} with {most_cancellations_count} cancellations.\")\n"
      ],
      "metadata": {
        "id": "lkQI3KbMKyny",
        "colab": {
          "base_uri": "https://localhost:8080/",
          "height": 375
        },
        "outputId": "25ac9e61-fcf6-43e8-992e-607f86c1ee55"
      },
      "execution_count": 39,
      "outputs": [
        {
          "output_type": "error",
          "ename": "AttributeError",
          "evalue": "ignored",
          "traceback": [
            "\u001b[0;31m---------------------------------------------------------------------------\u001b[0m",
            "\u001b[0;31mAttributeError\u001b[0m                            Traceback (most recent call last)",
            "\u001b[0;32m<ipython-input-39-25c9b6ebd2bd>\u001b[0m in \u001b[0;36m<cell line: 3>\u001b[0;34m()\u001b[0m\n\u001b[1;32m      1\u001b[0m \u001b[0mcanceled_reservations\u001b[0m \u001b[0;34m=\u001b[0m \u001b[0mdf\u001b[0m\u001b[0;34m[\u001b[0m\u001b[0mdf\u001b[0m\u001b[0;34m[\u001b[0m\u001b[0;34m'is_canceled'\u001b[0m\u001b[0;34m]\u001b[0m \u001b[0;34m==\u001b[0m \u001b[0;36m1\u001b[0m\u001b[0;34m]\u001b[0m\u001b[0;34m\u001b[0m\u001b[0;34m\u001b[0m\u001b[0m\n\u001b[1;32m      2\u001b[0m \u001b[0mcancellations_by_month\u001b[0m \u001b[0;34m=\u001b[0m \u001b[0mcanceled_reservations\u001b[0m\u001b[0;34m.\u001b[0m\u001b[0mgroupby\u001b[0m\u001b[0;34m(\u001b[0m\u001b[0;34m'arrival_date_month'\u001b[0m\u001b[0;34m)\u001b[0m\u001b[0;34m.\u001b[0m\u001b[0msize\u001b[0m\u001b[0;34m(\u001b[0m\u001b[0;34m)\u001b[0m\u001b[0;34m\u001b[0m\u001b[0;34m\u001b[0m\u001b[0m\n\u001b[0;32m----> 3\u001b[0;31m \u001b[0mmost_cancellations_month\u001b[0m \u001b[0;34m=\u001b[0m \u001b[0mcancellations_by_month\u001b[0m\u001b[0;34m.\u001b[0m\u001b[0midmax\u001b[0m\u001b[0;34m(\u001b[0m\u001b[0;34m)\u001b[0m\u001b[0;34m\u001b[0m\u001b[0;34m\u001b[0m\u001b[0m\n\u001b[0m\u001b[1;32m      4\u001b[0m \u001b[0mmost_cancellations_count\u001b[0m \u001b[0;34m=\u001b[0m \u001b[0mcancellations_by_month\u001b[0m\u001b[0;34m.\u001b[0m\u001b[0mmax\u001b[0m\u001b[0;34m(\u001b[0m\u001b[0;34m)\u001b[0m\u001b[0;34m\u001b[0m\u001b[0;34m\u001b[0m\u001b[0m\n\u001b[1;32m      5\u001b[0m \u001b[0mprint\u001b[0m\u001b[0;34m(\u001b[0m\u001b[0;34mf\"The month with the most cancellations is {most_cancellations_month} with {most_cancellations_count} cancellations.\"\u001b[0m\u001b[0;34m)\u001b[0m\u001b[0;34m\u001b[0m\u001b[0;34m\u001b[0m\u001b[0m\n",
            "\u001b[0;32m/usr/local/lib/python3.10/dist-packages/pandas/core/generic.py\u001b[0m in \u001b[0;36m__getattr__\u001b[0;34m(self, name)\u001b[0m\n\u001b[1;32m   5900\u001b[0m         ):\n\u001b[1;32m   5901\u001b[0m             \u001b[0;32mreturn\u001b[0m \u001b[0mself\u001b[0m\u001b[0;34m[\u001b[0m\u001b[0mname\u001b[0m\u001b[0;34m]\u001b[0m\u001b[0;34m\u001b[0m\u001b[0;34m\u001b[0m\u001b[0m\n\u001b[0;32m-> 5902\u001b[0;31m         \u001b[0;32mreturn\u001b[0m \u001b[0mobject\u001b[0m\u001b[0;34m.\u001b[0m\u001b[0m__getattribute__\u001b[0m\u001b[0;34m(\u001b[0m\u001b[0mself\u001b[0m\u001b[0;34m,\u001b[0m \u001b[0mname\u001b[0m\u001b[0;34m)\u001b[0m\u001b[0;34m\u001b[0m\u001b[0;34m\u001b[0m\u001b[0m\n\u001b[0m\u001b[1;32m   5903\u001b[0m \u001b[0;34m\u001b[0m\u001b[0m\n\u001b[1;32m   5904\u001b[0m     \u001b[0;32mdef\u001b[0m \u001b[0m__setattr__\u001b[0m\u001b[0;34m(\u001b[0m\u001b[0mself\u001b[0m\u001b[0;34m,\u001b[0m \u001b[0mname\u001b[0m\u001b[0;34m:\u001b[0m \u001b[0mstr\u001b[0m\u001b[0;34m,\u001b[0m \u001b[0mvalue\u001b[0m\u001b[0;34m)\u001b[0m \u001b[0;34m->\u001b[0m \u001b[0;32mNone\u001b[0m\u001b[0;34m:\u001b[0m\u001b[0;34m\u001b[0m\u001b[0;34m\u001b[0m\u001b[0m\n",
            "\u001b[0;31mAttributeError\u001b[0m: 'Series' object has no attribute 'idmax'"
          ]
        }
      ]
    },
    {
      "cell_type": "markdown",
      "source": [
        "Question 2C: Plot the number of cancellations per month in a histogram. (2 points)"
      ],
      "metadata": {
        "id": "AtjZACxqLAfY"
      }
    },
    {
      "cell_type": "code",
      "source": [],
      "metadata": {
        "id": "Ytx6uWYPLktP"
      },
      "execution_count": 28,
      "outputs": []
    },
    {
      "cell_type": "markdown",
      "source": [
        "Question 3: Create a function that prints the percentage of canceled reservations for EACH hotel. (5 points)"
      ],
      "metadata": {
        "id": "r27T8t3rLbkK"
      }
    },
    {
      "cell_type": "code",
      "source": [
        "def hotel_cancellations():\n",
        "  pass"
      ],
      "metadata": {
        "id": "liHejMPTMLXO"
      },
      "execution_count": 29,
      "outputs": []
    },
    {
      "cell_type": "markdown",
      "source": [
        "Question 4: Filter the dataset so that it only contains visitors who have not canceled their reservations. Store this dataset as a separate variable (we will be using it going forward). (5 points)"
      ],
      "metadata": {
        "id": "0jvxLvfRMkp2"
      }
    },
    {
      "cell_type": "code",
      "source": [],
      "metadata": {
        "id": "KY3UgXc1MkR-"
      },
      "execution_count": 29,
      "outputs": []
    },
    {
      "cell_type": "markdown",
      "source": [
        "Question 5A: Using the filtered dataset from Question 4, create a plot for each hotel showing the number of reservations for each month of arrival. Draw a conclusion on whether the trend is the same between the two hotels (in a sentence or two). (2.5 points)"
      ],
      "metadata": {
        "id": "IMl_bmdvOHPd"
      }
    },
    {
      "cell_type": "code",
      "source": [
        "\n"
      ],
      "metadata": {
        "id": "mF-_JChKOqRr"
      },
      "execution_count": 29,
      "outputs": []
    },
    {
      "cell_type": "markdown",
      "source": [
        "Conclusion:"
      ],
      "metadata": {
        "id": "wxj8q6bWOqsj"
      }
    },
    {
      "cell_type": "markdown",
      "source": [
        "Question 5B: Using the filtered dataset from Question 4, create a plot for each hotel showing the number of reservations for each month of arrival, delineated by whether or not there are children (or babies) present on the reservation. (2.5 points)"
      ],
      "metadata": {
        "id": "qmldNIjVOtR0"
      }
    },
    {
      "cell_type": "code",
      "source": [],
      "metadata": {
        "id": "Ms-Z8xlGPbJz"
      },
      "execution_count": 29,
      "outputs": []
    },
    {
      "cell_type": "markdown",
      "source": [
        "Question 6: Using the filtered dataset from Question 4, create a single column for \"arrival_date\" that shows the date of arrival in Year-Month-Day format. (5 points)"
      ],
      "metadata": {
        "id": "OWYWSqbLQUzg"
      }
    },
    {
      "cell_type": "code",
      "source": [],
      "metadata": {
        "id": "1jsAPXgvSEqg"
      },
      "execution_count": 29,
      "outputs": []
    },
    {
      "cell_type": "markdown",
      "source": [
        "Question 7A: Create a new dataframe that contains the date of arrival and the number of reservations arriving on that particular day. Sort that dataframe by number of daily reservations, from highest to lowest. Display the first 20 rows of the dataframe. (2.5 points)"
      ],
      "metadata": {
        "id": "wCEFmRbpSFSQ"
      }
    },
    {
      "cell_type": "code",
      "source": [],
      "metadata": {
        "id": "OrvuKNbmTFXS"
      },
      "execution_count": 29,
      "outputs": []
    },
    {
      "cell_type": "markdown",
      "source": [
        "Question 7B: Visualize the data from Question 7A as a line plot. (2.5 points)"
      ],
      "metadata": {
        "id": "ypSdByW2TFqf"
      }
    },
    {
      "cell_type": "code",
      "source": [],
      "metadata": {
        "id": "3DxG3XxNTGIy"
      },
      "execution_count": 29,
      "outputs": []
    },
    {
      "cell_type": "markdown",
      "source": [
        "Question 8A: What is the average daily reservation rate by hotel and customer type? Print your results in a dataframe and display all rows. (2.5 points)"
      ],
      "metadata": {
        "id": "u_CuvlIFTZSR"
      }
    },
    {
      "cell_type": "code",
      "source": [],
      "metadata": {
        "id": "KVSsGBa2T9_f"
      },
      "execution_count": 29,
      "outputs": []
    },
    {
      "cell_type": "markdown",
      "source": [
        "Question 8B: Plot the dataframe from Question 8A as a boxplot. (2.5 points)"
      ],
      "metadata": {
        "id": "NgqgAadgT-SQ"
      }
    },
    {
      "cell_type": "code",
      "source": [],
      "metadata": {
        "id": "501sT4wcUCWP"
      },
      "execution_count": 29,
      "outputs": []
    },
    {
      "cell_type": "markdown",
      "source": [
        "Question 9A: Import the \"Country Codes and Coordinates\" spreadsheet into your environment, and merge it with your filtered dataset from Question 4. Display the top 10 countries by number of reservations. (2.5 points)"
      ],
      "metadata": {
        "id": "TgjoeJbBVpxt"
      }
    },
    {
      "cell_type": "code",
      "source": [],
      "metadata": {
        "id": "mqhBuPc4XLAj"
      },
      "execution_count": 29,
      "outputs": []
    },
    {
      "cell_type": "markdown",
      "source": [
        "Question 9B: Visualize the data from Question 9A as a horizontal bar plot. (2.5 points)"
      ],
      "metadata": {
        "id": "Zg37PX1mXLS7"
      }
    },
    {
      "cell_type": "code",
      "source": [],
      "metadata": {
        "id": "uTRDywQ1XgT8"
      },
      "execution_count": 29,
      "outputs": []
    },
    {
      "cell_type": "markdown",
      "source": [
        "Question 10A: How many guests (including children and babies) are present on the average reservation? (2.5 points)"
      ],
      "metadata": {
        "id": "2Dr1gH-2Xgyk"
      }
    },
    {
      "cell_type": "code",
      "source": [],
      "metadata": {
        "id": "vdwLL0TeZReS"
      },
      "execution_count": 29,
      "outputs": []
    },
    {
      "cell_type": "markdown",
      "source": [
        "Question 10B: True or False - Hotels below the equator have a higher average number of guests on reservations. (2.5 points)"
      ],
      "metadata": {
        "id": "yh2fpXOSZR6Q"
      }
    },
    {
      "cell_type": "code",
      "source": [],
      "metadata": {
        "id": "yN0KK_2taIaB"
      },
      "execution_count": 29,
      "outputs": []
    }
  ]
}